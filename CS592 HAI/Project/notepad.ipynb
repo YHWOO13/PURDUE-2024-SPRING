{
 "cells": [
  {
   "cell_type": "code",
   "execution_count": 2,
   "id": "bba00d82-4ccb-438e-8164-3d67eb1b12f6",
   "metadata": {},
   "outputs": [
    {
     "name": "stdout",
     "output_type": "stream",
     "text": [
      "go\n"
     ]
    }
   ],
   "source": [
    "is_inference = False\n",
    "if not is_inference:\n",
    "    print('go')\n",
    "    "
   ]
  },
  {
   "cell_type": "code",
   "execution_count": null,
   "id": "46798952-c949-42e3-892d-cec8ba8ef26d",
   "metadata": {},
   "outputs": [],
   "source": []
  }
 ],
 "metadata": {
  "kernelspec": {
   "display_name": "Python 3",
   "language": "python",
   "name": "python3"
  },
  "language_info": {
   "codemirror_mode": {
    "name": "ipython",
    "version": 3
   },
   "file_extension": ".py",
   "mimetype": "text/x-python",
   "name": "python",
   "nbconvert_exporter": "python",
   "pygments_lexer": "ipython3",
   "version": "3.8.8"
  }
 },
 "nbformat": 4,
 "nbformat_minor": 5
}
