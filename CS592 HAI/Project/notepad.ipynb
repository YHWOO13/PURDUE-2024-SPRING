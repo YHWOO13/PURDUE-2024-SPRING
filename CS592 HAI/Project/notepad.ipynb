{
 "cells": [
  {
   "cell_type": "code",
   "execution_count": 21,
   "id": "b95d7035-2def-4608-8482-0eb7e8460971",
   "metadata": {},
   "outputs": [],
   "source": [
    "import numpy as np\n",
    "import json\n"
   ]
  },
  {
   "cell_type": "code",
   "execution_count": 2,
   "id": "bba00d82-4ccb-438e-8164-3d67eb1b12f6",
   "metadata": {},
   "outputs": [
    {
     "name": "stdout",
     "output_type": "stream",
     "text": [
      "go\n"
     ]
    }
   ],
   "source": [
    "is_inference = False\n",
    "if not is_inference:\n",
    "    print('go')\n",
    "    "
   ]
  },
  {
   "cell_type": "code",
   "execution_count": 1,
   "id": "7dff5b78-68ee-4205-9705-f5fa02c81434",
   "metadata": {},
   "outputs": [],
   "source": [
    "import gensim.downloader as api\n",
    "\n",
    "w2v_model = api.load('word2vec-google-news-300')\n"
   ]
  },
  {
   "cell_type": "code",
   "execution_count": 7,
   "id": "d1fabddd-aaaa-4ca5-b55e-6fe815a542ea",
   "metadata": {},
   "outputs": [
    {
     "ename": "KeyError",
     "evalue": "\"Key '200' not present\"",
     "output_type": "error",
     "traceback": [
      "\u001b[1;31m---------------------------------------------------------------------------\u001b[0m",
      "\u001b[1;31mKeyError\u001b[0m                                  Traceback (most recent call last)",
      "\u001b[1;32m<ipython-input-7-51ffa2e1ff7f>\u001b[0m in \u001b[0;36m<module>\u001b[1;34m\u001b[0m\n\u001b[1;32m----> 1\u001b[1;33m \u001b[0msim_score\u001b[0m \u001b[1;33m=\u001b[0m \u001b[0mw2v_model\u001b[0m\u001b[1;33m.\u001b[0m\u001b[0msimilarity\u001b[0m\u001b[1;33m(\u001b[0m\u001b[1;34m'200'\u001b[0m\u001b[1;33m,\u001b[0m\u001b[1;34m'general'\u001b[0m\u001b[1;33m)\u001b[0m\u001b[1;33m\u001b[0m\u001b[1;33m\u001b[0m\u001b[0m\n\u001b[0m\u001b[0;32m      2\u001b[0m \u001b[0mprint\u001b[0m\u001b[1;33m(\u001b[0m\u001b[0msim_score\u001b[0m\u001b[1;33m)\u001b[0m\u001b[1;33m\u001b[0m\u001b[1;33m\u001b[0m\u001b[0m\n",
      "\u001b[1;32m~\\anaconda3\\lib\\site-packages\\gensim\\models\\keyedvectors.py\u001b[0m in \u001b[0;36msimilarity\u001b[1;34m(self, w1, w2)\u001b[0m\n\u001b[0;32m   1232\u001b[0m \u001b[1;33m\u001b[0m\u001b[0m\n\u001b[0;32m   1233\u001b[0m         \"\"\"\n\u001b[1;32m-> 1234\u001b[1;33m         \u001b[1;32mreturn\u001b[0m \u001b[0mdot\u001b[0m\u001b[1;33m(\u001b[0m\u001b[0mmatutils\u001b[0m\u001b[1;33m.\u001b[0m\u001b[0munitvec\u001b[0m\u001b[1;33m(\u001b[0m\u001b[0mself\u001b[0m\u001b[1;33m[\u001b[0m\u001b[0mw1\u001b[0m\u001b[1;33m]\u001b[0m\u001b[1;33m)\u001b[0m\u001b[1;33m,\u001b[0m \u001b[0mmatutils\u001b[0m\u001b[1;33m.\u001b[0m\u001b[0munitvec\u001b[0m\u001b[1;33m(\u001b[0m\u001b[0mself\u001b[0m\u001b[1;33m[\u001b[0m\u001b[0mw2\u001b[0m\u001b[1;33m]\u001b[0m\u001b[1;33m)\u001b[0m\u001b[1;33m)\u001b[0m\u001b[1;33m\u001b[0m\u001b[1;33m\u001b[0m\u001b[0m\n\u001b[0m\u001b[0;32m   1235\u001b[0m \u001b[1;33m\u001b[0m\u001b[0m\n\u001b[0;32m   1236\u001b[0m     \u001b[1;32mdef\u001b[0m \u001b[0mn_similarity\u001b[0m\u001b[1;33m(\u001b[0m\u001b[0mself\u001b[0m\u001b[1;33m,\u001b[0m \u001b[0mws1\u001b[0m\u001b[1;33m,\u001b[0m \u001b[0mws2\u001b[0m\u001b[1;33m)\u001b[0m\u001b[1;33m:\u001b[0m\u001b[1;33m\u001b[0m\u001b[1;33m\u001b[0m\u001b[0m\n",
      "\u001b[1;32m~\\anaconda3\\lib\\site-packages\\gensim\\models\\keyedvectors.py\u001b[0m in \u001b[0;36m__getitem__\u001b[1;34m(self, key_or_keys)\u001b[0m\n\u001b[0;32m    401\u001b[0m         \"\"\"\n\u001b[0;32m    402\u001b[0m         \u001b[1;32mif\u001b[0m \u001b[0misinstance\u001b[0m\u001b[1;33m(\u001b[0m\u001b[0mkey_or_keys\u001b[0m\u001b[1;33m,\u001b[0m \u001b[0m_KEY_TYPES\u001b[0m\u001b[1;33m)\u001b[0m\u001b[1;33m:\u001b[0m\u001b[1;33m\u001b[0m\u001b[1;33m\u001b[0m\u001b[0m\n\u001b[1;32m--> 403\u001b[1;33m             \u001b[1;32mreturn\u001b[0m \u001b[0mself\u001b[0m\u001b[1;33m.\u001b[0m\u001b[0mget_vector\u001b[0m\u001b[1;33m(\u001b[0m\u001b[0mkey_or_keys\u001b[0m\u001b[1;33m)\u001b[0m\u001b[1;33m\u001b[0m\u001b[1;33m\u001b[0m\u001b[0m\n\u001b[0m\u001b[0;32m    404\u001b[0m \u001b[1;33m\u001b[0m\u001b[0m\n\u001b[0;32m    405\u001b[0m         \u001b[1;32mreturn\u001b[0m \u001b[0mvstack\u001b[0m\u001b[1;33m(\u001b[0m\u001b[1;33m[\u001b[0m\u001b[0mself\u001b[0m\u001b[1;33m.\u001b[0m\u001b[0mget_vector\u001b[0m\u001b[1;33m(\u001b[0m\u001b[0mkey\u001b[0m\u001b[1;33m)\u001b[0m \u001b[1;32mfor\u001b[0m \u001b[0mkey\u001b[0m \u001b[1;32min\u001b[0m \u001b[0mkey_or_keys\u001b[0m\u001b[1;33m]\u001b[0m\u001b[1;33m)\u001b[0m\u001b[1;33m\u001b[0m\u001b[1;33m\u001b[0m\u001b[0m\n",
      "\u001b[1;32m~\\anaconda3\\lib\\site-packages\\gensim\\models\\keyedvectors.py\u001b[0m in \u001b[0;36mget_vector\u001b[1;34m(self, key, norm)\u001b[0m\n\u001b[0;32m    444\u001b[0m \u001b[1;33m\u001b[0m\u001b[0m\n\u001b[0;32m    445\u001b[0m         \"\"\"\n\u001b[1;32m--> 446\u001b[1;33m         \u001b[0mindex\u001b[0m \u001b[1;33m=\u001b[0m \u001b[0mself\u001b[0m\u001b[1;33m.\u001b[0m\u001b[0mget_index\u001b[0m\u001b[1;33m(\u001b[0m\u001b[0mkey\u001b[0m\u001b[1;33m)\u001b[0m\u001b[1;33m\u001b[0m\u001b[1;33m\u001b[0m\u001b[0m\n\u001b[0m\u001b[0;32m    447\u001b[0m         \u001b[1;32mif\u001b[0m \u001b[0mnorm\u001b[0m\u001b[1;33m:\u001b[0m\u001b[1;33m\u001b[0m\u001b[1;33m\u001b[0m\u001b[0m\n\u001b[0;32m    448\u001b[0m             \u001b[0mself\u001b[0m\u001b[1;33m.\u001b[0m\u001b[0mfill_norms\u001b[0m\u001b[1;33m(\u001b[0m\u001b[1;33m)\u001b[0m\u001b[1;33m\u001b[0m\u001b[1;33m\u001b[0m\u001b[0m\n",
      "\u001b[1;32m~\\anaconda3\\lib\\site-packages\\gensim\\models\\keyedvectors.py\u001b[0m in \u001b[0;36mget_index\u001b[1;34m(self, key, default)\u001b[0m\n\u001b[0;32m    418\u001b[0m             \u001b[1;32mreturn\u001b[0m \u001b[0mdefault\u001b[0m\u001b[1;33m\u001b[0m\u001b[1;33m\u001b[0m\u001b[0m\n\u001b[0;32m    419\u001b[0m         \u001b[1;32melse\u001b[0m\u001b[1;33m:\u001b[0m\u001b[1;33m\u001b[0m\u001b[1;33m\u001b[0m\u001b[0m\n\u001b[1;32m--> 420\u001b[1;33m             \u001b[1;32mraise\u001b[0m \u001b[0mKeyError\u001b[0m\u001b[1;33m(\u001b[0m\u001b[1;34mf\"Key '{key}' not present\"\u001b[0m\u001b[1;33m)\u001b[0m\u001b[1;33m\u001b[0m\u001b[1;33m\u001b[0m\u001b[0m\n\u001b[0m\u001b[0;32m    421\u001b[0m \u001b[1;33m\u001b[0m\u001b[0m\n\u001b[0;32m    422\u001b[0m     \u001b[1;32mdef\u001b[0m \u001b[0mget_vector\u001b[0m\u001b[1;33m(\u001b[0m\u001b[0mself\u001b[0m\u001b[1;33m,\u001b[0m \u001b[0mkey\u001b[0m\u001b[1;33m,\u001b[0m \u001b[0mnorm\u001b[0m\u001b[1;33m=\u001b[0m\u001b[1;32mFalse\u001b[0m\u001b[1;33m)\u001b[0m\u001b[1;33m:\u001b[0m\u001b[1;33m\u001b[0m\u001b[1;33m\u001b[0m\u001b[0m\n",
      "\u001b[1;31mKeyError\u001b[0m: \"Key '200' not present\""
     ]
    }
   ],
   "source": [
    "sim_score = w2v_model.similarity('200','general')\n",
    "print(sim_score)"
   ]
  },
  {
   "cell_type": "code",
   "execution_count": 3,
   "id": "46798952-c949-42e3-892d-cec8ba8ef26d",
   "metadata": {},
   "outputs": [],
   "source": [
    "all_entities_one_hop_1 = [11782, 2063, 15887, 5651, 14872, 21532, 3100, 1056, 34, 12322, 14379, 1580, 5685, 6204, 20039, 1615, 14928, 1621, 7257, 14940, 8810, 20599, 14971, 6281, 18580, 5270, 8854, 16033, 12964, 1190, 1704, 16042, 3249, 8372, 8890, 7358, 20158, 20160, 10433, 7366, 14538, 8920, 4828, 13534, 5859, 20717, 14061, 7407, 4851, 19707, 10491, 766, 11008, 7939, 7427, 9482, 269, 1807, 20754, 15127, 16664, 17688, 282, 21789, 1826, 11573, 13111, 6969, 12606, 14660, 13127, 14663, 20814, 4953, 1882, 13163, 2924, 3949, 7547, 5501, 7550, 382, 2432, 19844, 2437, 5519, 17808, 5013, 22422, 11674, 433, 12218, 18367, 18368, 6081, 18371, 963, 21446, 16331, 21455, 16338, 16375, 9174, 19422, 21485, 17902, 12276, 6647, 4607]"
   ]
  },
  {
   "cell_type": "code",
   "execution_count": 16,
   "id": "9c2e5eb4-4886-4918-a88e-e78cf60d5a12",
   "metadata": {},
   "outputs": [
    {
     "name": "stdout",
     "output_type": "stream",
     "text": [
      "126\n"
     ]
    }
   ],
   "source": [
    "all_entities_one_hop_2=[20994, 3078, 7189, 6678, 9752, 3609, 21023, 15904, 14379, 15413, 4154, 20026, 16957, 17985, 12866, 1606, 20039, 14409, 15433, 13385, 19031, 20571, 16988, 21601, 14950, 11879, 18025, 6253, 5232, 2681, 18042, 14971, 14462, 659, 17564, 16028, 19107, 8360, 5800, 20650, 10419, 1722, 11450, 5825, 19142, 14538, 13003, 6349, 14042, 17116, 12509, 12514, 12515, 19685, 21737, 17645, 14062, 12529, 4851, 6391, 1280, 7939, 1798, 8967, 14599, 1802, 2826, 1807, 17685, 18713, 2846, 8488, 3880, 3882, 21803, 4402, 11582, 10558, 6976, 20289, 16196, 4932, 9548, 16205, 9552, 6491, 8545, 10083, 7523, 5478, 16744, 362, 1394, 9075, 13684, 13182, 21894, 19351, 14236, 3487, 14247, 14760, 6055, 942, 9136, 18869, 12218, 12731, 18366, 19390, 18368, 1472, 2001, 2002, 14801, 11729, 19423, 14304, 13796, 18405, 3557, 13804, 2541, 11761, 3571, 19958]\n",
    "print(len(all_entities_one_hop_2))"
   ]
  },
  {
   "cell_type": "code",
   "execution_count": 15,
   "id": "54127525-550d-4552-8cf6-6b753f62c853",
   "metadata": {},
   "outputs": [
    {
     "name": "stdout",
     "output_type": "stream",
     "text": [
      "407\n"
     ]
    }
   ],
   "source": [
    "all_triples_one_hop = [2052, 55302, 51222, 26658, 61475, 57388, 16443, 86077, 30782, 110665, 112715, 22604, 34895, 43092, 14428, 110689, 67682, 36969, 45165, 112750, 100471, 14455, 6265, 30853, 82054, 98440, 65674, 73881, 92315, 49312, 41122, 37029, 16571, 28862, 92360, 55496, 2252, 49357, 88279, 116954, 47327, 61671, 108784, 59635, 88309, 20730, 47363, 102660, 98573, 78094, 14617, 59673, 2335, 45350, 31015, 55599, 71989, 86355, 16726, 51558, 84329, 78188, 90481, 33141, 63873, 18818, 70035, 102808, 29086, 104871, 111027, 80309, 39355, 10691, 39375, 473, 76256, 102880, 66018, 35306, 2549, 92661, 100861, 49663, 102917, 49672, 2571, 119313, 4626, 29212, 10786, 27174, 70183, 55851, 119341, 86575, 6707, 90685, 82495, 35394, 23111, 10831, 601, 33373, 53858, 76398, 86646, 60035, 105094, 27278, 2732, 76462, 82614, 109252, 2757, 39635, 109268, 41690, 99034, 103133, 101088, 76513, 23266, 66283, 8947, 70391, 99069, 29445, 56070, 109317, 29448, 84752, 17170, 70419, 31513, 90915, 119597, 19247, 13112, 68415, 103237, 66375, 76616, 76623, 90963, 853, 35670, 4963, 41828, 54131, 13178, 64379, 111487, 103301, 64393, 60300, 109453, 25488, 29584, 39832, 74653, 58270, 86944, 25509, 66477, 7098, 72635, 109508, 99270, 52167, 99278, 117713, 48087, 84952, 46042, 48091, 25573, 89064, 5098, 48108, 64493, 19442, 52217, 37884, 84992, 107521, 33793, 15363, 27655, 109576, 117770, 39946, 37901, 21527, 15392, 1062, 76839, 85046, 111672, 107578, 31806, 101454, 40021, 5208, 62555, 17500, 117886, 64642, 107651, 13452, 107666, 93336, 81052, 52384, 25771, 60590, 109742, 83124, 101561, 64701, 42173, 91333, 44247, 36063, 77026, 21733, 25831, 60654, 68854, 23804, 40208, 54545, 120082, 79125, 103702, 52505, 54554, 89371, 60704, 27938, 13605, 9510, 120115, 93496, 111931, 101698, 95562, 21835, 66892, 66904, 38236, 48477, 30045, 54622, 52579, 5478, 77170, 32118, 30077, 101758, 81280, 120194, 105866, 46474, 109971, 11671, 15768, 116121, 52636, 99752, 28079, 40373, 81335, 73147, 17858, 89538, 11717, 44488, 105930, 38350, 7633, 118235, 114146, 97763, 77284, 34275, 5607, 60906, 7661, 62964, 15860, 9720, 44548, 91655, 75275, 7694, 120347, 58907, 77348, 28197, 32296, 28202, 120372, 77375, 30272, 40513, 104003, 77380, 61000, 75338, 44621, 15953, 65105, 15966, 30303, 52832, 9830, 95852, 83566, 101999, 104046, 102011, 7806, 75398, 13962, 108173, 73365, 81564, 120480, 75436, 93871, 34480, 71346, 16051, 5812, 5817, 28351, 79554, 22212, 77511, 75464, 24269, 108241, 7890, 46803, 63185, 83669, 108246, 7891, 30420, 55000, 9950, 87778, 63209, 1771, 1776, 24305, 100084, 22261, 38646, 38649, 24322, 83719, 24327, 26375, 120591, 26386, 112421, 116519, 5929, 53035, 22315, 59187, 110389, 30530, 44867, 48965, 51023, 44881, 61288, 46961, 24438, 40843, 100236, 110479, 44948, 87958, 100260, 24499, 26552, 51129, 83905, 108483, 75720, 16330, 51150, 14290, 14291, 4053, 92124, 45030, 94183, 12265, 55273, 96237, 20476, 28670]\n",
    "print(len(all_triples_one_hop))"
   ]
  },
  {
   "cell_type": "code",
   "execution_count": 14,
   "id": "c628a4ec-0198-4b2e-8f2b-c19347bfbd81",
   "metadata": {},
   "outputs": [
    {
     "name": "stdout",
     "output_type": "stream",
     "text": [
      "121\n"
     ]
    }
   ],
   "source": [
    "one_two_triple = [[115331, 58257, 15699, 47833, 19004], [], [23048], [], [3099, 14668], [41543], [117696, 93697, 101090, 21357, 57110, 79327], [94817, 65797, 5704, 20621, 114477, 95727, 64915, 45141, 43927, 23962, 117567], [], [73225], [], [100017, 120269, 87111], [17937, 91538, 34782], [], [28899, 87271, 102857, 5649, 110257, 55089, 101044, 81466], [], [81880, 92115, 73188], [95538, 116570, 22623], [], [8129, 114979, 54716, 40481], [108216], [108960, 75410, 71911], [], [], [93764, 103069, 22889, 110444, 105971, 89109, 14141], [13790], [94665, 120722, 75787, 58590], [111266, 7619, 44259, 95271, 104712, 108746, 108939, 49038, 116946, 26901, 31255, 33880, 11226, 14520], [117909, 87128, 61593, 16250, 16027, 82653, 98238, 14111], [27268, 3172, 2893, 113310], [28753], [], [], [62816, 24274, 115374], [73296, 63173], [], [118937, 120055, 10534, 18745], [52723], [54914, 59238, 81099, 15982, 89023], [63152, 74330, 34730], [116165], [17558], [], [99, 85219, 52227, 6921, 58826, 22798, 73172, 79061, 106102, 11672, 46809, 3547, 90460], [93210, 67533, 88974, 9677, 110355, 66646, 52632, 56698], [86084, 48581, 11402, 1973, 45886], [58888], [108650, 60527], [], [4382, 34083, 72359, 29227, 111231, 76561, 66833, 108214, 52734, 9343], [67489, 26124], [], [7680, 11264, 19315], [], [20373], [17819, 68140], [29130, 111172, 9750], [87201, 18014, 9651, 118420, 40982, 52508, 50942], [], [39329, 85235, 105503], [3523, 85092, 51012, 20579, 71472, 102964, 40058], [], [79464, 42102], [], [61362, 2204, 38679], [115922, 114183, 48367], [57408, 17377, 26248, 103436, 57233, 78899, 23603, 104023, 46207], [71990, 64465, 112870, 40382], [115144], [29211, 16598], [93174, 69585, 50563, 84750], [], [120641, 7409, 88802, 39468], [], [94041, 59889], [], [60948, 56990], [], [3349], [], [67660, 71025, 120791, 7315, 112983, 20921], [90152, 35945, 109738, 682, 38412, 8661, 39093, 50751], [], [32992, 60132, 46557], [32729, 70598], [49762, 61192, 19849, 18194, 91031, 30109], [], [44064, 95001, 52599], [], [104163, 11528, 16910, 77071, 117903, 119353], [27719, 46761, 80654, 61713, 108307, 56790], [], [66421], [], [94477], [78304, 35105, 40101, 1166, 105747, 38035, 56347, 112348, 71325], [], [51378], [], [81383, 113353, 5673, 84557, 34705, 15510, 85879], [89830], [74465, 104965, 24620, 72556, 22414, 14321, 27255, 113790, 106749, 19646], [], [31456, 13634, 119718, 79816, 82829, 56974, 70351, 106448, 80758, 103895, 108892, 45661], [9347], [8292, 70829, 35996, 22235, 37148, 115133, 58302], [120260, 51407], [109920, 52665, 18135], [93565, 61, 13630], [96547, 48487, 49808, 87028, 26202, 19450, 62], [72608, 44352, 22049, 22788, 17233, 118394], [115601, 60860, 14838], [91840, 49903, 9779, 82490, 57724], [34537, 33968, 37912, 50075, 27358], [27553, 68659, 73469], [], [94941, 23646], [38659, 110279, 49419, 1516, 67225], [], [30977, 69273, 14647], [34597, 29801, 33965, 73742, 112470, 54104]]\n",
    "print(len(one_two_triple))"
   ]
  },
  {
   "cell_type": "code",
   "execution_count": 19,
   "id": "829261a2-9747-46f1-a972-f0ad82f06b92",
   "metadata": {},
   "outputs": [
    {
     "name": "stdout",
     "output_type": "stream",
     "text": [
      "361\n"
     ]
    }
   ],
   "source": [
    "count = 0\n",
    "for i in one_two_triple:\n",
    "    for j in i:\n",
    "        count = count + 1\n",
    "print(count)"
   ]
  },
  {
   "cell_type": "code",
   "execution_count": 17,
   "id": "585c9c14-77c4-485c-8494-63fae7b7aa71",
   "metadata": {},
   "outputs": [
    {
     "name": "stdout",
     "output_type": "stream",
     "text": [
      "2\n"
     ]
    }
   ],
   "source": [
    "eg = [[115331, 58257, 15699, 47833, 19004], []]\n",
    "print(len(eg))"
   ]
  },
  {
   "cell_type": "code",
   "execution_count": 7,
   "id": "7a11b188-021a-4f1a-9e1a-0184d3ab5251",
   "metadata": {},
   "outputs": [
    {
     "data": {
      "text/plain": [
       "array([   34,   269,   282,   382,   433,   766,   963,  1056,  1190,\n",
       "        1580,  1615,  1621,  1704,  1807,  1826,  1882,  2063,  2432,\n",
       "        2437,  2924,  3100,  3249,  3949,  4607,  4828,  4851,  4953,\n",
       "        5013,  5270,  5501,  5519,  5651,  5685,  5859,  6081,  6204,\n",
       "        6281,  6647,  6969,  7257,  7358,  7366,  7407,  7427,  7547,\n",
       "        7550,  7939,  8372,  8810,  8854,  8890,  8920,  9174,  9482,\n",
       "       10433, 10491, 11008, 11573, 11674, 11782, 12218, 12276, 12322,\n",
       "       12606, 12964, 13111, 13127, 13163, 13534, 14061, 14379, 14538,\n",
       "       14660, 14663, 14872, 14928, 14940, 14971, 15127, 15887, 16033,\n",
       "       16042, 16331, 16338, 16375, 16664, 17688, 17808, 17902, 18367,\n",
       "       18368, 18371, 18580, 19422, 19707, 19844, 20039, 20158, 20160,\n",
       "       20599, 20717, 20754, 20814, 21446, 21455, 21485, 21532, 21789,\n",
       "       22422])"
      ]
     },
     "execution_count": 7,
     "metadata": {},
     "output_type": "execute_result"
    }
   ],
   "source": [
    "np.sort(all_entities_one_hop_1)"
   ]
  },
  {
   "cell_type": "code",
   "execution_count": null,
   "id": "d1f5a1a3-05b5-444a-b1e5-e972f12cc071",
   "metadata": {},
   "outputs": [],
   "source": [
    "# Example dictionary\n",
    "dict_csk_entities = {'chicago': 123, 'new york': 456}\n",
    "\n",
    "post_entities = ['comet', 'sky', 'felt', 'cowboys', 'shoot', 'celestial', 'shooters']\n",
    "tmp_pair = ['deaf', 'comet']\n",
    "tee = ' comet'\n",
    "print(tee.lstrip())\n",
    "print(tee)\n",
    "entity = 'comet'\n",
    "testt = []\n",
    "# Check if both entities in tmp_pair are not in post_entities\n",
    "if tmp_pair[0] not in post_entities and tmp_pair[1] not in post_entities:\n",
    "    # Check if tmp_pair[1] exists in the dictionary\n",
    "    if tmp_pair[1] in dict_csk_entities:\n",
    "        num = dict_csk_entities[tmp_pair[1]]\n",
    "        testt.append(num)\n",
    "    else:\n",
    "        # If not found, handle it accordingly\n",
    "        print(f\"Entity '{tmp_pair[1]}' not found in dict_csk_entities.\")\n",
    "else:\n",
    "    # Handle the case where one or both entities are in post_entities\n",
    "    print(\"At least one entity is in post_entities.\")\n",
    "\n",
    "print(num)  # Print num if it's defined\n",
    "print(testt)"
   ]
  },
  {
   "cell_type": "code",
   "execution_count": 10,
   "id": "2cfebd99-0853-4d59-b972-de4cace10fe5",
   "metadata": {},
   "outputs": [
    {
     "name": "stdout",
     "output_type": "stream",
     "text": [
      "126\n"
     ]
    }
   ],
   "source": [
    "print(len(all_entities_one_hop_2))"
   ]
  },
  {
   "cell_type": "code",
   "execution_count": 12,
   "id": "0e5c74d0-d07f-460b-9636-ab1bf590bb8c",
   "metadata": {},
   "outputs": [
    {
     "name": "stdout",
     "output_type": "stream",
     "text": [
      "100\n",
      "100\n"
     ]
    }
   ],
   "source": [
    "only_two =[20643, 19516, 8809, 3971, 701, 5613, 3075, 3698, 9828, 13861, 22254, 13180, 21845, 7737, 18628, 14817, 18399, 7547, 1185, 21235, 9487, 7519, 4366, 1917, 1714, 14549, 1038, 13027, 13468, 602, 8928, 7831, 6765, 2747, 15164, 15054, 19326, 14861, 15394, 7303, 19072, 13639, 20572, 7550, 1857, 5013, 8513, 11445, 20227, 2312, 14904, 22278, 10605, 13505, 6093, 18017, 2063, 17964, 14371, 2142, 11640, 8412, 13903, 5036, 4097, 21239, 5174, 3775, 5999, 6353, 8428, 2037, 16822, 76, 13534, 19707, 5658, 9956, 1621, 14505, 3152, 8234, 9996, 16900, 22476, 14928, 13031, 14660, 1704, 15013, 4866, 6647, 18110, 742, 21002, 5651, 1086, 8902, 2344, 12237]\n",
    "print(len(only_two))\n",
    "only_two2 = [16110, 3698, 7435, 6253, 11640, 4012, 21002, 7303, 3075, 1974, 20643, 6093, 9956, 11956, 7376, 12060, 76, 13385, 13126, 13003, 6349, 2312, 9907, 19926, 14505, 8699, 12529, 5036, 21601, 18405, 1021, 13903, 15223, 9752, 13180, 4866, 20572, 2143, 5678, 16762, 6717, 13667, 8428, 20650, 18436, 14062, 22025, 1038, 14599, 10188, 3614, 15449, 5403, 18897, 14247, 14085, 13448, 9596, 6491, 1185, 11727, 15649, 10552, 7737, 15715, 14615, 189, 18042, 6314, 932, 17964, 1086, 7831, 19390, 3971, 4128, 18887, 9996, 8902, 20571, 4802, 2018, 15904, 7346, 5174, 16900, 19958, 18017, 2581, 21433, 701, 3078, 10983, 2629, 1050, 8545, 9828, 1802, 14248, 13505]\n",
    "print(len(only_two2))"
   ]
  },
  {
   "cell_type": "code",
   "execution_count": 27,
   "id": "5fccee6b-d075-417a-8431-c55d5d49a053",
   "metadata": {},
   "outputs": [
    {
     "name": "stdout",
     "output_type": "stream",
     "text": [
      "407\n"
     ]
    }
   ],
   "source": [
    "print(len(all_triples_one_hop))"
   ]
  },
  {
   "cell_type": "code",
   "execution_count": 10,
   "id": "f7209d46-0fb1-4d56-ae4c-d62735475ba8",
   "metadata": {},
   "outputs": [
    {
     "name": "stdout",
     "output_type": "stream",
     "text": [
      "126\n"
     ]
    }
   ],
   "source": [
    "print(len(all_entities_one_hop_2))"
   ]
  },
  {
   "cell_type": "code",
   "execution_count": 13,
   "id": "958bdf02-553e-4b0a-8761-b30944b4012e",
   "metadata": {},
   "outputs": [],
   "source": [
    "is_inference = None\n",
    "if is_inference != None:\n",
    "    print('go')\n",
    "    "
   ]
  },
  {
   "cell_type": "code",
   "execution_count": 22,
   "id": "02a25030-a832-4af8-b136-345c023a54f3",
   "metadata": {},
   "outputs": [
    {
     "name": "stdout",
     "output_type": "stream",
     "text": [
      "entities set()\n",
      "triples []\n",
      "entities {'é', 'es', 'ei_ole', 'どす', 'є', \"she'sn't\", 'en_1', 'r', 'е', 'と言うのは', 'infinite_stratos', 'has', 'mura', 'expensive', 'e', '3', 'está', 'jeste', 'inar', 'これはなんですか', 'ドス', 'cérb', 'trínarb', 'tabansızsa', 'αληθώσ_ανέστη', 'ist', 'evse', 'ialah', 'يكون', 'beeth', 'yw', \"it's\", '𐌹𐍃𐍄', 'being', 'isness', 'ειναι', 'だ', '是', 'wast', 'thì', 'nĩ', 'v', 'зарем', 'n', 'ってのは', 'oes', 'id', 'isentropic', 'じゃ', 'je', 'です', 'computing', 'ónar', 'IS_(Infinite_Stratos)', 'qu_est_ce_que_c_est', 'átʼéii', 'bes', 'jest', 'er', '𐬀𐬯𐬙𐬌', 'bilgisayarsa', 'ما_هذا', 'でげす', 'sta', 'found_in_subway', 'adalah', 'ざり', 'で御座います', 'っす', 'is', \"who's\", 'már_késő_van', 'a', 'で御座ります', 'いらっしゃる', \"where's\", 'dar', 'beest', 'でごんす', 'єстъ', 'ada_apa', 'your+name+is+mud-p#Component-3'}\n",
      "triples [('どす', 'Synonym', 'is'), ('n', 'Synonym', 'is'), ('en_1', 'RelatedTo', 'is'), ('ざり', 'Synonym', 'is'), ('is', 'Synonym', 'jest'), ('ドス', 'Synonym', 'is'), ('いらっしゃる', 'Synonym', 'is'), ('is', 'Synonym', 'jeste'), ('v', 'Synonym', 'is'), ('ってのは', 'Synonym', 'is'), ('でごんす', 'Synonym', 'is'), ('だ', 'Synonym', 'is'), ('3', 'Synonym', 'is'), ('でげす', 'Synonym', 'is'), ('っす', 'Synonym', 'is'), ('で御座ります', 'Synonym', 'is'), ('is', 'Synonym', 'je'), ('で御座います', 'Synonym', 'is'), ('です', 'Synonym', 'is'), ('n', 'HasContext', 'computing'), ('と言うのは', 'Synonym', 'is'), ('v', 'Synonym', 'is'), ('is', 'Synonym', '是'), ('átʼéii', 'RelatedTo', 'is'), ('bilgisayarsa', 'RelatedTo', 'is'), ('is', 'Synonym', 'je'), ('is', 'Synonym', '𐌹𐍃𐍄'), ('már_késő_van', 'RelatedTo', 'is'), ('is', 'DerivedFrom', 'n'), ('is', 'Synonym', 'thì'), ('ei_ole', 'RelatedTo', 'is'), ('これはなんですか', 'RelatedTo', 'is'), ('beeth', 'RelatedTo', 'is'), ('v', 'RelatedTo', 'is'), ('is', 'Synonym', 'oes'), (\"where's\", 'RelatedTo', 'is'), ('r', 'RelatedTo', 'is'), ('is', 'CapableOf', 'found_in_subway'), ('зарем', 'RelatedTo', 'is'), ('r', 'RelatedTo', 'is'), ('ónar', 'RelatedTo', 'is'), ('wast', 'RelatedTo', 'is'), ('is', 'Synonym', 'es'), ('is', 'Synonym', 'is'), ('tabansızsa', 'RelatedTo', 'is'), ('isentropic', 'DerivedFrom', 'is'), (\"it's\", 'RelatedTo', 'is'), ('is', 'Synonym', 'bes'), ('ialah', 'RelatedTo', 'is'), ('is', 'Synonym', 'يكون'), ('v', 'RelatedTo', 'is'), ('is', 'Synonym', 'じゃ'), (\"she'sn't\", 'RelatedTo', 'is'), ('infinite_stratos', 'ExternalURL', 'IS_(Infinite_Stratos)'), ('a', 'RelatedTo', 'is'), ('ada_apa', 'RelatedTo', 'is'), ('n', 'RelatedTo', 'is'), ('is', 'Synonym', 'е'), ('is', 'Synonym', 'está'), ('trínarb', 'RelatedTo', 'is'), ('id', 'Synonym', 'is'), ('evse', 'RelatedTo', 'is'), ('is', 'Synonym', 'e'), ('is', 'Synonym', 'er'), ('being', 'RelatedTo', 'is'), ('v', 'RelatedTo', 'is'), ('v', 'RelatedTo', 'is'), ('v', 'RelatedTo', 'is'), ('dar', 'RelatedTo', 'is'), ('is', 'Synonym', 'ειναι'), ('inar', 'RelatedTo', 'is'), ('is', 'Synonym', 'ist'), ('isness', 'DerivedFrom', 'is'), ('mura', 'RelatedTo', 'is'), ('是', 'Synonym', 'is'), ('αληθώσ_ανέστη', 'RelatedTo', 'is'), ('is', 'Synonym', 'yw'), ('is', 'Synonym', 'is'), ('ما_هذا', 'RelatedTo', 'is'), ('is', 'ExternalURL', 'your+name+is+mud-p#Component-3'), ('v', 'RelatedTo', 'is'), ('v', 'RelatedTo', 'is'), ('v', 'RelatedTo', 'is'), (\"who's\", 'RelatedTo', 'is'), ('beest', 'RelatedTo', 'is'), ('is', 'Synonym', '𐬀𐬯𐬙𐬌'), ('adalah', 'RelatedTo', 'is'), ('v', 'RelatedTo', 'is'), ('is', 'Synonym', 'є'), ('is', 'CapableOf', 'expensive'), ('is', 'Synonym', 'é'), ('v', 'RelatedTo', 'is'), ('is', 'Synonym', 'sta'), ('has', 'SimilarTo', 'is'), ('is', 'Synonym', 'єстъ'), ('nĩ', 'RelatedTo', 'is'), ('v', 'RelatedTo', 'is'), ('qu_est_ce_que_c_est', 'RelatedTo', 'is'), ('v', 'Synonym', 'is'), ('cérb', 'RelatedTo', 'is')]\n",
      "entities {'wn', 'unrelated', 'linguistics', 'interrelated', 'connexe', 'n', 'v', '有縁', 'family', 'related', 'thunder', 'relative', '相关', 'structure_and_strategy', 'anthropology', 'nectendus', 'a'}\n",
      "triples [('family', 'RelatedTo', 'related'), ('anthropology', 'SimilarTo', 'wn'), ('wn', 'Synonym', 'wn'), ('wn', 'RelatedTo', 'wn'), ('wn', 'SimilarTo', 'wn'), ('wn', 'SimilarTo', 'wn'), ('wn', 'Synonym', 'wn'), ('wn', 'SimilarTo', 'wn'), ('wn', 'SimilarTo', 'wn'), ('wn', 'SimilarTo', 'wn'), ('wn', 'Synonym', 'wn'), ('wn', 'SimilarTo', 'wn'), ('wn', 'Synonym', 'wn'), ('wn', 'SimilarTo', 'wn'), ('wn', 'Synonym', 'wn'), ('wn', 'SimilarTo', 'wn'), ('wn', 'Synonym', 'wn'), ('wn', 'Synonym', 'wn'), ('wn', 'Synonym', 'wn'), ('wn', 'Synonym', 'wn'), ('wn', 'Synonym', 'wn'), ('wn', 'Synonym', 'wn'), ('wn', 'Synonym', 'wn'), ('wn', 'SimilarTo', 'wn'), ('wn', 'SimilarTo', 'wn'), ('wn', 'SimilarTo', 'wn'), ('wn', 'Synonym', 'wn'), ('有縁', 'Synonym', 'related'), ('wn', 'Synonym', 'wn'), ('wn', 'SimilarTo', 'wn'), ('wn', 'Synonym', 'wn'), ('wn', 'Synonym', 'wn'), ('wn', 'Synonym', 'wn'), ('wn', 'Synonym', 'wn'), ('wn', 'SimilarTo', 'wn'), ('wn', 'Synonym', 'wn'), ('a', 'RelatedTo', 'related'), ('wn', 'SimilarTo', 'wn'), ('wn', 'SimilarTo', 'wn'), ('wn', 'Synonym', 'wn'), ('wn', 'SimilarTo', 'wn'), ('wn', 'SimilarTo', 'wn'), ('wn', 'Synonym', 'wn'), ('wn', 'SimilarTo', 'wn'), ('wn', 'SimilarTo', 'wn'), ('wn', 'RelatedTo', 'wn'), ('wn', 'Synonym', 'wn'), ('wn', 'SimilarTo', 'wn'), ('wn', 'Synonym', 'wn'), ('wn', 'SimilarTo', 'wn'), ('wn', 'Synonym', 'wn'), ('wn', 'Synonym', 'wn'), ('wn', 'Synonym', 'wn'), ('wn', 'Synonym', 'wn'), ('wn', 'Synonym', 'wn'), ('wn', 'SimilarTo', 'wn'), ('n', 'Synonym', 'related'), ('wn', 'Synonym', 'wn'), ('wn', 'SimilarTo', 'wn'), ('wn', 'Synonym', 'wn'), ('n', 'Synonym', 'related'), ('wn', 'SimilarTo', 'wn'), ('wn', 'SimilarTo', 'linguistics'), ('wn', 'SimilarTo', 'wn'), ('wn', 'RelatedTo', 'wn'), ('linguistics', 'SimilarTo', 'wn'), ('wn', 'Synonym', 'wn'), ('wn', 'Synonym', 'wn'), ('wn', 'Synonym', 'wn'), ('wn', 'SimilarTo', 'wn'), ('wn', 'SimilarTo', 'anthropology'), ('wn', 'Synonym', 'wn'), ('wn', 'SimilarTo', 'wn'), ('wn', 'Synonym', 'wn'), ('wn', 'RelatedTo', 'wn'), ('wn', 'SimilarTo', 'wn'), ('a', 'RelatedTo', 'related'), ('n', 'Synonym', 'related'), ('wn', 'Synonym', 'wn'), ('thunder', 'RelatedTo', 'related'), ('a', 'RelatedTo', 'related'), ('v', 'RelatedTo', 'related'), ('interrelated', 'DerivedFrom', 'related'), ('a', 'RelatedTo', 'related'), ('a', 'RelatedTo', 'related'), ('a', 'RelatedTo', 'connexe'), ('a', 'RelatedTo', 'related'), ('a', 'RelatedTo', 'related'), ('unrelated', 'DerivedFrom', 'related'), ('a', 'RelatedTo', 'related'), ('nectendus', 'RelatedTo', 'related'), ('a', 'RelatedTo', 'related'), ('v', 'RelatedTo', 'related'), ('a', 'RelatedTo', 'relative'), ('n', 'RelatedTo', 'related'), ('相关', 'Synonym', 'related'), ('structure_and_strategy', 'ReceivesAction', 'related'), ('a', 'RelatedTo', 'related'), ('n', 'RelatedTo', 'related'), ('n', 'RelatedTo', 'related')]\n",
      "entities {'be', 'other+fish+to+fry-p#Component-3', 'do', 'ให้', 'ad', 'n', 'onto', 'にかけて', '徹す', '対', 'bread', 'apud', 'usque', 'til', 'thitherto', 'առ', '載せる', 'da', 'stop_standing_in', 'prema', '乗せる', 'into', 'u', 'na', 'ok', '1', 'en_2', 'come', 'grație', 'put', 'に取って', 'a', 'enjoy_company_of_friends', 'r', 'cis', 'en_1', 'k', 'un', 'të', 'მდე', 'open', 'abys', 'za', 'hitherto', 'से', 'to', 'に取りまして', 'کو', '透す', 'tu', '迄', 'unto', \"so's\", '通す', 'go', 'kepada', 'te', 'naartoe', 'に対する', 'v', '迄も'}\n",
      "triples [('に取って', 'Synonym', 'to'), ('ad', 'RelatedTo', 'to'), ('da', 'RelatedTo', 'to'), ('徹す', 'Synonym', 'to'), ('առ', 'RelatedTo', 'to'), ('put', 'RelatedTo', 'to'), ('onto', 'DerivedFrom', 'to'), ('a', 'RelatedTo', 'to'), ('za', 'RelatedTo', 'to'), ('に取りまして', 'Synonym', 'to'), ('come', 'DerivedFrom', 'to'), ('迄も', 'Synonym', 'to'), ('v', 'Synonym', 'to'), ('にかけて', 'Synonym', 'to'), ('v', 'RelatedTo', 'to'), ('通す', 'Synonym', 'to'), ('透す', 'Synonym', 'to'), ('v', 'Synonym', 'to'), ('k', 'RelatedTo', 'to'), ('n', 'RelatedTo', 'to'), ('to', 'EtymologicallyDerivedFrom', 'to'), ('乗せる', 'Synonym', 'to'), ('do', 'DerivedFrom', 'to'), ('to', 'Synonym', 'a'), ('be', 'DerivedFrom', 'to'), ('bread', 'DerivedFrom', 'to'), ('un', 'RelatedTo', 'to'), ('to', 'EtymologicallyDerivedFrom', 'to'), ('til', 'RelatedTo', 'to'), ('v', 'Synonym', 'to'), ('na', 'RelatedTo', 'to'), ('ad', 'RelatedTo', 'to'), ('対', 'Synonym', 'to'), ('unto', 'DerivedFrom', 'to'), ('ad', 'RelatedTo', 'to'), ('do', 'RelatedTo', 'to'), ('v', 'RelatedTo', 'to'), ('prema', 'RelatedTo', 'to'), ('u', 'RelatedTo', 'to'), ('迄', 'Synonym', 'to'), ('1', 'Synonym', 'to'), ('v', 'Synonym', 'to'), ('into', 'DerivedFrom', 'to'), ('1', 'Synonym', 'to'), ('hitherto', 'DerivedFrom', 'to'), ('に対する', 'Synonym', 'to'), ('載せる', 'Synonym', 'to'), ('მდე', 'RelatedTo', 'to'), ('to', 'Synonym', 'tu'), ('v', 'RelatedTo', 'to'), ('n', 'RelatedTo', 'to'), ('thitherto', 'DerivedFrom', 'to'), ('v', 'RelatedTo', 'to'), ('v', 'RelatedTo', 'to'), ('n', 'RelatedTo', 'to'), ('से', 'RelatedTo', 'to'), ('v', 'RelatedTo', 'to'), ('a', 'RelatedTo', 'to'), ('abys', 'Synonym', 'to'), ('to', 'ExternalURL', 'other+fish+to+fry-p#Component-3'), ('to', 'Synonym', 'të'), ('n', 'RelatedTo', 'to'), ('v', 'RelatedTo', 'to'), ('n', 'HasContext', 'to'), ('v', 'RelatedTo', 'to'), ('v', 'RelatedTo', 'to'), ('grație', 'RelatedTo', 'to'), ('tu', 'RelatedTo', 'to'), ('r', 'Synonym', 'to'), ('a', 'RelatedTo', 'to'), ('cis', 'RelatedTo', 'to'), ('v', 'RelatedTo', 'to'), ('v', 'RelatedTo', 'to'), ('to', 'Synonym', 'te'), ('v', 'RelatedTo', 'to'), ('en_2', 'RelatedTo', 'to'), ('ok', 'RelatedTo', 'to'), ('v', 'RelatedTo', 'to'), ('v', 'RelatedTo', 'to'), ('r', 'RelatedTo', 'to'), ('apud', 'RelatedTo', 'to'), ('usque', 'Synonym', 'to'), ('naartoe', 'RelatedTo', 'to'), ('ให้', 'RelatedTo', 'to'), ('v', 'RelatedTo', 'to'), (\"so's\", 'RelatedTo', 'to'), ('n', 'RelatedTo', 'to'), ('v', 'RelatedTo', 'to'), ('en_1', 'RelatedTo', 'to'), ('v', 'RelatedTo', 'to'), ('r', 'Antonym', 'open'), ('کو', 'RelatedTo', 'to'), ('kepada', 'RelatedTo', 'to'), ('n', 'RelatedTo', 'to'), ('go', 'RelatedTo', 'to'), ('v', 'RelatedTo', 'to'), ('v', 'RelatedTo', 'to'), ('v', 'RelatedTo', 'to'), ('enjoy_company_of_friends', 'MotivatedByGoal', 'to'), ('stop_standing_in', 'MotivatedByGoal', 'to')]\n",
      "entities {'stimulant', 'mug', 'served_hot', 'sugar', 'n', 'internet_cafe', 'coffee', 'caffeine', 'made_from_coffee_beans', 'popular_drink', 'plant', 'coffee_shop', 'food'}\n",
      "triples [('coffee', 'IsA', 'stimulant'), ('coffee', 'HasA', 'caffeine'), ('coffee', 'HasProperty', 'served_hot'), ('food', 'Synonym', 'food'), ('coffee', 'AtLocation', 'coffee_shop'), ('sugar', 'AtLocation', 'coffee'), ('mug', 'UsedFor', 'coffee'), ('coffee', 'ReceivesAction', 'made_from_coffee_beans'), ('sugar', 'RelatedTo', 'coffee'), ('food', 'Synonym', 'food'), ('plant', 'Synonym', 'plant'), ('plant', 'Synonym', 'plant'), ('n', 'RelatedTo', 'coffee'), ('n', 'Synonym', 'coffee'), ('food', 'Synonym', 'food'), ('plant', 'Synonym', 'plant'), ('coffee', 'IsA', 'popular_drink'), ('coffee', 'AtLocation', 'internet_cafe'), ('food', 'Synonym', 'food'), ('food', 'Synonym', 'food')]\n",
      "{'all_entities_one_hop': [0, 1, 2, 3, 4, 5, 6, 7, 8, 9, 10, 11, 12, 13, 14, 15, 16, 17, 18, 19, 20, 21, 22, 23, 24, 25, 26, 27, 28, 29, 30, 31, 32, 33, 34, 35, 36, 37, 38, 39, 40, 41, 42, 43, 44, 45, 46, 47, 48, 49, 50, 51, 52, 53, 54, 55, 56, 57, 58, 59, 60, 61, 62, 63, 64, 65, 66, 67, 68, 69, 70, 71, 72, 73, 74, 75, 76, 77, 78, 79, 80, 81, 82, 83, 84, 85, 86, 87, 88, 89, 90, 91, 92, 93, 94, 95, 96, 97, 98, 99, 100, 101, 102, 103, 104, 105, 106, 107, 108, 109, 110, 111, 112, 113, 114, 115, 116, 117, 118, 119, 120, 121, 122, 123, 124, 125, 126, 127, 128, 129, 130, 131, 132, 133, 134, 135, 136, 137, 138, 139, 140, 141, 142, 143, 144, 145, 146, 147, 148, 149, 150, 151, 152, 153, 154, 155, 156, 157, 158, 159, 160, 161, 162, 163], 'post_triples': [0, 1, 2, 3, 4, 5, 6, 7, 8, 9, 10, 11, 12, 13, 14, 15, 16, 17, 18, 19, 20, 21, 22, 23, 24, 25, 26, 27, 28, 29, 30, 31, 32, 33, 34, 35, 36, 37, 38, 39, 40, 41, 42, 43, 44, 45, 46, 47, 48, 49, 50, 51, 52, 53, 54, 55, 56, 57, 58, 59, 60, 61, 62, 63, 64, 65, 66, 67, 68, 69, 70, 71, 72, 73, 74, 75, 76, 77, 78, 79, 80, 81, 82, 83, 84, 85, 86, 87, 88, 89, 90, 91, 92, 93, 94, 95, 96, 97, 98, 99, 100, 101, 102, 103, 104, 105, 106, 107, 108, 109, 110, 111, 112, 113, 114, 115, 116, 117, 118, 119, 120, 121, 122, 123, 124, 125, 126, 127, 128, 129, 130, 131, 132, 133, 134, 135, 136, 137, 138, 139, 140, 141, 142, 143, 144, 145, 146, 147, 148, 149, 150, 151, 152, 153, 154, 155, 156, 157, 158, 159, 160, 161, 162, 163, 164, 165, 166, 167, 168, 169, 170, 171, 172, 173, 174, 175, 176, 177, 178, 179, 180, 181, 182, 183, 184, 185, 186, 187, 188, 189, 190, 191, 192, 193, 194, 195, 196, 197, 198, 199, 200, 201, 202, 203, 204, 205, 206, 207, 208, 209, 210, 211, 212, 213, 214, 215, 216, 217, 218, 219, 220, 221, 222, 223, 224, 225, 226, 227, 228, 229, 230, 231, 232, 233, 234, 235, 236, 237, 238, 239, 240, 241, 242, 243, 244, 245, 246, 247, 248, 249, 250, 251, 252, 253, 254, 255, 256, 257, 258, 259, 260, 261, 262, 263, 264, 265, 266, 267, 268, 269, 270, 271, 272, 273, 274, 275, 276, 277, 278, 279, 280, 281, 282, 283, 284, 285, 286, 287, 288, 289, 290, 291, 292, 293, 294, 295, 296, 297, 298, 299, 300, 301, 302, 303, 304, 305, 306, 307, 308, 309, 310, 311, 312, 313, 314, 315, 316, 317, 318, 319], 'post': ['This', 'is', 'an', 'example', 'post', '.'], 'response': ['This', 'is', 'an', 'example', 'response', '.'], 'match_response_index_one_hop': [-1, -1, -1, -1, -1, -1, -1, -1, -1, -1, -1, -1, -1, -1, -1, -1, -1, -1, -1, -1, -1, -1, -1, -1, -1, -1, -1, -1, -1, -1, -1, -1, -1, -1, -1, -1, -1, -1, -1, -1, -1, -1, -1, -1, -1, -1, -1, -1, -1, -1, -1, -1, -1, -1, -1, -1, -1, -1, -1, -1, -1, -1, -1, -1, -1, -1, -1, -1, -1, -1, -1, -1, -1, -1, -1, -1, -1, -1, -1, -1, -1, -1, -1, -1, -1, -1, -1, -1, -1, -1, -1, -1, -1, -1, -1, -1, -1, -1, -1, -1, -1, -1, -1, -1, -1, -1, -1, -1, -1, -1, -1, -1, -1, -1, -1, -1, -1, -1, -1, -1, -1, -1, -1, -1, -1, -1, -1, -1, -1, -1, -1, -1, -1, -1, -1, -1, -1, -1, -1, -1, -1, -1, -1, -1, -1, -1, -1, -1, -1, -1, -1, -1, -1, -1, -1, -1, -1, -1, -1, -1, -1, -1, -1, -1], 'only_two': [0, 2, 4, 6, 8, 10, 12, 14, 16, 18, 20, 22, 24, 26, 28, 30, 32, 34, 36, 38, 40, 42, 44, 46, 48, 50, 52, 54, 56, 58, 60, 62, 64, 66, 68, 70, 72, 74, 76, 78, 80, 82, 84, 86, 88, 90, 92, 94, 96, 98, 100, 102, 104, 106, 108, 110, 112, 114, 116, 118, 120, 122, 124, 126, 128, 130, 132, 134, 136, 138, 140, 142, 144, 146, 148, 150, 152, 154, 156, 158, 160, 162], 'match_response_index_only_two': [-1, -1, -1, -1, -1, -1, -1, -1, -1, -1, -1, -1, -1, -1, -1, -1, -1, -1, -1, -1, -1, -1, -1, -1, -1, -1, -1, -1, -1, -1, -1, -1, -1, -1, -1, -1, -1, -1, -1, -1, -1, -1, -1, -1, -1, -1, -1, -1, -1, -1, -1, -1, -1, -1, -1, -1, -1, -1, -1, -1, -1, -1, -1, -1, -1, -1, -1, -1, -1, -1, -1, -1, -1, -1, -1, -1, -1, -1, -1, -1, -1, -1, -1, -1, -1, -1, -1, -1, -1, -1, -1, -1, -1, -1, -1, -1, -1, -1, -1, -1, -1, -1, -1, -1, -1, -1, -1, -1, -1, -1, -1, -1, -1, -1, -1, -1, -1, -1, -1, -1, -1, -1, -1, -1, -1, -1, -1, -1, -1, -1, -1, -1, -1, -1, -1, -1, -1, -1, -1, -1, -1, -1, -1, -1, -1, -1, -1, -1, -1, -1, -1, -1, -1, -1, -1, -1, -1, -1, -1, -1, -1, -1, -1, -1], 'all_triples_one_hop': [0, 1, 2, 3, 4, 5, 6, 7, 8, 9, 10, 11, 12, 13, 14, 15, 16, 17, 18, 19, 20, 21, 22, 23, 24, 25, 26, 27, 28, 29, 30, 31, 32, 33, 34, 35, 36, 37, 38, 39, 40, 41, 42, 43, 44, 45, 46, 47, 48, 49, 50, 51, 52, 53, 54, 55, 56, 57, 58, 59, 60, 61, 62, 63, 64, 65, 66, 67, 68, 69, 70, 71, 72, 73, 74, 75, 76, 77, 78, 79, 80, 81, 82, 83, 84, 85, 86, 87, 88, 89, 90, 91, 92, 93, 94, 95, 96, 97, 98, 99, 100, 101, 102, 103, 104, 105, 106, 107, 108, 109, 110, 111, 112, 113, 114, 115, 116, 117, 118, 119, 120, 121, 122, 123, 124, 125, 126, 127, 128, 129, 130, 131, 132, 133, 134, 135, 136, 137, 138, 139, 140, 141, 142, 143, 144, 145, 146, 147, 148, 149, 150, 151, 152, 153, 154, 155, 156, 157, 158, 159, 160, 161, 162, 163, 164, 165, 166, 167, 168, 169, 170, 171, 172, 173, 174, 175, 176, 177, 178, 179, 180, 181, 182, 183, 184, 185, 186, 187, 188, 189, 190, 191, 192, 193, 194, 195, 196, 197, 198, 199, 200, 201, 202, 203, 204, 205, 206, 207, 208, 209, 210, 211, 212, 213, 214, 215, 216, 217, 218, 219, 220, 221, 222, 223, 224, 225, 226, 227, 228, 229, 230, 231, 232, 233, 234, 235, 236, 237, 238, 239, 240, 241, 242, 243, 244, 245, 246, 247, 248, 249, 250, 251, 252, 253, 254, 255, 256, 257, 258, 259, 260, 261, 262, 263, 264, 265, 266, 267, 268, 269, 270, 271, 272, 273, 274, 275, 276, 277, 278, 279, 280, 281, 282, 283, 284, 285, 286, 287, 288, 289, 290, 291, 292, 293, 294, 295, 296, 297, 298, 299, 300, 301, 302, 303, 304, 305, 306, 307, 308, 309, 310, 311, 312, 313, 314, 315, 316, 317, 318, 319]}\n"
     ]
    }
   ],
   "source": [
    "import requests\n",
    "data_dir = \"D:\\\\13.PURDUE\\\\Data\\\\ConceptFlow(ECCF)_data\"\n",
    "with open('%s/resource.txt' % data_dir) as f:\n",
    "    d = json.loads(f.readline())\n",
    "\n",
    "    csk_triples = d['csk_triples']\n",
    "    csk_entities = d['csk_entities']\n",
    "    raw_vocab = d['vocab_dict']\n",
    "    kb_dict = d['dict_csk']\n",
    "    dict_csk_entities = d['dict_csk_entities']\n",
    "    dict_csk_triples = d['dict_csk_triples']\n",
    "\n",
    "def query_conceptnet(keyword):\n",
    "    url = f\"http://api.conceptnet.io/c/en/{keyword}?limit=100\"\n",
    "    response = requests.get(url)\n",
    "    return response.json()\n",
    "\n",
    "def extract_data(concept_data):\n",
    "    entities = set()\n",
    "    triples = []\n",
    "    for edge in concept_data['edges']:\n",
    "        start = edge['start']['@id'].split('/')[-1]\n",
    "        end = edge['end']['@id'].split('/')[-1]\n",
    "        rel = edge['rel']['@id'].split('/')[-1]\n",
    "        triples.append((start, rel, end))\n",
    "        entities.update([start, end])\n",
    "    return entities, triples\n",
    "\n",
    "def generate_response_format(entities, triples):\n",
    "    # Simulate entity and triple index mapping\n",
    "    entity2id = {entity: idx for idx, entity in enumerate(entities)}\n",
    "    triple_indices = range(len(triples))  # Assuming each triple gets a unique index\n",
    "\n",
    "    data_format = {\n",
    "        \"all_entities_one_hop\": list(entity2id.values()),\n",
    "        \"post_triples\": list(triple_indices),  # Example: every triple is used\n",
    "        \"post\": [\"This\", \"is\", \"an\", \"example\", \"post\", \".\"],\n",
    "        \"response\": [\"This\", \"is\", \"an\", \"example\", \"response\", \".\"],\n",
    "        \"match_response_index_one_hop\": [-1] * len(entity2id),  # Simplified example\n",
    "        \"only_two\": list(entity2id.values())[::2],  # Every second entity for example\n",
    "        \"match_response_index_only_two\": [-1] * len(entity2id),  # Simplified example\n",
    "        \"all_triples_one_hop\": list(triple_indices)  # Simplified example\n",
    "    }\n",
    "    return data_format\n",
    "\n",
    "def main(question):\n",
    "    keywords = question.split()  # Simple keyword extraction from the question\n",
    "    all_entities = set()\n",
    "    all_triples = []\n",
    "\n",
    "    for keyword in keywords:\n",
    "        concept_data = query_conceptnet(keyword)\n",
    "#         print('concept_data',concept_data)\n",
    "        entities, triples = extract_data(concept_data)\n",
    "        print('entities', entities)\n",
    "        print('triples', triples)\n",
    "        all_entities.update(entities)\n",
    "        all_triples.extend(triples)\n",
    "\n",
    "    formatted_data = generate_response_format(all_entities, all_triples)\n",
    "    print(formatted_data)\n",
    "\n",
    "# Example usage\n",
    "main(\"What is related to coffee?\")"
   ]
  },
  {
   "cell_type": "code",
   "execution_count": 23,
   "id": "de7ab3fa-f543-42b8-8b7b-9dee88d7d09b",
   "metadata": {},
   "outputs": [
    {
     "name": "stdout",
     "output_type": "stream",
     "text": [
      "('coffee', 'IsA', 'a stimulant')\n",
      "('Coffee', 'HasA', 'caffeine')\n",
      "('Coffee', 'HasProperty', 'served hot')\n",
      "('Café', 'Synonym', 'coffee')\n",
      "('coffee', 'AtLocation', 'a coffee shop')\n",
      "('a sugar', 'AtLocation', 'coffee')\n",
      "('a mug', 'UsedFor', 'coffee')\n",
      "('Coffee', 'ReceivesAction', 'made from coffee beans')\n",
      "('sugar', 'RelatedTo', 'coffee')\n",
      "('caffè', 'Synonym', 'coffee')\n",
      "('ต้นกาแฟ', 'Synonym', 'coffee')\n",
      "('kawa', 'Synonym', 'coffee')\n",
      "('kahva', 'RelatedTo', 'coffee')\n",
      "('コーヒーブラウン', 'Synonym', 'coffee')\n",
      "('قَهْوَة', 'Synonym', 'coffee')\n",
      "('café', 'Synonym', 'coffee')\n",
      "('coffee', 'IsA', 'a popular drink')\n",
      "('coffee', 'AtLocation', 'a internet cafe')\n",
      "('kopi', 'Synonym', 'coffee')\n",
      "('kaffe', 'Synonym', 'coffee')\n"
     ]
    }
   ],
   "source": [
    "import requests\n",
    "\n",
    "def get_one_hop_relations(concept):\n",
    "    url = f\"http://api.conceptnet.io/c/en/{concept}\"\n",
    "    response = requests.get(url)\n",
    "    data = response.json()\n",
    "    \n",
    "    relations = []\n",
    "    for edge in data['edges']:\n",
    "        start = edge['start']['label']\n",
    "        rel = edge['rel']['label']\n",
    "        end = edge['end']['label']\n",
    "        relations.append((start, rel, end))\n",
    "    \n",
    "    return relations\n",
    "\n",
    "# Example usage\n",
    "concept = \"coffee\"\n",
    "one_hop_relations = get_one_hop_relations(concept)\n",
    "for relation in one_hop_relations:\n",
    "    print(relation)"
   ]
  },
  {
   "cell_type": "code",
   "execution_count": 24,
   "id": "ab9d6c1c-9a7d-4566-852c-7f002e1f797f",
   "metadata": {},
   "outputs": [
    {
     "name": "stdout",
     "output_type": "stream",
     "text": [
      "{'start': 'coffee', 'rel': 'IsA', 'end': 'a stimulant'}\n",
      "{'start': 'Coffee', 'rel': 'HasA', 'end': 'caffeine'}\n",
      "{'start': 'Coffee', 'rel': 'HasProperty', 'end': 'served hot'}\n",
      "{'start': 'Café', 'rel': 'Synonym', 'end': 'coffee'}\n",
      "{'start': 'coffee', 'rel': 'AtLocation', 'end': 'a coffee shop'}\n",
      "{'start': 'a sugar', 'rel': 'AtLocation', 'end': 'coffee'}\n",
      "{'start': 'a mug', 'rel': 'UsedFor', 'end': 'coffee'}\n",
      "{'start': 'Coffee', 'rel': 'ReceivesAction', 'end': 'made from coffee beans'}\n",
      "{'start': 'sugar', 'rel': 'RelatedTo', 'end': 'coffee'}\n",
      "{'start': 'caffè', 'rel': 'Synonym', 'end': 'coffee'}\n",
      "{'start': 'ต้นกาแฟ', 'rel': 'Synonym', 'end': 'coffee'}\n",
      "{'start': 'kawa', 'rel': 'Synonym', 'end': 'coffee'}\n",
      "{'start': 'kahva', 'rel': 'RelatedTo', 'end': 'coffee'}\n",
      "{'start': 'コーヒーブラウン', 'rel': 'Synonym', 'end': 'coffee'}\n",
      "{'start': 'قَهْوَة', 'rel': 'Synonym', 'end': 'coffee'}\n",
      "{'start': 'café', 'rel': 'Synonym', 'end': 'coffee'}\n",
      "{'start': 'coffee', 'rel': 'IsA', 'end': 'a popular drink'}\n",
      "{'start': 'coffee', 'rel': 'AtLocation', 'end': 'a internet cafe'}\n",
      "{'start': 'kopi', 'rel': 'Synonym', 'end': 'coffee'}\n",
      "{'start': 'kaffe', 'rel': 'Synonym', 'end': 'coffee'}\n",
      "{'start': 'Coffee', 'rel': 'HasA', 'end': 'caffeine'}\n",
      "{'start': 'Tea', 'rel': 'HasA', 'end': 'caffeine'}\n",
      "{'start': 'Caffeine', 'rel': 'IsA', 'end': 'a stimulant'}\n",
      "{'start': 'カフェイン', 'rel': 'Synonym', 'end': 'caffeine'}\n",
      "{'start': 'kofein', 'rel': 'RelatedTo', 'end': 'caffeine'}\n",
      "{'start': 'caféine', 'rel': 'Synonym', 'end': 'caffeine'}\n",
      "{'start': 'kafeina', 'rel': 'Synonym', 'end': 'caffeine'}\n",
      "{'start': 'cafeïna', 'rel': 'Synonym', 'end': 'caffeine'}\n",
      "{'start': 'cafeína', 'rel': 'Synonym', 'end': 'caffeine'}\n",
      "{'start': 'کافئین', 'rel': 'Synonym', 'end': 'caffeine'}\n",
      "{'start': 'Cafeina', 'rel': 'Synonym', 'end': 'caffeine'}\n",
      "{'start': 'cafeína', 'rel': 'Synonym', 'end': 'caffeine'}\n",
      "{'start': 'kafeina', 'rel': 'Synonym', 'end': 'caffeine'}\n",
      "{'start': 'caffein', 'rel': 'Synonym', 'end': 'caffeine'}\n",
      "{'start': 'kofeina', 'rel': 'Synonym', 'end': 'caffeine'}\n",
      "{'start': 'สารคาเฟอีน', 'rel': 'Synonym', 'end': 'caffeine'}\n",
      "{'start': 'caffeine', 'rel': 'Synonym', 'end': 'kofein'}\n",
      "{'start': 'kafeina', 'rel': 'Synonym', 'end': 'caffeine'}\n",
      "{'start': 'caffeina', 'rel': 'Synonym', 'end': 'caffeine'}\n",
      "{'start': 'kofeiini', 'rel': 'Synonym', 'end': 'caffeine'}\n",
      "{'start': 'coffee', 'rel': 'IsA', 'end': 'a stimulant'}\n",
      "{'start': 'Coffee', 'rel': 'HasA', 'end': 'caffeine'}\n",
      "{'start': 'Coffee', 'rel': 'HasProperty', 'end': 'served hot'}\n",
      "{'start': 'Café', 'rel': 'Synonym', 'end': 'coffee'}\n",
      "{'start': 'coffee', 'rel': 'AtLocation', 'end': 'a coffee shop'}\n",
      "{'start': 'a sugar', 'rel': 'AtLocation', 'end': 'coffee'}\n",
      "{'start': 'a mug', 'rel': 'UsedFor', 'end': 'coffee'}\n",
      "{'start': 'Coffee', 'rel': 'ReceivesAction', 'end': 'made from coffee beans'}\n",
      "{'start': 'sugar', 'rel': 'RelatedTo', 'end': 'coffee'}\n",
      "{'start': 'caffè', 'rel': 'Synonym', 'end': 'coffee'}\n",
      "{'start': 'ต้นกาแฟ', 'rel': 'Synonym', 'end': 'coffee'}\n",
      "{'start': 'kawa', 'rel': 'Synonym', 'end': 'coffee'}\n",
      "{'start': 'kahva', 'rel': 'RelatedTo', 'end': 'coffee'}\n",
      "{'start': 'コーヒーブラウン', 'rel': 'Synonym', 'end': 'coffee'}\n",
      "{'start': 'قَهْوَة', 'rel': 'Synonym', 'end': 'coffee'}\n",
      "{'start': 'café', 'rel': 'Synonym', 'end': 'coffee'}\n",
      "{'start': 'coffee', 'rel': 'IsA', 'end': 'a popular drink'}\n",
      "{'start': 'coffee', 'rel': 'AtLocation', 'end': 'a internet cafe'}\n",
      "{'start': 'kopi', 'rel': 'Synonym', 'end': 'coffee'}\n",
      "{'start': 'kaffe', 'rel': 'Synonym', 'end': 'coffee'}\n",
      "{'start': 'coffee', 'rel': 'IsA', 'end': 'a stimulant'}\n",
      "{'start': 'Coffee', 'rel': 'HasA', 'end': 'caffeine'}\n",
      "{'start': 'Coffee', 'rel': 'HasProperty', 'end': 'served hot'}\n",
      "{'start': 'Café', 'rel': 'Synonym', 'end': 'coffee'}\n",
      "{'start': 'coffee', 'rel': 'AtLocation', 'end': 'a coffee shop'}\n",
      "{'start': 'a sugar', 'rel': 'AtLocation', 'end': 'coffee'}\n",
      "{'start': 'a mug', 'rel': 'UsedFor', 'end': 'coffee'}\n",
      "{'start': 'Coffee', 'rel': 'ReceivesAction', 'end': 'made from coffee beans'}\n",
      "{'start': 'sugar', 'rel': 'RelatedTo', 'end': 'coffee'}\n",
      "{'start': 'caffè', 'rel': 'Synonym', 'end': 'coffee'}\n",
      "{'start': 'ต้นกาแฟ', 'rel': 'Synonym', 'end': 'coffee'}\n",
      "{'start': 'kawa', 'rel': 'Synonym', 'end': 'coffee'}\n",
      "{'start': 'kahva', 'rel': 'RelatedTo', 'end': 'coffee'}\n",
      "{'start': 'コーヒーブラウン', 'rel': 'Synonym', 'end': 'coffee'}\n",
      "{'start': 'قَهْوَة', 'rel': 'Synonym', 'end': 'coffee'}\n",
      "{'start': 'café', 'rel': 'Synonym', 'end': 'coffee'}\n",
      "{'start': 'coffee', 'rel': 'IsA', 'end': 'a popular drink'}\n",
      "{'start': 'coffee', 'rel': 'AtLocation', 'end': 'a internet cafe'}\n",
      "{'start': 'kopi', 'rel': 'Synonym', 'end': 'coffee'}\n",
      "{'start': 'kaffe', 'rel': 'Synonym', 'end': 'coffee'}\n",
      "{'start': 'coffee', 'rel': 'IsA', 'end': 'a stimulant'}\n",
      "{'start': 'Coffee', 'rel': 'HasA', 'end': 'caffeine'}\n",
      "{'start': 'Coffee', 'rel': 'HasProperty', 'end': 'served hot'}\n",
      "{'start': 'Café', 'rel': 'Synonym', 'end': 'coffee'}\n",
      "{'start': 'coffee', 'rel': 'AtLocation', 'end': 'a coffee shop'}\n",
      "{'start': 'a sugar', 'rel': 'AtLocation', 'end': 'coffee'}\n",
      "{'start': 'a mug', 'rel': 'UsedFor', 'end': 'coffee'}\n",
      "{'start': 'Coffee', 'rel': 'ReceivesAction', 'end': 'made from coffee beans'}\n",
      "{'start': 'sugar', 'rel': 'RelatedTo', 'end': 'coffee'}\n",
      "{'start': 'caffè', 'rel': 'Synonym', 'end': 'coffee'}\n",
      "{'start': 'ต้นกาแฟ', 'rel': 'Synonym', 'end': 'coffee'}\n",
      "{'start': 'kawa', 'rel': 'Synonym', 'end': 'coffee'}\n",
      "{'start': 'kahva', 'rel': 'RelatedTo', 'end': 'coffee'}\n",
      "{'start': 'コーヒーブラウン', 'rel': 'Synonym', 'end': 'coffee'}\n",
      "{'start': 'قَهْوَة', 'rel': 'Synonym', 'end': 'coffee'}\n",
      "{'start': 'café', 'rel': 'Synonym', 'end': 'coffee'}\n",
      "{'start': 'coffee', 'rel': 'IsA', 'end': 'a popular drink'}\n",
      "{'start': 'coffee', 'rel': 'AtLocation', 'end': 'a internet cafe'}\n",
      "{'start': 'kopi', 'rel': 'Synonym', 'end': 'coffee'}\n",
      "{'start': 'kaffe', 'rel': 'Synonym', 'end': 'coffee'}\n",
      "{'start': 'coffee', 'rel': 'IsA', 'end': 'a stimulant'}\n",
      "{'start': 'Coffee', 'rel': 'HasA', 'end': 'caffeine'}\n",
      "{'start': 'Coffee', 'rel': 'HasProperty', 'end': 'served hot'}\n",
      "{'start': 'Café', 'rel': 'Synonym', 'end': 'coffee'}\n",
      "{'start': 'coffee', 'rel': 'AtLocation', 'end': 'a coffee shop'}\n",
      "{'start': 'a sugar', 'rel': 'AtLocation', 'end': 'coffee'}\n",
      "{'start': 'a mug', 'rel': 'UsedFor', 'end': 'coffee'}\n",
      "{'start': 'Coffee', 'rel': 'ReceivesAction', 'end': 'made from coffee beans'}\n",
      "{'start': 'sugar', 'rel': 'RelatedTo', 'end': 'coffee'}\n",
      "{'start': 'caffè', 'rel': 'Synonym', 'end': 'coffee'}\n",
      "{'start': 'ต้นกาแฟ', 'rel': 'Synonym', 'end': 'coffee'}\n",
      "{'start': 'kawa', 'rel': 'Synonym', 'end': 'coffee'}\n",
      "{'start': 'kahva', 'rel': 'RelatedTo', 'end': 'coffee'}\n",
      "{'start': 'コーヒーブラウン', 'rel': 'Synonym', 'end': 'coffee'}\n",
      "{'start': 'قَهْوَة', 'rel': 'Synonym', 'end': 'coffee'}\n",
      "{'start': 'café', 'rel': 'Synonym', 'end': 'coffee'}\n",
      "{'start': 'coffee', 'rel': 'IsA', 'end': 'a popular drink'}\n",
      "{'start': 'coffee', 'rel': 'AtLocation', 'end': 'a internet cafe'}\n",
      "{'start': 'kopi', 'rel': 'Synonym', 'end': 'coffee'}\n",
      "{'start': 'kaffe', 'rel': 'Synonym', 'end': 'coffee'}\n",
      "{'start': 'coffee', 'rel': 'IsA', 'end': 'a stimulant'}\n",
      "{'start': 'Coffee', 'rel': 'HasA', 'end': 'caffeine'}\n",
      "{'start': 'Coffee', 'rel': 'HasProperty', 'end': 'served hot'}\n",
      "{'start': 'Café', 'rel': 'Synonym', 'end': 'coffee'}\n",
      "{'start': 'coffee', 'rel': 'AtLocation', 'end': 'a coffee shop'}\n",
      "{'start': 'a sugar', 'rel': 'AtLocation', 'end': 'coffee'}\n",
      "{'start': 'a mug', 'rel': 'UsedFor', 'end': 'coffee'}\n",
      "{'start': 'Coffee', 'rel': 'ReceivesAction', 'end': 'made from coffee beans'}\n",
      "{'start': 'sugar', 'rel': 'RelatedTo', 'end': 'coffee'}\n",
      "{'start': 'caffè', 'rel': 'Synonym', 'end': 'coffee'}\n",
      "{'start': 'ต้นกาแฟ', 'rel': 'Synonym', 'end': 'coffee'}\n",
      "{'start': 'kawa', 'rel': 'Synonym', 'end': 'coffee'}\n",
      "{'start': 'kahva', 'rel': 'RelatedTo', 'end': 'coffee'}\n",
      "{'start': 'コーヒーブラウン', 'rel': 'Synonym', 'end': 'coffee'}\n",
      "{'start': 'قَهْوَة', 'rel': 'Synonym', 'end': 'coffee'}\n",
      "{'start': 'café', 'rel': 'Synonym', 'end': 'coffee'}\n",
      "{'start': 'coffee', 'rel': 'IsA', 'end': 'a popular drink'}\n",
      "{'start': 'coffee', 'rel': 'AtLocation', 'end': 'a internet cafe'}\n",
      "{'start': 'kopi', 'rel': 'Synonym', 'end': 'coffee'}\n",
      "{'start': 'kaffe', 'rel': 'Synonym', 'end': 'coffee'}\n",
      "{'start': 'coffee', 'rel': 'IsA', 'end': 'a stimulant'}\n",
      "{'start': 'Coffee', 'rel': 'HasA', 'end': 'caffeine'}\n",
      "{'start': 'Coffee', 'rel': 'HasProperty', 'end': 'served hot'}\n",
      "{'start': 'Café', 'rel': 'Synonym', 'end': 'coffee'}\n",
      "{'start': 'coffee', 'rel': 'AtLocation', 'end': 'a coffee shop'}\n",
      "{'start': 'a sugar', 'rel': 'AtLocation', 'end': 'coffee'}\n",
      "{'start': 'a mug', 'rel': 'UsedFor', 'end': 'coffee'}\n",
      "{'start': 'Coffee', 'rel': 'ReceivesAction', 'end': 'made from coffee beans'}\n",
      "{'start': 'sugar', 'rel': 'RelatedTo', 'end': 'coffee'}\n",
      "{'start': 'caffè', 'rel': 'Synonym', 'end': 'coffee'}\n",
      "{'start': 'ต้นกาแฟ', 'rel': 'Synonym', 'end': 'coffee'}\n",
      "{'start': 'kawa', 'rel': 'Synonym', 'end': 'coffee'}\n",
      "{'start': 'kahva', 'rel': 'RelatedTo', 'end': 'coffee'}\n",
      "{'start': 'コーヒーブラウン', 'rel': 'Synonym', 'end': 'coffee'}\n",
      "{'start': 'قَهْوَة', 'rel': 'Synonym', 'end': 'coffee'}\n",
      "{'start': 'café', 'rel': 'Synonym', 'end': 'coffee'}\n",
      "{'start': 'coffee', 'rel': 'IsA', 'end': 'a popular drink'}\n",
      "{'start': 'coffee', 'rel': 'AtLocation', 'end': 'a internet cafe'}\n",
      "{'start': 'kopi', 'rel': 'Synonym', 'end': 'coffee'}\n",
      "{'start': 'kaffe', 'rel': 'Synonym', 'end': 'coffee'}\n",
      "{'start': 'coffee', 'rel': 'IsA', 'end': 'a stimulant'}\n",
      "{'start': 'Coffee', 'rel': 'HasA', 'end': 'caffeine'}\n",
      "{'start': 'Coffee', 'rel': 'HasProperty', 'end': 'served hot'}\n",
      "{'start': 'Café', 'rel': 'Synonym', 'end': 'coffee'}\n",
      "{'start': 'coffee', 'rel': 'AtLocation', 'end': 'a coffee shop'}\n",
      "{'start': 'a sugar', 'rel': 'AtLocation', 'end': 'coffee'}\n",
      "{'start': 'a mug', 'rel': 'UsedFor', 'end': 'coffee'}\n",
      "{'start': 'Coffee', 'rel': 'ReceivesAction', 'end': 'made from coffee beans'}\n",
      "{'start': 'sugar', 'rel': 'RelatedTo', 'end': 'coffee'}\n",
      "{'start': 'caffè', 'rel': 'Synonym', 'end': 'coffee'}\n",
      "{'start': 'ต้นกาแฟ', 'rel': 'Synonym', 'end': 'coffee'}\n",
      "{'start': 'kawa', 'rel': 'Synonym', 'end': 'coffee'}\n",
      "{'start': 'kahva', 'rel': 'RelatedTo', 'end': 'coffee'}\n",
      "{'start': 'コーヒーブラウン', 'rel': 'Synonym', 'end': 'coffee'}\n",
      "{'start': 'قَهْوَة', 'rel': 'Synonym', 'end': 'coffee'}\n",
      "{'start': 'café', 'rel': 'Synonym', 'end': 'coffee'}\n",
      "{'start': 'coffee', 'rel': 'IsA', 'end': 'a popular drink'}\n",
      "{'start': 'coffee', 'rel': 'AtLocation', 'end': 'a internet cafe'}\n",
      "{'start': 'kopi', 'rel': 'Synonym', 'end': 'coffee'}\n",
      "{'start': 'kaffe', 'rel': 'Synonym', 'end': 'coffee'}\n",
      "{'start': 'coffee', 'rel': 'IsA', 'end': 'a stimulant'}\n",
      "{'start': 'Coffee', 'rel': 'HasA', 'end': 'caffeine'}\n",
      "{'start': 'Coffee', 'rel': 'HasProperty', 'end': 'served hot'}\n",
      "{'start': 'Café', 'rel': 'Synonym', 'end': 'coffee'}\n",
      "{'start': 'coffee', 'rel': 'AtLocation', 'end': 'a coffee shop'}\n",
      "{'start': 'a sugar', 'rel': 'AtLocation', 'end': 'coffee'}\n",
      "{'start': 'a mug', 'rel': 'UsedFor', 'end': 'coffee'}\n",
      "{'start': 'Coffee', 'rel': 'ReceivesAction', 'end': 'made from coffee beans'}\n",
      "{'start': 'sugar', 'rel': 'RelatedTo', 'end': 'coffee'}\n",
      "{'start': 'caffè', 'rel': 'Synonym', 'end': 'coffee'}\n",
      "{'start': 'ต้นกาแฟ', 'rel': 'Synonym', 'end': 'coffee'}\n",
      "{'start': 'kawa', 'rel': 'Synonym', 'end': 'coffee'}\n",
      "{'start': 'kahva', 'rel': 'RelatedTo', 'end': 'coffee'}\n",
      "{'start': 'コーヒーブラウン', 'rel': 'Synonym', 'end': 'coffee'}\n",
      "{'start': 'قَهْوَة', 'rel': 'Synonym', 'end': 'coffee'}\n",
      "{'start': 'café', 'rel': 'Synonym', 'end': 'coffee'}\n",
      "{'start': 'coffee', 'rel': 'IsA', 'end': 'a popular drink'}\n",
      "{'start': 'coffee', 'rel': 'AtLocation', 'end': 'a internet cafe'}\n",
      "{'start': 'kopi', 'rel': 'Synonym', 'end': 'coffee'}\n",
      "{'start': 'kaffe', 'rel': 'Synonym', 'end': 'coffee'}\n",
      "{'start': 'coffee', 'rel': 'IsA', 'end': 'a stimulant'}\n",
      "{'start': 'Coffee', 'rel': 'HasA', 'end': 'caffeine'}\n",
      "{'start': 'Coffee', 'rel': 'HasProperty', 'end': 'served hot'}\n",
      "{'start': 'Café', 'rel': 'Synonym', 'end': 'coffee'}\n",
      "{'start': 'coffee', 'rel': 'AtLocation', 'end': 'a coffee shop'}\n",
      "{'start': 'a sugar', 'rel': 'AtLocation', 'end': 'coffee'}\n",
      "{'start': 'a mug', 'rel': 'UsedFor', 'end': 'coffee'}\n",
      "{'start': 'Coffee', 'rel': 'ReceivesAction', 'end': 'made from coffee beans'}\n",
      "{'start': 'sugar', 'rel': 'RelatedTo', 'end': 'coffee'}\n",
      "{'start': 'caffè', 'rel': 'Synonym', 'end': 'coffee'}\n",
      "{'start': 'ต้นกาแฟ', 'rel': 'Synonym', 'end': 'coffee'}\n",
      "{'start': 'kawa', 'rel': 'Synonym', 'end': 'coffee'}\n",
      "{'start': 'kahva', 'rel': 'RelatedTo', 'end': 'coffee'}\n",
      "{'start': 'コーヒーブラウン', 'rel': 'Synonym', 'end': 'coffee'}\n",
      "{'start': 'قَهْوَة', 'rel': 'Synonym', 'end': 'coffee'}\n",
      "{'start': 'café', 'rel': 'Synonym', 'end': 'coffee'}\n",
      "{'start': 'coffee', 'rel': 'IsA', 'end': 'a popular drink'}\n",
      "{'start': 'coffee', 'rel': 'AtLocation', 'end': 'a internet cafe'}\n",
      "{'start': 'kopi', 'rel': 'Synonym', 'end': 'coffee'}\n",
      "{'start': 'kaffe', 'rel': 'Synonym', 'end': 'coffee'}\n",
      "{'start': 'coffee', 'rel': 'IsA', 'end': 'a stimulant'}\n",
      "{'start': 'Coffee', 'rel': 'HasA', 'end': 'caffeine'}\n",
      "{'start': 'Coffee', 'rel': 'HasProperty', 'end': 'served hot'}\n",
      "{'start': 'Café', 'rel': 'Synonym', 'end': 'coffee'}\n",
      "{'start': 'coffee', 'rel': 'AtLocation', 'end': 'a coffee shop'}\n",
      "{'start': 'a sugar', 'rel': 'AtLocation', 'end': 'coffee'}\n",
      "{'start': 'a mug', 'rel': 'UsedFor', 'end': 'coffee'}\n",
      "{'start': 'Coffee', 'rel': 'ReceivesAction', 'end': 'made from coffee beans'}\n",
      "{'start': 'sugar', 'rel': 'RelatedTo', 'end': 'coffee'}\n",
      "{'start': 'caffè', 'rel': 'Synonym', 'end': 'coffee'}\n",
      "{'start': 'ต้นกาแฟ', 'rel': 'Synonym', 'end': 'coffee'}\n",
      "{'start': 'kawa', 'rel': 'Synonym', 'end': 'coffee'}\n",
      "{'start': 'kahva', 'rel': 'RelatedTo', 'end': 'coffee'}\n",
      "{'start': 'コーヒーブラウン', 'rel': 'Synonym', 'end': 'coffee'}\n",
      "{'start': 'قَهْوَة', 'rel': 'Synonym', 'end': 'coffee'}\n",
      "{'start': 'café', 'rel': 'Synonym', 'end': 'coffee'}\n",
      "{'start': 'coffee', 'rel': 'IsA', 'end': 'a popular drink'}\n",
      "{'start': 'coffee', 'rel': 'AtLocation', 'end': 'a internet cafe'}\n",
      "{'start': 'kopi', 'rel': 'Synonym', 'end': 'coffee'}\n",
      "{'start': 'kaffe', 'rel': 'Synonym', 'end': 'coffee'}\n",
      "{'start': 'coffee', 'rel': 'IsA', 'end': 'a stimulant'}\n",
      "{'start': 'Coffee', 'rel': 'HasA', 'end': 'caffeine'}\n",
      "{'start': 'Coffee', 'rel': 'HasProperty', 'end': 'served hot'}\n",
      "{'start': 'Café', 'rel': 'Synonym', 'end': 'coffee'}\n",
      "{'start': 'coffee', 'rel': 'AtLocation', 'end': 'a coffee shop'}\n",
      "{'start': 'a sugar', 'rel': 'AtLocation', 'end': 'coffee'}\n",
      "{'start': 'a mug', 'rel': 'UsedFor', 'end': 'coffee'}\n",
      "{'start': 'Coffee', 'rel': 'ReceivesAction', 'end': 'made from coffee beans'}\n",
      "{'start': 'sugar', 'rel': 'RelatedTo', 'end': 'coffee'}\n",
      "{'start': 'caffè', 'rel': 'Synonym', 'end': 'coffee'}\n",
      "{'start': 'ต้นกาแฟ', 'rel': 'Synonym', 'end': 'coffee'}\n",
      "{'start': 'kawa', 'rel': 'Synonym', 'end': 'coffee'}\n",
      "{'start': 'kahva', 'rel': 'RelatedTo', 'end': 'coffee'}\n",
      "{'start': 'コーヒーブラウン', 'rel': 'Synonym', 'end': 'coffee'}\n",
      "{'start': 'قَهْوَة', 'rel': 'Synonym', 'end': 'coffee'}\n",
      "{'start': 'café', 'rel': 'Synonym', 'end': 'coffee'}\n",
      "{'start': 'coffee', 'rel': 'IsA', 'end': 'a popular drink'}\n",
      "{'start': 'coffee', 'rel': 'AtLocation', 'end': 'a internet cafe'}\n",
      "{'start': 'kopi', 'rel': 'Synonym', 'end': 'coffee'}\n",
      "{'start': 'kaffe', 'rel': 'Synonym', 'end': 'coffee'}\n",
      "{'start': 'coffee', 'rel': 'IsA', 'end': 'a stimulant'}\n",
      "{'start': 'Coffee', 'rel': 'HasA', 'end': 'caffeine'}\n",
      "{'start': 'Coffee', 'rel': 'HasProperty', 'end': 'served hot'}\n",
      "{'start': 'Café', 'rel': 'Synonym', 'end': 'coffee'}\n",
      "{'start': 'coffee', 'rel': 'AtLocation', 'end': 'a coffee shop'}\n",
      "{'start': 'a sugar', 'rel': 'AtLocation', 'end': 'coffee'}\n",
      "{'start': 'a mug', 'rel': 'UsedFor', 'end': 'coffee'}\n",
      "{'start': 'Coffee', 'rel': 'ReceivesAction', 'end': 'made from coffee beans'}\n",
      "{'start': 'sugar', 'rel': 'RelatedTo', 'end': 'coffee'}\n",
      "{'start': 'caffè', 'rel': 'Synonym', 'end': 'coffee'}\n",
      "{'start': 'ต้นกาแฟ', 'rel': 'Synonym', 'end': 'coffee'}\n",
      "{'start': 'kawa', 'rel': 'Synonym', 'end': 'coffee'}\n",
      "{'start': 'kahva', 'rel': 'RelatedTo', 'end': 'coffee'}\n",
      "{'start': 'コーヒーブラウン', 'rel': 'Synonym', 'end': 'coffee'}\n",
      "{'start': 'قَهْوَة', 'rel': 'Synonym', 'end': 'coffee'}\n",
      "{'start': 'café', 'rel': 'Synonym', 'end': 'coffee'}\n",
      "{'start': 'coffee', 'rel': 'IsA', 'end': 'a popular drink'}\n",
      "{'start': 'coffee', 'rel': 'AtLocation', 'end': 'a internet cafe'}\n",
      "{'start': 'kopi', 'rel': 'Synonym', 'end': 'coffee'}\n",
      "{'start': 'kaffe', 'rel': 'Synonym', 'end': 'coffee'}\n",
      "{'start': 'coffee', 'rel': 'IsA', 'end': 'a stimulant'}\n",
      "{'start': 'Coffee', 'rel': 'HasA', 'end': 'caffeine'}\n",
      "{'start': 'Coffee', 'rel': 'HasProperty', 'end': 'served hot'}\n",
      "{'start': 'Café', 'rel': 'Synonym', 'end': 'coffee'}\n",
      "{'start': 'coffee', 'rel': 'AtLocation', 'end': 'a coffee shop'}\n",
      "{'start': 'a sugar', 'rel': 'AtLocation', 'end': 'coffee'}\n",
      "{'start': 'a mug', 'rel': 'UsedFor', 'end': 'coffee'}\n",
      "{'start': 'Coffee', 'rel': 'ReceivesAction', 'end': 'made from coffee beans'}\n",
      "{'start': 'sugar', 'rel': 'RelatedTo', 'end': 'coffee'}\n",
      "{'start': 'caffè', 'rel': 'Synonym', 'end': 'coffee'}\n",
      "{'start': 'ต้นกาแฟ', 'rel': 'Synonym', 'end': 'coffee'}\n",
      "{'start': 'kawa', 'rel': 'Synonym', 'end': 'coffee'}\n",
      "{'start': 'kahva', 'rel': 'RelatedTo', 'end': 'coffee'}\n",
      "{'start': 'コーヒーブラウン', 'rel': 'Synonym', 'end': 'coffee'}\n",
      "{'start': 'قَهْوَة', 'rel': 'Synonym', 'end': 'coffee'}\n",
      "{'start': 'café', 'rel': 'Synonym', 'end': 'coffee'}\n",
      "{'start': 'coffee', 'rel': 'IsA', 'end': 'a popular drink'}\n",
      "{'start': 'coffee', 'rel': 'AtLocation', 'end': 'a internet cafe'}\n",
      "{'start': 'kopi', 'rel': 'Synonym', 'end': 'coffee'}\n",
      "{'start': 'kaffe', 'rel': 'Synonym', 'end': 'coffee'}\n"
     ]
    }
   ],
   "source": [
    "import requests\n",
    "\n",
    "def get_relations(concept):\n",
    "    url = f\"http://api.conceptnet.io/c/en/{concept}\"\n",
    "    response = requests.get(url)\n",
    "    data = response.json()\n",
    "    \n",
    "    relations = []\n",
    "    for edge in data['edges']:\n",
    "        relations.append({\n",
    "            'start': edge['start']['label'],\n",
    "            'rel': edge['rel']['label'],\n",
    "            'end': edge['end']['label']\n",
    "        })\n",
    "    return relations\n",
    "\n",
    "def get_two_hop_relations(concept):\n",
    "    # First hop\n",
    "    first_hop_relations = get_relations(concept)\n",
    "    all_relations = first_hop_relations.copy()\n",
    "\n",
    "    # Second hop\n",
    "    for relation in first_hop_relations:\n",
    "        second_hop_relations = get_relations(relation['end'])\n",
    "        all_relations.extend(second_hop_relations)\n",
    "    \n",
    "    return all_relations\n",
    "\n",
    "# Example usage\n",
    "concept = \"coffee\"\n",
    "two_hop_relations = get_two_hop_relations(concept)\n",
    "for relation in two_hop_relations:\n",
    "    print(relation)"
   ]
  },
  {
   "cell_type": "code",
   "execution_count": null,
   "id": "95941195-7bce-4700-9f03-c4ae02b35a87",
   "metadata": {},
   "outputs": [],
   "source": []
  }
 ],
 "metadata": {
  "kernelspec": {
   "display_name": "Python 3",
   "language": "python",
   "name": "python3"
  },
  "language_info": {
   "codemirror_mode": {
    "name": "ipython",
    "version": 3
   },
   "file_extension": ".py",
   "mimetype": "text/x-python",
   "name": "python",
   "nbconvert_exporter": "python",
   "pygments_lexer": "ipython3",
   "version": "3.8.8"
  }
 },
 "nbformat": 4,
 "nbformat_minor": 5
}
