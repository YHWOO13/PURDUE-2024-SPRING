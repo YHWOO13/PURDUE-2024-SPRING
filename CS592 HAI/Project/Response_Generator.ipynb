{
 "cells": [
  {
   "cell_type": "code",
   "execution_count": 1,
   "metadata": {
    "colab": {
     "base_uri": "https://localhost:8080/"
    },
    "executionInfo": {
     "elapsed": 25202,
     "status": "ok",
     "timestamp": 1713337033090,
     "user": {
      "displayName": "Yoonhyuck Woo",
      "userId": "02824016300247564870"
     },
     "user_tz": 240
    },
    "id": "fpfbjtB_cyb-",
    "outputId": "f3a6793f-368e-4fe8-ec6b-053c1852636b"
   },
   "outputs": [
    {
     "ename": "ModuleNotFoundError",
     "evalue": "No module named 'google.colab'",
     "output_type": "error",
     "traceback": [
      "\u001b[1;31m---------------------------------------------------------------------------\u001b[0m",
      "\u001b[1;31mModuleNotFoundError\u001b[0m                       Traceback (most recent call last)",
      "\u001b[1;32m<ipython-input-1-d5df0069828e>\u001b[0m in \u001b[0;36m<module>\u001b[1;34m\u001b[0m\n\u001b[1;32m----> 1\u001b[1;33m \u001b[1;32mfrom\u001b[0m \u001b[0mgoogle\u001b[0m\u001b[1;33m.\u001b[0m\u001b[0mcolab\u001b[0m \u001b[1;32mimport\u001b[0m \u001b[0mdrive\u001b[0m\u001b[1;33m\u001b[0m\u001b[1;33m\u001b[0m\u001b[0m\n\u001b[0m\u001b[0;32m      2\u001b[0m \u001b[0mdrive\u001b[0m\u001b[1;33m.\u001b[0m\u001b[0mmount\u001b[0m\u001b[1;33m(\u001b[0m\u001b[1;34m'/content/drive'\u001b[0m\u001b[1;33m)\u001b[0m\u001b[1;33m\u001b[0m\u001b[1;33m\u001b[0m\u001b[0m\n",
      "\u001b[1;31mModuleNotFoundError\u001b[0m: No module named 'google.colab'"
     ]
    }
   ],
   "source": [
    "from google.colab import drive\n",
    "drive.mount('/content/drive')"
   ]
  },
  {
   "cell_type": "code",
   "execution_count": 1,
   "metadata": {
    "executionInfo": {
     "elapsed": 3282,
     "status": "ok",
     "timestamp": 1713337046497,
     "user": {
      "displayName": "Yoonhyuck Woo",
      "userId": "02824016300247564870"
     },
     "user_tz": 240
    },
    "id": "xB_2nqyZbg1e"
   },
   "outputs": [],
   "source": [
    "#coding:utf-8\n",
    "import numpy as np\n",
    "import json\n",
    "# from model import ConceptFlow, use_cuda\n",
    "# from preprocession import prepare_data, build_vocab, gen_batched_data\n",
    "import torch\n",
    "import warnings\n",
    "import yaml\n",
    "import os\n",
    "import requests\n",
    "import re\n",
    "from torch.autograd import Variable\n",
    "import torch.nn as nn\n",
    "from torch.nn import utils as nn_utils\n",
    "warnings.filterwarnings('ignore')"
   ]
  },
  {
   "cell_type": "code",
   "execution_count": 3,
   "metadata": {
    "executionInfo": {
     "elapsed": 4,
     "status": "ok",
     "timestamp": 1713337046498,
     "user": {
      "displayName": "Yoonhyuck Woo",
      "userId": "02824016300247564870"
     },
     "user_tz": 240
    },
    "id": "2sqEj4IOyaXu"
   },
   "outputs": [],
   "source": [
    "use_cuda = True\n",
    "if use_cuda and torch.cuda.is_available():\n",
    "    device = torch.device('cuda:0')"
   ]
  },
  {
   "cell_type": "code",
   "execution_count": 4,
   "metadata": {
    "executionInfo": {
     "elapsed": 3038,
     "status": "ok",
     "timestamp": 1713337049533,
     "user": {
      "displayName": "Yoonhyuck Woo",
      "userId": "02824016300247564870"
     },
     "user_tz": 240
    },
    "id": "GFLPEJdWpZwl"
   },
   "outputs": [
    {
     "ename": "Exception",
     "evalue": "File `\"'/content/drive/MyDrive/Commit_colab/PURDUE-2024-SPRING/CS592.py\"` not found.",
     "output_type": "error",
     "traceback": [
      "\u001b[1;31m---------------------------------------------------------------------------\u001b[0m",
      "\u001b[1;31mOSError\u001b[0m                                   Traceback (most recent call last)",
      "\u001b[1;32m~\\anaconda3\\lib\\site-packages\\IPython\\core\\magics\\execution.py\u001b[0m in \u001b[0;36mrun\u001b[1;34m(self, parameter_s, runner, file_finder)\u001b[0m\n\u001b[0;32m    702\u001b[0m             \u001b[0mfpath\u001b[0m \u001b[1;33m=\u001b[0m \u001b[0marg_lst\u001b[0m\u001b[1;33m[\u001b[0m\u001b[1;36m0\u001b[0m\u001b[1;33m]\u001b[0m\u001b[1;33m\u001b[0m\u001b[1;33m\u001b[0m\u001b[0m\n\u001b[1;32m--> 703\u001b[1;33m             \u001b[0mfilename\u001b[0m \u001b[1;33m=\u001b[0m \u001b[0mfile_finder\u001b[0m\u001b[1;33m(\u001b[0m\u001b[0mfpath\u001b[0m\u001b[1;33m)\u001b[0m\u001b[1;33m\u001b[0m\u001b[1;33m\u001b[0m\u001b[0m\n\u001b[0m\u001b[0;32m    704\u001b[0m         \u001b[1;32mexcept\u001b[0m \u001b[0mIndexError\u001b[0m\u001b[1;33m:\u001b[0m\u001b[1;33m\u001b[0m\u001b[1;33m\u001b[0m\u001b[0m\n",
      "\u001b[1;32m~\\anaconda3\\lib\\site-packages\\IPython\\utils\\path.py\u001b[0m in \u001b[0;36mget_py_filename\u001b[1;34m(name, force_win32)\u001b[0m\n\u001b[0;32m    108\u001b[0m     \u001b[1;32melse\u001b[0m\u001b[1;33m:\u001b[0m\u001b[1;33m\u001b[0m\u001b[1;33m\u001b[0m\u001b[0m\n\u001b[1;32m--> 109\u001b[1;33m         \u001b[1;32mraise\u001b[0m \u001b[0mIOError\u001b[0m\u001b[1;33m(\u001b[0m\u001b[1;34m'File `%r` not found.'\u001b[0m \u001b[1;33m%\u001b[0m \u001b[0mname\u001b[0m\u001b[1;33m)\u001b[0m\u001b[1;33m\u001b[0m\u001b[1;33m\u001b[0m\u001b[0m\n\u001b[0m\u001b[0;32m    110\u001b[0m \u001b[1;33m\u001b[0m\u001b[0m\n",
      "\u001b[1;31mOSError\u001b[0m: File `\"'/content/drive/MyDrive/Commit_colab/PURDUE-2024-SPRING/CS592.py\"` not found.",
      "\nDuring handling of the above exception, another exception occurred:\n",
      "\u001b[1;31mException\u001b[0m                                 Traceback (most recent call last)",
      "\u001b[1;32m<ipython-input-4-b7b96f311843>\u001b[0m in \u001b[0;36m<module>\u001b[1;34m\u001b[0m\n\u001b[1;32m----> 1\u001b[1;33m \u001b[0mget_ipython\u001b[0m\u001b[1;33m(\u001b[0m\u001b[1;33m)\u001b[0m\u001b[1;33m.\u001b[0m\u001b[0mrun_line_magic\u001b[0m\u001b[1;33m(\u001b[0m\u001b[1;34m'run'\u001b[0m\u001b[1;33m,\u001b[0m \u001b[1;34m\"'/content/drive/MyDrive/Commit_colab/PURDUE-2024-SPRING/CS592 HAI/Project/Central.ipynb'\"\u001b[0m\u001b[1;33m)\u001b[0m\u001b[1;33m\u001b[0m\u001b[1;33m\u001b[0m\u001b[0m\n\u001b[0m\u001b[0;32m      2\u001b[0m \u001b[0mget_ipython\u001b[0m\u001b[1;33m(\u001b[0m\u001b[1;33m)\u001b[0m\u001b[1;33m.\u001b[0m\u001b[0mrun_line_magic\u001b[0m\u001b[1;33m(\u001b[0m\u001b[1;34m'run'\u001b[0m\u001b[1;33m,\u001b[0m \u001b[1;34m\"'/content/drive/MyDrive/Commit_colab/PURDUE-2024-SPRING/CS592 HAI/Project/Embedding.ipynb'\"\u001b[0m\u001b[1;33m)\u001b[0m\u001b[1;33m\u001b[0m\u001b[1;33m\u001b[0m\u001b[0m\n\u001b[0;32m      3\u001b[0m \u001b[0mget_ipython\u001b[0m\u001b[1;33m(\u001b[0m\u001b[1;33m)\u001b[0m\u001b[1;33m.\u001b[0m\u001b[0mrun_line_magic\u001b[0m\u001b[1;33m(\u001b[0m\u001b[1;34m'run'\u001b[0m\u001b[1;33m,\u001b[0m \u001b[1;34m\"'/content/drive/MyDrive/Commit_colab/PURDUE-2024-SPRING/CS592 HAI/Project/Outer.ipynb'\"\u001b[0m\u001b[1;33m)\u001b[0m\u001b[1;33m\u001b[0m\u001b[1;33m\u001b[0m\u001b[0m\n\u001b[0;32m      4\u001b[0m \u001b[0mget_ipython\u001b[0m\u001b[1;33m(\u001b[0m\u001b[1;33m)\u001b[0m\u001b[1;33m.\u001b[0m\u001b[0mrun_line_magic\u001b[0m\u001b[1;33m(\u001b[0m\u001b[1;34m'run'\u001b[0m\u001b[1;33m,\u001b[0m \u001b[1;34m\"'/content/drive/MyDrive/Commit_colab/PURDUE-2024-SPRING/CS592 HAI/Project/Conceptflow.ipynb'\"\u001b[0m\u001b[1;33m)\u001b[0m\u001b[1;33m\u001b[0m\u001b[1;33m\u001b[0m\u001b[0m\n\u001b[0;32m      5\u001b[0m \u001b[0mget_ipython\u001b[0m\u001b[1;33m(\u001b[0m\u001b[1;33m)\u001b[0m\u001b[1;33m.\u001b[0m\u001b[0mrun_line_magic\u001b[0m\u001b[1;33m(\u001b[0m\u001b[1;34m'run'\u001b[0m\u001b[1;33m,\u001b[0m \u001b[1;34m\"'/content/drive/MyDrive/Commit_colab/PURDUE-2024-SPRING/CS592 HAI/Project/Preprocession.ipynb'\"\u001b[0m\u001b[1;33m)\u001b[0m\u001b[1;33m\u001b[0m\u001b[1;33m\u001b[0m\u001b[0m\n",
      "\u001b[1;32m~\\anaconda3\\lib\\site-packages\\IPython\\core\\interactiveshell.py\u001b[0m in \u001b[0;36mrun_line_magic\u001b[1;34m(self, magic_name, line, _stack_depth)\u001b[0m\n\u001b[0;32m   2342\u001b[0m                 \u001b[0mkwargs\u001b[0m\u001b[1;33m[\u001b[0m\u001b[1;34m'local_ns'\u001b[0m\u001b[1;33m]\u001b[0m \u001b[1;33m=\u001b[0m \u001b[0mself\u001b[0m\u001b[1;33m.\u001b[0m\u001b[0mget_local_scope\u001b[0m\u001b[1;33m(\u001b[0m\u001b[0mstack_depth\u001b[0m\u001b[1;33m)\u001b[0m\u001b[1;33m\u001b[0m\u001b[1;33m\u001b[0m\u001b[0m\n\u001b[0;32m   2343\u001b[0m             \u001b[1;32mwith\u001b[0m \u001b[0mself\u001b[0m\u001b[1;33m.\u001b[0m\u001b[0mbuiltin_trap\u001b[0m\u001b[1;33m:\u001b[0m\u001b[1;33m\u001b[0m\u001b[1;33m\u001b[0m\u001b[0m\n\u001b[1;32m-> 2344\u001b[1;33m                 \u001b[0mresult\u001b[0m \u001b[1;33m=\u001b[0m \u001b[0mfn\u001b[0m\u001b[1;33m(\u001b[0m\u001b[1;33m*\u001b[0m\u001b[0margs\u001b[0m\u001b[1;33m,\u001b[0m \u001b[1;33m**\u001b[0m\u001b[0mkwargs\u001b[0m\u001b[1;33m)\u001b[0m\u001b[1;33m\u001b[0m\u001b[1;33m\u001b[0m\u001b[0m\n\u001b[0m\u001b[0;32m   2345\u001b[0m             \u001b[1;32mreturn\u001b[0m \u001b[0mresult\u001b[0m\u001b[1;33m\u001b[0m\u001b[1;33m\u001b[0m\u001b[0m\n\u001b[0;32m   2346\u001b[0m \u001b[1;33m\u001b[0m\u001b[0m\n",
      "\u001b[1;32m~\\anaconda3\\lib\\site-packages\\decorator.py\u001b[0m in \u001b[0;36mfun\u001b[1;34m(*args, **kw)\u001b[0m\n\u001b[0;32m    229\u001b[0m             \u001b[1;32mif\u001b[0m \u001b[1;32mnot\u001b[0m \u001b[0mkwsyntax\u001b[0m\u001b[1;33m:\u001b[0m\u001b[1;33m\u001b[0m\u001b[1;33m\u001b[0m\u001b[0m\n\u001b[0;32m    230\u001b[0m                 \u001b[0margs\u001b[0m\u001b[1;33m,\u001b[0m \u001b[0mkw\u001b[0m \u001b[1;33m=\u001b[0m \u001b[0mfix\u001b[0m\u001b[1;33m(\u001b[0m\u001b[0margs\u001b[0m\u001b[1;33m,\u001b[0m \u001b[0mkw\u001b[0m\u001b[1;33m,\u001b[0m \u001b[0msig\u001b[0m\u001b[1;33m)\u001b[0m\u001b[1;33m\u001b[0m\u001b[1;33m\u001b[0m\u001b[0m\n\u001b[1;32m--> 231\u001b[1;33m             \u001b[1;32mreturn\u001b[0m \u001b[0mcaller\u001b[0m\u001b[1;33m(\u001b[0m\u001b[0mfunc\u001b[0m\u001b[1;33m,\u001b[0m \u001b[1;33m*\u001b[0m\u001b[1;33m(\u001b[0m\u001b[0mextras\u001b[0m \u001b[1;33m+\u001b[0m \u001b[0margs\u001b[0m\u001b[1;33m)\u001b[0m\u001b[1;33m,\u001b[0m \u001b[1;33m**\u001b[0m\u001b[0mkw\u001b[0m\u001b[1;33m)\u001b[0m\u001b[1;33m\u001b[0m\u001b[1;33m\u001b[0m\u001b[0m\n\u001b[0m\u001b[0;32m    232\u001b[0m     \u001b[0mfun\u001b[0m\u001b[1;33m.\u001b[0m\u001b[0m__name__\u001b[0m \u001b[1;33m=\u001b[0m \u001b[0mfunc\u001b[0m\u001b[1;33m.\u001b[0m\u001b[0m__name__\u001b[0m\u001b[1;33m\u001b[0m\u001b[1;33m\u001b[0m\u001b[0m\n\u001b[0;32m    233\u001b[0m     \u001b[0mfun\u001b[0m\u001b[1;33m.\u001b[0m\u001b[0m__doc__\u001b[0m \u001b[1;33m=\u001b[0m \u001b[0mfunc\u001b[0m\u001b[1;33m.\u001b[0m\u001b[0m__doc__\u001b[0m\u001b[1;33m\u001b[0m\u001b[1;33m\u001b[0m\u001b[0m\n",
      "\u001b[1;32m~\\anaconda3\\lib\\site-packages\\IPython\\core\\magic.py\u001b[0m in \u001b[0;36m<lambda>\u001b[1;34m(f, *a, **k)\u001b[0m\n\u001b[0;32m    185\u001b[0m     \u001b[1;31m# but it's overkill for just that one bit of state.\u001b[0m\u001b[1;33m\u001b[0m\u001b[1;33m\u001b[0m\u001b[1;33m\u001b[0m\u001b[0m\n\u001b[0;32m    186\u001b[0m     \u001b[1;32mdef\u001b[0m \u001b[0mmagic_deco\u001b[0m\u001b[1;33m(\u001b[0m\u001b[0marg\u001b[0m\u001b[1;33m)\u001b[0m\u001b[1;33m:\u001b[0m\u001b[1;33m\u001b[0m\u001b[1;33m\u001b[0m\u001b[0m\n\u001b[1;32m--> 187\u001b[1;33m         \u001b[0mcall\u001b[0m \u001b[1;33m=\u001b[0m \u001b[1;32mlambda\u001b[0m \u001b[0mf\u001b[0m\u001b[1;33m,\u001b[0m \u001b[1;33m*\u001b[0m\u001b[0ma\u001b[0m\u001b[1;33m,\u001b[0m \u001b[1;33m**\u001b[0m\u001b[0mk\u001b[0m\u001b[1;33m:\u001b[0m \u001b[0mf\u001b[0m\u001b[1;33m(\u001b[0m\u001b[1;33m*\u001b[0m\u001b[0ma\u001b[0m\u001b[1;33m,\u001b[0m \u001b[1;33m**\u001b[0m\u001b[0mk\u001b[0m\u001b[1;33m)\u001b[0m\u001b[1;33m\u001b[0m\u001b[1;33m\u001b[0m\u001b[0m\n\u001b[0m\u001b[0;32m    188\u001b[0m \u001b[1;33m\u001b[0m\u001b[0m\n\u001b[0;32m    189\u001b[0m         \u001b[1;32mif\u001b[0m \u001b[0mcallable\u001b[0m\u001b[1;33m(\u001b[0m\u001b[0marg\u001b[0m\u001b[1;33m)\u001b[0m\u001b[1;33m:\u001b[0m\u001b[1;33m\u001b[0m\u001b[1;33m\u001b[0m\u001b[0m\n",
      "\u001b[1;32m~\\anaconda3\\lib\\site-packages\\IPython\\core\\magics\\execution.py\u001b[0m in \u001b[0;36mrun\u001b[1;34m(self, parameter_s, runner, file_finder)\u001b[0m\n\u001b[0;32m    712\u001b[0m             \u001b[1;32mif\u001b[0m \u001b[0mos\u001b[0m\u001b[1;33m.\u001b[0m\u001b[0mname\u001b[0m \u001b[1;33m==\u001b[0m \u001b[1;34m'nt'\u001b[0m \u001b[1;32mand\u001b[0m \u001b[0mre\u001b[0m\u001b[1;33m.\u001b[0m\u001b[0mmatch\u001b[0m\u001b[1;33m(\u001b[0m\u001b[1;34mr\"^'.*'$\"\u001b[0m\u001b[1;33m,\u001b[0m\u001b[0mfpath\u001b[0m\u001b[1;33m)\u001b[0m\u001b[1;33m:\u001b[0m\u001b[1;33m\u001b[0m\u001b[1;33m\u001b[0m\u001b[0m\n\u001b[0;32m    713\u001b[0m                 \u001b[0mwarn\u001b[0m\u001b[1;33m(\u001b[0m\u001b[1;34m'For Windows, use double quotes to wrap a filename: %run \"mypath\\\\myfile.py\"'\u001b[0m\u001b[1;33m)\u001b[0m\u001b[1;33m\u001b[0m\u001b[1;33m\u001b[0m\u001b[0m\n\u001b[1;32m--> 714\u001b[1;33m             \u001b[1;32mraise\u001b[0m \u001b[0mException\u001b[0m\u001b[1;33m(\u001b[0m\u001b[0mmsg\u001b[0m\u001b[1;33m)\u001b[0m\u001b[1;33m\u001b[0m\u001b[1;33m\u001b[0m\u001b[0m\n\u001b[0m\u001b[0;32m    715\u001b[0m         \u001b[1;32mexcept\u001b[0m \u001b[0mTypeError\u001b[0m\u001b[1;33m:\u001b[0m\u001b[1;33m\u001b[0m\u001b[1;33m\u001b[0m\u001b[0m\n\u001b[0;32m    716\u001b[0m             \u001b[1;32mif\u001b[0m \u001b[0mfpath\u001b[0m \u001b[1;32min\u001b[0m \u001b[0msys\u001b[0m\u001b[1;33m.\u001b[0m\u001b[0mmeta_path\u001b[0m\u001b[1;33m:\u001b[0m\u001b[1;33m\u001b[0m\u001b[1;33m\u001b[0m\u001b[0m\n",
      "\u001b[1;31mException\u001b[0m: File `\"'/content/drive/MyDrive/Commit_colab/PURDUE-2024-SPRING/CS592.py\"` not found."
     ]
    }
   ],
   "source": [
    "%run '/content/drive/MyDrive/Commit_colab/PURDUE-2024-SPRING/CS592 HAI/Project/Central.ipynb'\n",
    "%run '/content/drive/MyDrive/Commit_colab/PURDUE-2024-SPRING/CS592 HAI/Project/Embedding.ipynb'\n",
    "%run '/content/drive/MyDrive/Commit_colab/PURDUE-2024-SPRING/CS592 HAI/Project/Outer.ipynb'\n",
    "%run '/content/drive/MyDrive/Commit_colab/PURDUE-2024-SPRING/CS592 HAI/Project/Conceptflow.ipynb'\n",
    "%run '/content/drive/MyDrive/Commit_colab/PURDUE-2024-SPRING/CS592 HAI/Project/Preprocession.ipynb'"
   ]
  },
  {
   "cell_type": "code",
   "execution_count": 2,
   "metadata": {},
   "outputs": [],
   "source": [
    "data_dir = \"D:\\\\13.PURDUE\\\\Data\\\\ConceptFlow(ECCF)_data\"\n",
    "with open('%s/resource.txt' % data_dir) as f:\n",
    "    d = json.loads(f.readline())\n",
    "\n",
    "    csk_triples = d['csk_triples']\n",
    "    csk_entities = d['csk_entities']\n",
    "    raw_vocab = d['vocab_dict']\n",
    "    kb_dict = d['dict_csk']\n",
    "    dict_csk_entities = d['dict_csk_entities']\n",
    "    dict_csk_triples = d['dict_csk_triples']"
   ]
  },
  {
   "cell_type": "code",
   "execution_count": 20,
   "metadata": {},
   "outputs": [
    {
     "ename": "TypeError",
     "evalue": "unhashable type: 'slice'",
     "output_type": "error",
     "traceback": [
      "\u001b[1;31m---------------------------------------------------------------------------\u001b[0m",
      "\u001b[1;31mTypeError\u001b[0m                                 Traceback (most recent call last)",
      "\u001b[1;32m<ipython-input-20-d1d392671d88>\u001b[0m in \u001b[0;36m<module>\u001b[1;34m\u001b[0m\n\u001b[1;32m----> 1\u001b[1;33m \u001b[0mss\u001b[0m \u001b[1;33m=\u001b[0m \u001b[0mdict_csk_triples\u001b[0m\u001b[1;33m[\u001b[0m\u001b[1;33m:\u001b[0m\u001b[1;36m5\u001b[0m\u001b[1;33m]\u001b[0m\u001b[1;33m\u001b[0m\u001b[1;33m\u001b[0m\u001b[0m\n\u001b[0m",
      "\u001b[1;31mTypeError\u001b[0m: unhashable type: 'slice'"
     ]
    }
   ],
   "source": [
    "ss = dict_csk_triples[:5]"
   ]
  },
  {
   "cell_type": "markdown",
   "metadata": {},
   "source": [
    "# New post preprocessing"
   ]
  },
  {
   "cell_type": "code",
   "execution_count": 214,
   "metadata": {
    "collapsed": true,
    "jupyter": {
     "outputs_hidden": true
    },
    "tags": []
   },
   "outputs": [
    {
     "name": "stdout",
     "output_type": "stream",
     "text": [
      "entities set()\n",
      "triples []\n",
      "entities {'ειναι', 'ما_هذا', 'ドス', 'wast', 'has', 'oes', 'bes', 'е', 'でげす', 'inar', 'ざり', 'です', 'már_késő_van', \"where's\", 'isness', 'зарем', 'いらっしゃる', 'je', 'ada_apa', 'mura', 'er', 'e', 'cérb', 'nĩ', 'es', 'found_in_subway', 'αληθώσ_ανέστη', 'id', 'sta', 'qu_est_ce_que_c_est', 'っす', \"she'sn't\", \"who's\", 'يكون', 'だ', 'で御座ります', 'どす', 'is', 'expensive', 'ei_ole', 'v', 'é', 'trínarb', 'ialah', 'está', 'a', 'en_1', 'bilgisayarsa', '3', '𐌹𐍃𐍄', 'で御座います', 'beest', 'r', 'infinite_stratos', 'n', 'tabansızsa', '𐬀𐬯𐬙𐬌', 'じゃ', 'ist', 'ってのは', 'єстъ', '是', 'є', 'ónar', 'evse', 'thì', 'isentropic', 'being', 'jeste', 'と言うのは', 'adalah', 'átʼéii', 'yw', 'IS_(Infinite_Stratos)', 'your+name+is+mud-p#Component-3', 'jest', 'でごんす', 'beeth', 'これはなんですか', 'dar', 'computing', \"it's\"}\n",
      "triples [('どす', 'Synonym', 'is'), ('n', 'Synonym', 'is'), ('en_1', 'RelatedTo', 'is'), ('ざり', 'Synonym', 'is'), ('is', 'Synonym', 'jest'), ('ドス', 'Synonym', 'is'), ('いらっしゃる', 'Synonym', 'is'), ('is', 'Synonym', 'jeste'), ('v', 'Synonym', 'is'), ('ってのは', 'Synonym', 'is'), ('でごんす', 'Synonym', 'is'), ('だ', 'Synonym', 'is'), ('3', 'Synonym', 'is'), ('でげす', 'Synonym', 'is'), ('っす', 'Synonym', 'is'), ('で御座ります', 'Synonym', 'is'), ('is', 'Synonym', 'je'), ('で御座います', 'Synonym', 'is'), ('です', 'Synonym', 'is'), ('n', 'HasContext', 'computing'), ('と言うのは', 'Synonym', 'is'), ('v', 'Synonym', 'is'), ('is', 'Synonym', '是'), ('átʼéii', 'RelatedTo', 'is'), ('bilgisayarsa', 'RelatedTo', 'is'), ('is', 'Synonym', 'je'), ('is', 'Synonym', '𐌹𐍃𐍄'), ('már_késő_van', 'RelatedTo', 'is'), ('is', 'DerivedFrom', 'n'), ('is', 'Synonym', 'thì'), ('ei_ole', 'RelatedTo', 'is'), ('これはなんですか', 'RelatedTo', 'is'), ('beeth', 'RelatedTo', 'is'), ('v', 'RelatedTo', 'is'), ('is', 'Synonym', 'oes'), (\"where's\", 'RelatedTo', 'is'), ('r', 'RelatedTo', 'is'), ('is', 'CapableOf', 'found_in_subway'), ('зарем', 'RelatedTo', 'is'), ('r', 'RelatedTo', 'is'), ('ónar', 'RelatedTo', 'is'), ('wast', 'RelatedTo', 'is'), ('is', 'Synonym', 'es'), ('is', 'Synonym', 'is'), ('tabansızsa', 'RelatedTo', 'is'), ('isentropic', 'DerivedFrom', 'is'), (\"it's\", 'RelatedTo', 'is'), ('is', 'Synonym', 'bes'), ('ialah', 'RelatedTo', 'is'), ('is', 'Synonym', 'يكون'), ('v', 'RelatedTo', 'is'), ('is', 'Synonym', 'じゃ'), (\"she'sn't\", 'RelatedTo', 'is'), ('infinite_stratos', 'ExternalURL', 'IS_(Infinite_Stratos)'), ('a', 'RelatedTo', 'is'), ('ada_apa', 'RelatedTo', 'is'), ('n', 'RelatedTo', 'is'), ('is', 'Synonym', 'е'), ('is', 'Synonym', 'está'), ('trínarb', 'RelatedTo', 'is'), ('id', 'Synonym', 'is'), ('evse', 'RelatedTo', 'is'), ('is', 'Synonym', 'e'), ('is', 'Synonym', 'er'), ('being', 'RelatedTo', 'is'), ('v', 'RelatedTo', 'is'), ('v', 'RelatedTo', 'is'), ('v', 'RelatedTo', 'is'), ('dar', 'RelatedTo', 'is'), ('is', 'Synonym', 'ειναι'), ('inar', 'RelatedTo', 'is'), ('is', 'Synonym', 'ist'), ('isness', 'DerivedFrom', 'is'), ('mura', 'RelatedTo', 'is'), ('是', 'Synonym', 'is'), ('αληθώσ_ανέστη', 'RelatedTo', 'is'), ('is', 'Synonym', 'yw'), ('is', 'Synonym', 'is'), ('ما_هذا', 'RelatedTo', 'is'), ('is', 'ExternalURL', 'your+name+is+mud-p#Component-3'), ('v', 'RelatedTo', 'is'), ('v', 'RelatedTo', 'is'), ('v', 'RelatedTo', 'is'), (\"who's\", 'RelatedTo', 'is'), ('beest', 'RelatedTo', 'is'), ('is', 'Synonym', '𐬀𐬯𐬙𐬌'), ('adalah', 'RelatedTo', 'is'), ('v', 'RelatedTo', 'is'), ('is', 'Synonym', 'є'), ('is', 'CapableOf', 'expensive'), ('is', 'Synonym', 'é'), ('v', 'RelatedTo', 'is'), ('is', 'Synonym', 'sta'), ('has', 'SimilarTo', 'is'), ('is', 'Synonym', 'єстъ'), ('nĩ', 'RelatedTo', 'is'), ('v', 'RelatedTo', 'is'), ('qu_est_ce_que_c_est', 'RelatedTo', 'is'), ('v', 'Synonym', 'is'), ('cérb', 'RelatedTo', 'is')]\n",
      "entities {'related', '相关', 'family', 'anthropology', 'connexe', 'unrelated', 'linguistics', 'thunder', 'n', 'wn', 'relative', 'structure_and_strategy', '有縁', 'a', 'v', 'interrelated', 'nectendus'}\n",
      "triples [('family', 'RelatedTo', 'related'), ('anthropology', 'SimilarTo', 'wn'), ('wn', 'Synonym', 'wn'), ('wn', 'RelatedTo', 'wn'), ('wn', 'SimilarTo', 'wn'), ('wn', 'SimilarTo', 'wn'), ('wn', 'Synonym', 'wn'), ('wn', 'SimilarTo', 'wn'), ('wn', 'SimilarTo', 'wn'), ('wn', 'SimilarTo', 'wn'), ('wn', 'Synonym', 'wn'), ('wn', 'SimilarTo', 'wn'), ('wn', 'Synonym', 'wn'), ('wn', 'SimilarTo', 'wn'), ('wn', 'Synonym', 'wn'), ('wn', 'SimilarTo', 'wn'), ('wn', 'Synonym', 'wn'), ('wn', 'Synonym', 'wn'), ('wn', 'Synonym', 'wn'), ('wn', 'Synonym', 'wn'), ('wn', 'Synonym', 'wn'), ('wn', 'Synonym', 'wn'), ('wn', 'Synonym', 'wn'), ('wn', 'SimilarTo', 'wn'), ('wn', 'SimilarTo', 'wn'), ('wn', 'SimilarTo', 'wn'), ('wn', 'Synonym', 'wn'), ('有縁', 'Synonym', 'related'), ('wn', 'Synonym', 'wn'), ('wn', 'SimilarTo', 'wn'), ('wn', 'Synonym', 'wn'), ('wn', 'Synonym', 'wn'), ('wn', 'Synonym', 'wn'), ('wn', 'Synonym', 'wn'), ('wn', 'SimilarTo', 'wn'), ('wn', 'Synonym', 'wn'), ('a', 'RelatedTo', 'related'), ('wn', 'SimilarTo', 'wn'), ('wn', 'SimilarTo', 'wn'), ('wn', 'Synonym', 'wn'), ('wn', 'SimilarTo', 'wn'), ('wn', 'SimilarTo', 'wn'), ('wn', 'Synonym', 'wn'), ('wn', 'SimilarTo', 'wn'), ('wn', 'SimilarTo', 'wn'), ('wn', 'RelatedTo', 'wn'), ('wn', 'Synonym', 'wn'), ('wn', 'SimilarTo', 'wn'), ('wn', 'Synonym', 'wn'), ('wn', 'SimilarTo', 'wn'), ('wn', 'Synonym', 'wn'), ('wn', 'Synonym', 'wn'), ('wn', 'Synonym', 'wn'), ('wn', 'Synonym', 'wn'), ('wn', 'Synonym', 'wn'), ('wn', 'SimilarTo', 'wn'), ('n', 'Synonym', 'related'), ('wn', 'Synonym', 'wn'), ('wn', 'SimilarTo', 'wn'), ('wn', 'Synonym', 'wn'), ('n', 'Synonym', 'related'), ('wn', 'SimilarTo', 'wn'), ('wn', 'SimilarTo', 'linguistics'), ('wn', 'SimilarTo', 'wn'), ('wn', 'RelatedTo', 'wn'), ('linguistics', 'SimilarTo', 'wn'), ('wn', 'Synonym', 'wn'), ('wn', 'Synonym', 'wn'), ('wn', 'Synonym', 'wn'), ('wn', 'SimilarTo', 'wn'), ('wn', 'SimilarTo', 'anthropology'), ('wn', 'Synonym', 'wn'), ('wn', 'SimilarTo', 'wn'), ('wn', 'Synonym', 'wn'), ('wn', 'RelatedTo', 'wn'), ('wn', 'SimilarTo', 'wn'), ('a', 'RelatedTo', 'related'), ('n', 'Synonym', 'related'), ('wn', 'Synonym', 'wn'), ('thunder', 'RelatedTo', 'related'), ('a', 'RelatedTo', 'related'), ('v', 'RelatedTo', 'related'), ('interrelated', 'DerivedFrom', 'related'), ('a', 'RelatedTo', 'related'), ('a', 'RelatedTo', 'related'), ('a', 'RelatedTo', 'connexe'), ('a', 'RelatedTo', 'related'), ('a', 'RelatedTo', 'related'), ('unrelated', 'DerivedFrom', 'related'), ('a', 'RelatedTo', 'related'), ('nectendus', 'RelatedTo', 'related'), ('a', 'RelatedTo', 'related'), ('v', 'RelatedTo', 'related'), ('a', 'RelatedTo', 'relative'), ('n', 'RelatedTo', 'related'), ('相关', 'Synonym', 'related'), ('structure_and_strategy', 'ReceivesAction', 'related'), ('a', 'RelatedTo', 'related'), ('n', 'RelatedTo', 'related'), ('n', 'RelatedTo', 'related')]\n",
      "entities {'cis', 'に取って', '乗せる', 'të', 'til', 'go', 'te', '徹す', 'put', 'into', 'naartoe', 'a', 'un', 'მდე', 'tu', 'unto', 'open', 'stop_standing_in', 'abys', 'ให้', 'grație', 'kepada', 'に対する', '1', 'do', 'hitherto', 'en_2', 'na', '迄', 'کو', '載せる', 'r', '対', 'n', '迄も', 'ad', 'enjoy_company_of_friends', \"so's\", 'thitherto', 'առ', 'be', 'da', 'u', 'ok', 'से', 'bread', 'apud', 'usque', 'にかけて', 'onto', 'za', '通す', 'に取りまして', '透す', 'prema', 'k', 'en_1', 'come', 'to', 'v', 'other+fish+to+fry-p#Component-3'}\n",
      "triples [('に取って', 'Synonym', 'to'), ('ad', 'RelatedTo', 'to'), ('da', 'RelatedTo', 'to'), ('徹す', 'Synonym', 'to'), ('առ', 'RelatedTo', 'to'), ('put', 'RelatedTo', 'to'), ('onto', 'DerivedFrom', 'to'), ('a', 'RelatedTo', 'to'), ('za', 'RelatedTo', 'to'), ('に取りまして', 'Synonym', 'to'), ('come', 'DerivedFrom', 'to'), ('迄も', 'Synonym', 'to'), ('v', 'Synonym', 'to'), ('にかけて', 'Synonym', 'to'), ('v', 'RelatedTo', 'to'), ('通す', 'Synonym', 'to'), ('透す', 'Synonym', 'to'), ('v', 'Synonym', 'to'), ('k', 'RelatedTo', 'to'), ('n', 'RelatedTo', 'to'), ('to', 'EtymologicallyDerivedFrom', 'to'), ('乗せる', 'Synonym', 'to'), ('do', 'DerivedFrom', 'to'), ('to', 'Synonym', 'a'), ('be', 'DerivedFrom', 'to'), ('bread', 'DerivedFrom', 'to'), ('un', 'RelatedTo', 'to'), ('to', 'EtymologicallyDerivedFrom', 'to'), ('til', 'RelatedTo', 'to'), ('v', 'Synonym', 'to'), ('na', 'RelatedTo', 'to'), ('ad', 'RelatedTo', 'to'), ('対', 'Synonym', 'to'), ('unto', 'DerivedFrom', 'to'), ('ad', 'RelatedTo', 'to'), ('do', 'RelatedTo', 'to'), ('v', 'RelatedTo', 'to'), ('prema', 'RelatedTo', 'to'), ('u', 'RelatedTo', 'to'), ('迄', 'Synonym', 'to'), ('1', 'Synonym', 'to'), ('v', 'Synonym', 'to'), ('into', 'DerivedFrom', 'to'), ('1', 'Synonym', 'to'), ('hitherto', 'DerivedFrom', 'to'), ('に対する', 'Synonym', 'to'), ('載せる', 'Synonym', 'to'), ('მდე', 'RelatedTo', 'to'), ('to', 'Synonym', 'tu'), ('v', 'RelatedTo', 'to'), ('n', 'RelatedTo', 'to'), ('thitherto', 'DerivedFrom', 'to'), ('v', 'RelatedTo', 'to'), ('v', 'RelatedTo', 'to'), ('n', 'RelatedTo', 'to'), ('से', 'RelatedTo', 'to'), ('v', 'RelatedTo', 'to'), ('a', 'RelatedTo', 'to'), ('abys', 'Synonym', 'to'), ('to', 'ExternalURL', 'other+fish+to+fry-p#Component-3'), ('to', 'Synonym', 'të'), ('n', 'RelatedTo', 'to'), ('v', 'RelatedTo', 'to'), ('n', 'HasContext', 'to'), ('v', 'RelatedTo', 'to'), ('v', 'RelatedTo', 'to'), ('grație', 'RelatedTo', 'to'), ('tu', 'RelatedTo', 'to'), ('r', 'Synonym', 'to'), ('a', 'RelatedTo', 'to'), ('cis', 'RelatedTo', 'to'), ('v', 'RelatedTo', 'to'), ('v', 'RelatedTo', 'to'), ('to', 'Synonym', 'te'), ('v', 'RelatedTo', 'to'), ('en_2', 'RelatedTo', 'to'), ('ok', 'RelatedTo', 'to'), ('v', 'RelatedTo', 'to'), ('v', 'RelatedTo', 'to'), ('r', 'RelatedTo', 'to'), ('apud', 'RelatedTo', 'to'), ('usque', 'Synonym', 'to'), ('naartoe', 'RelatedTo', 'to'), ('ให้', 'RelatedTo', 'to'), ('v', 'RelatedTo', 'to'), (\"so's\", 'RelatedTo', 'to'), ('n', 'RelatedTo', 'to'), ('v', 'RelatedTo', 'to'), ('en_1', 'RelatedTo', 'to'), ('v', 'RelatedTo', 'to'), ('r', 'Antonym', 'open'), ('کو', 'RelatedTo', 'to'), ('kepada', 'RelatedTo', 'to'), ('n', 'RelatedTo', 'to'), ('go', 'RelatedTo', 'to'), ('v', 'RelatedTo', 'to'), ('v', 'RelatedTo', 'to'), ('v', 'RelatedTo', 'to'), ('enjoy_company_of_friends', 'MotivatedByGoal', 'to'), ('stop_standing_in', 'MotivatedByGoal', 'to')]\n",
      "entities {'coffee', 'made_from_coffee_beans', 'food', 'plant', 'popular_drink', 'mug', 'n', 'internet_cafe', 'served_hot', 'caffeine', 'coffee_shop', 'sugar', 'stimulant'}\n",
      "triples [('coffee', 'IsA', 'stimulant'), ('coffee', 'HasA', 'caffeine'), ('coffee', 'HasProperty', 'served_hot'), ('food', 'Synonym', 'food'), ('coffee', 'AtLocation', 'coffee_shop'), ('sugar', 'AtLocation', 'coffee'), ('mug', 'UsedFor', 'coffee'), ('coffee', 'ReceivesAction', 'made_from_coffee_beans'), ('sugar', 'RelatedTo', 'coffee'), ('food', 'Synonym', 'food'), ('plant', 'Synonym', 'plant'), ('plant', 'Synonym', 'plant'), ('n', 'RelatedTo', 'coffee'), ('n', 'Synonym', 'coffee'), ('food', 'Synonym', 'food'), ('plant', 'Synonym', 'plant'), ('coffee', 'IsA', 'popular_drink'), ('coffee', 'AtLocation', 'internet_cafe'), ('food', 'Synonym', 'food'), ('food', 'Synonym', 'food')]\n"
     ]
    },
    {
     "ename": "TypeError",
     "evalue": "generate_response_format() missing 3 required positional arguments: 'post', 'entities', and 'triples'",
     "output_type": "error",
     "traceback": [
      "\u001b[1;31m---------------------------------------------------------------------------\u001b[0m",
      "\u001b[1;31mTypeError\u001b[0m                                 Traceback (most recent call last)",
      "\u001b[1;32m<ipython-input-214-51dda23a3336>\u001b[0m in \u001b[0;36m<module>\u001b[1;34m\u001b[0m\n\u001b[0;32m     70\u001b[0m \u001b[1;33m\u001b[0m\u001b[0m\n\u001b[0;32m     71\u001b[0m \u001b[1;31m# Example usage\u001b[0m\u001b[1;33m\u001b[0m\u001b[1;33m\u001b[0m\u001b[1;33m\u001b[0m\u001b[0m\n\u001b[1;32m---> 72\u001b[1;33m \u001b[0mmain\u001b[0m\u001b[1;33m(\u001b[0m\u001b[1;34m\"What is related to coffee?\"\u001b[0m\u001b[1;33m)\u001b[0m\u001b[1;33m\u001b[0m\u001b[1;33m\u001b[0m\u001b[0m\n\u001b[0m",
      "\u001b[1;32m<ipython-input-214-51dda23a3336>\u001b[0m in \u001b[0;36mmain\u001b[1;34m(question)\u001b[0m\n\u001b[0;32m     66\u001b[0m         \u001b[0mall_triples\u001b[0m\u001b[1;33m.\u001b[0m\u001b[0mextend\u001b[0m\u001b[1;33m(\u001b[0m\u001b[0mtriples\u001b[0m\u001b[1;33m)\u001b[0m\u001b[1;33m\u001b[0m\u001b[1;33m\u001b[0m\u001b[0m\n\u001b[0;32m     67\u001b[0m \u001b[1;33m\u001b[0m\u001b[0m\n\u001b[1;32m---> 68\u001b[1;33m     \u001b[0mformatted_data\u001b[0m \u001b[1;33m=\u001b[0m \u001b[0mgenerate_response_format\u001b[0m\u001b[1;33m(\u001b[0m\u001b[0mall_entities\u001b[0m\u001b[1;33m,\u001b[0m \u001b[0mall_triples\u001b[0m\u001b[1;33m)\u001b[0m\u001b[1;33m\u001b[0m\u001b[1;33m\u001b[0m\u001b[0m\n\u001b[0m\u001b[0;32m     69\u001b[0m     \u001b[0mprint\u001b[0m\u001b[1;33m(\u001b[0m\u001b[0mformatted_data\u001b[0m\u001b[1;33m)\u001b[0m\u001b[1;33m\u001b[0m\u001b[1;33m\u001b[0m\u001b[0m\n\u001b[0;32m     70\u001b[0m \u001b[1;33m\u001b[0m\u001b[0m\n",
      "\u001b[1;31mTypeError\u001b[0m: generate_response_format() missing 3 required positional arguments: 'post', 'entities', and 'triples'"
     ]
    }
   ],
   "source": [
    "question = ''\n",
    "res = re.findall( r'\\w+|[^\\s\\w]+', questions)\n",
    "\n",
    "def query_conceptnet(keyword):\n",
    "    url = f\"http://api.conceptnet.io/c/en/{keyword}?limit=100\"\n",
    "    response = requests.get(url)\n",
    "    return response.json()\n",
    "\n",
    "def extract_data(concept_data):\n",
    "    entities = set()\n",
    "    triples = []\n",
    "    for edge in concept_data['edges']:\n",
    "        start = edge['start']['@id'].split('/')[-1]\n",
    "        end = edge['end']['@id'].split('/')[-1]\n",
    "        rel = edge['rel']['@id'].split('/')[-1]\n",
    "        triples.append((start, rel, end))\n",
    "        entities.update([start, end])\n",
    "    return entities, triples\n",
    "\n",
    "\n",
    "# if res not in csk_entities:\n",
    "#     print('Come again? Could you ask again a little bit detail?')\n",
    "\n",
    "    \n",
    "def generate_response_format(dict_csk_entities, dict_csk_triples, post, entities, triples):\n",
    "    res = re.findall( r'\\w+|[^\\s\\w]+', post)\n",
    "\n",
    "    # Simulate entity and triple index mapping\n",
    "    entity2id = {entity: idx for idx, entity in enumerate(entities)}\n",
    "    triple_indices = 0  # Assuming each triple gets a unique index\n",
    "    post_triples = np.zeros(len(res))\n",
    "    \n",
    "#     for idx, split in enumerate(res):\n",
    "#         if split in dict_csk_entities:\n",
    "            \n",
    "        \n",
    "# #         else:\n",
    "# #             continue\n",
    "        \n",
    "            \n",
    "    \n",
    "    data_format = {\n",
    "        \"all_entities_one_hop\": list(entity2id.values()),\n",
    "        \"post_triples\": list(triple_indices),  # Example: every triple is used\n",
    "        \"post\": res,\n",
    "        \"response\": [\"This\", \"is\", \"an\", \"example\", \"response\", \".\"],\n",
    "        \"match_response_index_one_hop\": [-1] * len(entity2id),  # Simplified example\n",
    "        \"only_two\": list(entity2id.values())[::2],  # Every second entity for example\n",
    "        \"match_response_index_only_two\": [-1] * len(entity2id),  # Simplified example\n",
    "        \"all_triples_one_hop\": list(triple_indices)  # Simplified example\n",
    "    }\n",
    "    return data_format\n",
    "\n",
    "def main(question):\n",
    "    keywords = question.split()  # Simple keyword extraction from the question\n",
    "    all_entities = set()\n",
    "    all_triples = []\n",
    "\n",
    "    for keyword in keywords:\n",
    "        concept_data = query_conceptnet(keyword)\n",
    "#         print('concept_data',concept_data)\n",
    "        entities, triples = extract_data(concept_data)\n",
    "        print('entities', entities)\n",
    "        print('triples', triples)\n",
    "        all_entities.update(entities)\n",
    "        all_triples.extend(triples)\n",
    "\n",
    "    formatted_data = generate_response_format(all_entities, all_triples)\n",
    "    print(formatted_data)\n",
    "\n",
    "# Example usage\n",
    "main(\"What is related to coffee?\")"
   ]
  },
  {
   "cell_type": "code",
   "execution_count": 215,
   "metadata": {},
   "outputs": [
    {
     "name": "stdout",
     "output_type": "stream",
     "text": [
      "['I', 'wear', 'glasses', 'and', 'at', 'the', 'age', 'of', '17', 'I', 'would', 'have', 'been', 'mortified', 'to', 'be', 'seen', 'in', 'a', 'photo', 'wearing', 'them', '.']\n"
     ]
    }
   ],
   "source": [
    "res = re.findall( r'\\w+|[^\\s\\w]+', post)\n",
    "print(res)"
   ]
  },
  {
   "cell_type": "code",
   "execution_count": 306,
   "metadata": {},
   "outputs": [
    {
     "name": "stdout",
     "output_type": "stream",
     "text": [
      "19445\n"
     ]
    }
   ],
   "source": [
    "print(dict_csk_entities[\"dumb\"])"
   ]
  },
  {
   "cell_type": "code",
   "execution_count": 278,
   "metadata": {},
   "outputs": [
    {
     "name": "stdout",
     "output_type": "stream",
     "text": [
      "yes\n"
     ]
    }
   ],
   "source": [
    "lllist = dict_csk_entities.keys()\n",
    "\n",
    "if 'chicago' in lllist:\n",
    "    print('yes')"
   ]
  },
  {
   "cell_type": "code",
   "execution_count": 293,
   "metadata": {},
   "outputs": [
    {
     "name": "stdout",
     "output_type": "stream",
     "text": [
      "123\n",
      "comet\n",
      "20750\n",
      "yes entity in tmp_pair\n",
      "no\n",
      "[]\n"
     ]
    }
   ],
   "source": [
    "print(dict_csk_entities['chicago'])\n",
    "post_entities = ['comet', 'sky', 'felt', 'cowboys', 'shoot', 'celestial', 'shooters']\n",
    "tmp_pair = ['deaf', 'comet']\n",
    "test = []\n",
    "entity = 'comet'\n",
    "key = tmp_pair[1]\n",
    "print(key)\n",
    "# num = dict_csk_entities[tmp_pair[1]]\n",
    "print(num)\n",
    "if entity in tmp_pair:\n",
    "    print('yes entity in tmp_pair')\n",
    "    if entity == tmp_pair[0] and tmp_pair[1] not in post_entities:\n",
    "        print('yes')\n",
    "        print('tmp_pair[1]', tmp_pair[1])\n",
    "        if tmp_pair[1] in dict_csk_entities:\n",
    "            print('yes2')\n",
    "            print(tmp_pair[1])\n",
    "            num = dict_csk_entities.get(tmp_pair[1])\n",
    "            print('num',num)\n",
    "            test.append(num)\n",
    "    #     print(test)\n",
    "            print('true')\n",
    "    else:\n",
    "        print('no')\n",
    "# print(dict_csk_entities[tmp_pair[1]])\n",
    "print(test)"
   ]
  },
  {
   "cell_type": "code",
   "execution_count": 266,
   "metadata": {},
   "outputs": [],
   "source": [
    "if tmp_pair[1] in dict_csk_entities:\n",
    "    num = dict_csk_entities.get(tmp_pair[1])\n",
    "    num = dict_csk_entities[tmp_pair[1]]\n",
    "    print('num',num)\n",
    "    print(tmp_pair[1])\n",
    "# print(dict_csk_entities['chicago'])\n",
    "# print(test)"
   ]
  },
  {
   "cell_type": "code",
   "execution_count": 17,
   "metadata": {},
   "outputs": [
    {
     "name": "stdout",
     "output_type": "stream",
     "text": [
      "comet\n",
      " comet\n",
      "At least one entity is in post_entities.\n"
     ]
    },
    {
     "ename": "NameError",
     "evalue": "name 'num' is not defined",
     "output_type": "error",
     "traceback": [
      "\u001b[1;31m---------------------------------------------------------------------------\u001b[0m",
      "\u001b[1;31mNameError\u001b[0m                                 Traceback (most recent call last)",
      "\u001b[1;32m<ipython-input-17-ea7dd4b4eac0>\u001b[0m in \u001b[0;36m<module>\u001b[1;34m\u001b[0m\n\u001b[0;32m     22\u001b[0m     \u001b[0mprint\u001b[0m\u001b[1;33m(\u001b[0m\u001b[1;34m\"At least one entity is in post_entities.\"\u001b[0m\u001b[1;33m)\u001b[0m\u001b[1;33m\u001b[0m\u001b[1;33m\u001b[0m\u001b[0m\n\u001b[0;32m     23\u001b[0m \u001b[1;33m\u001b[0m\u001b[0m\n\u001b[1;32m---> 24\u001b[1;33m \u001b[0mprint\u001b[0m\u001b[1;33m(\u001b[0m\u001b[0mnum\u001b[0m\u001b[1;33m)\u001b[0m  \u001b[1;31m# Print num if it's defined\u001b[0m\u001b[1;33m\u001b[0m\u001b[1;33m\u001b[0m\u001b[0m\n\u001b[0m\u001b[0;32m     25\u001b[0m \u001b[0mprint\u001b[0m\u001b[1;33m(\u001b[0m\u001b[0mtestt\u001b[0m\u001b[1;33m)\u001b[0m\u001b[1;33m\u001b[0m\u001b[1;33m\u001b[0m\u001b[0m\n",
      "\u001b[1;31mNameError\u001b[0m: name 'num' is not defined"
     ]
    }
   ],
   "source": [
    "# Example dictionary\n",
    "dict_csk_entities = {'chicago': 123, 'new york': 456}\n",
    "\n",
    "post_entities = ['comet', 'sky', 'felt', 'cowboys', 'shoot', 'celestial', 'shooters']\n",
    "tmp_pair = ['deaf', 'comet']\n",
    "tee = ' comet'\n",
    "print(tee.lstrip())\n",
    "print(tee)\n",
    "entity = 'comet'\n",
    "testt = []\n",
    "# Check if both entities in tmp_pair are not in post_entities\n",
    "if tmp_pair[0] not in post_entities and tmp_pair[1] not in post_entities:\n",
    "    # Check if tmp_pair[1] exists in the dictionary\n",
    "    if tmp_pair[1] in dict_csk_entities:\n",
    "        num = dict_csk_entities[tmp_pair[1]]\n",
    "        testt.append(num)\n",
    "    else:\n",
    "        # If not found, handle it accordingly\n",
    "        print(f\"Entity '{tmp_pair[1]}' not found in dict_csk_entities.\")\n",
    "else:\n",
    "    # Handle the case where one or both entities are in post_entities\n",
    "    print(\"At least one entity is in post_entities.\")\n",
    "\n",
    "print(num)  # Print num if it's defined\n",
    "print(testt)"
   ]
  },
  {
   "cell_type": "code",
   "execution_count": 3,
   "metadata": {},
   "outputs": [],
   "source": [
    "post = \"I wear glasses and at the age of 17 I would have been mortified to be seen in a photo wearing them.\"\n",
    "post2 = \"As the comet streaked across the Chicago sky, I felt as though time had looped back to the Wild West, where cowboys would shoot at such celestial wonders with their six-shooters.\"\n",
    "post3 = \"this fucking shit pisses me off to no end, when these fucking liberal hypocrites imply the only group of people capable of being racist are the whites.\""
   ]
  },
  {
   "cell_type": "code",
   "execution_count": 24,
   "metadata": {},
   "outputs": [
    {
     "name": "stdout",
     "output_type": "stream",
     "text": [
      "post_entities ['wear', 'glasses', 'age', '17', 'photo', 'wearing']\n",
      "[]\n"
     ]
    }
   ],
   "source": [
    "a = create_all_entities_one_hop(post, dict_csk_triples, csk_entities, csk_triples)\n",
    "print(a)"
   ]
  },
  {
   "cell_type": "code",
   "execution_count": 11,
   "metadata": {},
   "outputs": [
    {
     "name": "stdout",
     "output_type": "stream",
     "text": [
      "['loop, RelatedTo, chicago', 'shoot, RelatedTo, comet', 'dumb, RelatedTo, deaf', 'walk, RelatedTo, door', 'pier, RelatedTo, boat']\n"
     ]
    }
   ],
   "source": [
    "a = csk_triples[:5]\n",
    "print(a)"
   ]
  },
  {
   "cell_type": "markdown",
   "metadata": {},
   "source": [
    "# create_all_entities_one_hop"
   ]
  },
  {
   "cell_type": "code",
   "execution_count": 6,
   "metadata": {},
   "outputs": [
    {
     "name": "stdout",
     "output_type": "stream",
     "text": [
      "post_entities ['fucking', 'shit', 'end', 'fucking', 'liberal', 'hypocrites', 'imply', 'group', 'capable', 'racist', 'whites']\n",
      "[20833, 7621, 14801, 12947, 22097, 17422, 11405, 9305, 11427, 21438, 1394, 20650, 3049, 17337, 4999, 20693, 13385, 20542, 242, 16196, 13438, 12759, 20496, 8148, 9141, 11582, 6055, 20569, 2509, 7059, 5163, 20289, 16491, 2541, 7523, 16744, 280, 18405, 8990, 12453, 10489, 17645, 10558, 7770, 10280, 2844, 19098, 18128, 14236, 12218, 11283, 20994, 20456, 7111, 6429, 1739, 19572, 7740, 347, 5456, 17572, 11761, 20571, 21894, 11378, 16760, 3557, 7324, 4786, 3880, 4678, 8497, 1185, 4402, 12549, 13720, 16028, 4491, 13719, 6491, 9388, 22308, 22038, 9584, 7572, 10133, 13796, 7362, 10411, 21616, 5708, 12220, 14771, 11105, 9832, 14971, 18812, 6678, 7887, 3609, 15282, 8890, 19860, 1383, 15951, 5493, 10049, 938, 13018, 11771, 9764, 15041, 20039, 5825, 4154, 12978, 3882, 12237, 19749, 19142, 15413, 9075, 4388, 6077, 8023, 3984, 7921, 19120, 7939, 16205, 10419, 1472, 2826, 5031, 14462, 14418, 1917, 2677, 5264, 21601, 10568, 17745, 5107, 19793, 18401, 21737, 5713, 14318, 1545, 14673, 16302, 19851, 14730, 2001, 9422, 6326, 8667, 16853, 21892, 10139, 14247, 12971, 3736, 12652, 1637, 15056, 12693, 20284, 9136, 17502, 259, 9910, 16646, 17376, 12515, 21217, 1798, 1935, 219, 12028, 14599, 14276, 17424, 13346, 20911, 11890, 19043, 9146, 12529, 4046, 16115, 19845, 8967, 9618, 7189, 6391, 19530, 20111, 11882, 4802, 4932, 21795, 13804, 5399, 17566, 16957, 20353, 9150, 19107, 15904, 9600, 10969, 4851, 18638, 14538, 18366, 19685, 2953, 5059, 6122, 942, 1722, 20739, 6976, 6322, 3571, 15596, 20318, 19423, 1606, 18368, 3487, 18025, 13349, 12115, 7892, 4683, 17142, 14400, 20928, 14068, 8545, 5192, 10376, 598, 21401, 13670, 1737, 19351, 1974, 18311, 9947, 1802, 5562, 9788, 14760, 11729, 10809, 15915, 13088, 11938, 9752, 18522, 21803, 1807, 20786, 260, 13182, 15326, 14895, 13006, 17985, 1280, 10742, 12380, 10236, 9763, 15758, 19610, 10576, 21634, 14317, 10554, 8695, 16964, 15084, 12335, 20228, 11608, 22218, 20626, 16813, 4724, 10083, 6354, 19573, 17116, 91, 21079, 13684, 10189, 16236, 11549, 10490, 3051, 15637, 9744, 10252, 5688, 11450, 22272, 362, 10629, 5173, 19390, 18000, 8471, 9552, 9548, 14590, 12953, 10110, 20422, 20283, 2024, 7105, 5705, 19093, 4640, 20599, 11973, 6821, 7875, 11879, 21841, 20326, 21852, 10981, 19880, 15724, 19187, 19031, 14379, 659, 8360, 4459, 20993, 19843, 18713, 14008, 2846, 15433, 17564, 7255, 2889, 17685, 6175, 21023, 8841, 20505, 22242, 9794, 21808, 6349, 20741, 3078, 6733, 17746, 14950, 3055, 13017, 9310, 14304, 16988, 3164, 14409, 217, 3159, 4772, 15063, 14042, 5616, 14148, 599, 22458, 5056, 22093, 18049, 1769, 609, 6998, 13112, 18869, 2002, 8488, 3757, 6558, 17177, 21853, 13565, 8150, 6253, 12680, 14683, 11919, 16124, 15135, 12731, 12866, 6078, 18042, 4387, 3523, 385, 5114, 5945, 1169, 4320, 4743, 2296, 5537, 19958, 12811, 10057, 14716, 9148, 1743, 4446, 12169, 4518, 16111, 5478, 20430, 10591, 6384, 17607, 14522, 5232, 9474, 12896, 20429, 3793, 12514, 7829, 10579, 7376, 1480, 13967, 7766, 19928, 14614, 11894, 22277, 4744, 11880, 20958, 8644, 15359, 8719, 14062, 12509, 19054, 5790, 20807, 13113, 5800, 12441, 8384, 9223, 13765, 20970, 9102, 370, 16320, 20026, 1433, 13003, 7218, 12688, 2681, 3030]\n",
      "481\n"
     ]
    }
   ],
   "source": [
    "csk_triples = csk_triples\n",
    "dict_csk_entities = dict_csk_entities\n",
    "csk_entities = csk_entities\n",
    "res = re.findall( r'\\w+|[^\\s\\w]+', post3)\n",
    "post_entities = []\n",
    "\n",
    "tmp_e = ''\n",
    "tmp_o = ''\n",
    "\n",
    "for i in res:\n",
    "    if i in csk_entities:\n",
    "        post_entities.append(i)\n",
    "    else:\n",
    "        continue\n",
    "print('post_entities',post_entities)\n",
    "\n",
    "# find one hope from post entities\n",
    "tmp_id_one_hop = []\n",
    "for e_o in csk_triples:\n",
    "    e_o = e_o.split(',')\n",
    "#         print(e_o)\n",
    "    for entity in post_entities:\n",
    "        tmp_e = e_o[0]\n",
    "        tmp_o = e_o[2].lstrip()\n",
    "        tmp_pair = [tmp_e, tmp_o]\n",
    "        if entity in tmp_pair:\n",
    "            if entity == tmp_pair[0] and tmp_pair[1] not in post_entities:\n",
    "                if tmp_pair[1] in dict_csk_entities:\n",
    "                    tmp_id_one_hop.append(dict_csk_entities[tmp_pair[1]])\n",
    "            elif entity == tmp_pair[1] and tmp_pair[0] not in post_entities:\n",
    "                if tmp_pair[0] in dict_csk_entities:\n",
    "                    tmp_id_one_hop.append(dict_csk_entities[tmp_pair[0]])\n",
    "            else:\n",
    "                continue\n",
    "        else:\n",
    "            continue\n",
    "        tmp_e = []\n",
    "        tmp_o = []\n",
    "        tmp_pair = []\n",
    "\n",
    "\n",
    "id_one_hop = [i for n, i in enumerate(tmp_id_one_hop) if i not in tmp_id_one_hop[:n]]\n",
    "print(id_one_hop)\n",
    "print(len(id_one_hop))"
   ]
  },
  {
   "cell_type": "code",
   "execution_count": 7,
   "metadata": {},
   "outputs": [],
   "source": [
    "entities_one_hop3 = [20994, 3078, 7189, 6678, 9752, 3609, 21023, 15904, 14379, 15413, 4154, 20026, 16957, 17985, 12866, 1606, 20039, 14409, 15433, 13385, 19031, 20571, 16988, 21601, 14950, 11879, 18025, 6253, 5232, 2681, 18042, 14971, 14462, 659, 17564, 16028, 19107, 8360, 5800, 20650, 10419, 1722, 11450, 5825, 19142, 14538, 13003, 6349, 14042, 17116, 12509, 12514, 12515, 19685, 21737, 17645, 14062, 12529, 4851, 6391, 1280, 7939, 1798, 8967, 14599, 1802, 2826, 1807, 17685, 18713, 2846, 8488, 3880, 3882, 21803, 4402, 11582, 10558, 6976, 20289, 16196, 4932, 9548, 16205, 9552, 6491, 8545, 10083, 7523, 5478, 16744, 362, 1394, 9075, 13684, 13182, 21894, 19351, 14236, 3487, 14247, 14760, 6055, 942, 9136, 18869, 12218, 12731, 18366, 19390, 18368, 1472, 2001, 2002, 14801, 11729, 19423, 14304, 13796, 18405, 3557, 13804, 2541, 11761, 3571, 19958]"
   ]
  },
  {
   "cell_type": "code",
   "execution_count": 10,
   "metadata": {},
   "outputs": [
    {
     "name": "stdout",
     "output_type": "stream",
     "text": [
      "['loop, RelatedTo, chicago', 'shoot, RelatedTo, comet', 'dumb, RelatedTo, deaf', 'walk, RelatedTo, door', 'pier, RelatedTo, boat']\n"
     ]
    }
   ],
   "source": [
    "lsk = csk_triples[:5]\n",
    "print(lsk)"
   ]
  },
  {
   "cell_type": "markdown",
   "metadata": {},
   "source": [
    "# only_two"
   ]
  },
  {
   "cell_type": "code",
   "execution_count": 19,
   "metadata": {
    "collapsed": true,
    "jupyter": {
     "outputs_hidden": true
    },
    "tags": []
   },
   "outputs": [
    {
     "name": "stdout",
     "output_type": "stream",
     "text": [
      "19303\n",
      "7764\n",
      "[1267, 7891, 109, 13417, 1344, 14540, 5651, 14861, 6370, 11182, 13977, 7290, 13677, 17590, 1704, 7152, 7428, 12077, 19287, 13618, 19779, 20120, 21967, 4268, 11282, 3444, 9357, 8101, 20184, 18421, 655, 4824, 822, 17792, 1413, 15334, 19131, 9342, 10326, 11388, 12685, 6805, 14821, 21901, 19626, 16609, 18684, 412, 17382, 8676, 8056, 22050, 11448, 384, 4177, 20148, 12126, 1944, 17790, 5511, 989, 1819, 10741, 21953, 3075, 18853, 6562, 1688, 1541, 3944, 3351, 20510, 2545, 19094, 21184, 5911, 13058, 8353, 13083, 19848, 12282, 11712, 3263, 21499, 22255, 3722, 7126, 16284, 9113, 567, 6664, 20643, 4729, 10125, 19253, 21031, 937, 3257, 17184, 7592, 18399, 47, 18527, 7881, 5617, 2713, 7070, 3510, 15835, 14019, 6789, 21433, 1985, 14007, 982, 22003, 18628, 20663, 16991, 14710, 6702, 1615, 6968, 282, 13471, 11274, 5996, 11323, 15934, 2511, 21118, 838, 11865, 19417, 12511, 16373, 1326, 15018, 16042, 10188, 4637, 21446, 10187, 12311, 723, 8623, 20772, 13114, 9639, 389, 19511, 5188, 19115, 21274, 738, 11914, 21279, 16214, 10368, 12972, 7214, 17476, 12786, 17317, 9595, 19081, 22520, 18698, 18912, 15449, 11442, 12312, 13085, 15610, 14929, 13550, 639, 19285, 7536, 17763, 10605, 20308, 2870, 12710, 13452, 15315, 9956, 3011, 22320, 8123, 14363, 10811, 12258, 17485, 5722, 10306, 3786, 18247, 12156, 5755, 14489, 13150, 8513, 21620, 8553, 15924, 16122, 8766, 2148, 15106, 6837, 10620, 1166, 7836, 826, 2046, 4662, 2536, 7466, 16664, 17490, 1988, 10790, 19413, 14976, 16344, 12946, 4553, 5470, 11479, 9306, 12337, 509, 381, 3726, 10105, 19852, 16497, 8723, 14978, 6873, 8563, 21603, 696, 694, 1093, 1738, 726, 3005, 735, 19106, 3468, 2039, 18581, 1806, 9596, 15458, 2392, 5343, 15657, 6607, 477, 5268, 16472, 3054, 4374, 21557, 17582, 9869, 3945, 9690, 13924, 5338, 18863, 18439, 688, 11991, 12173, 18105, 14897, 1795, 5501, 20160, 5923, 15337, 17143, 3611, 20603, 3047, 14411, 6977, 2142, 5196, 9697, 13331, 13149, 10149, 5112, 7924, 1755, 16930, 5249, 17969, 22048, 13170, 12267, 6647, 19939, 10433, 10016, 17506, 4155, 19503, 10453, 22087, 13231, 12255, 12063, 11278, 16541, 10225, 15344, 6158, 19116, 15750, 356, 22257, 3193, 1926, 12615, 16718, 2943, 2321, 18873, 6152, 20825, 10275, 81, 1857, 5783, 14914, 18537, 21331, 20572, 18851, 17300, 15928, 6281, 15305, 1970, 18329, 11012, 52, 1955, 21441, 9739, 20325, 21505, 10621, 16148, 14953, 8312, 8460, 564, 7199, 10754, 11048, 1872, 13698, 17698, 19102, 20106, 18866, 19864, 961, 10255, 17395, 22094, 3652, 304, 16152, 12504, 2063, 3720, 9301, 6108, 6922, 4208, 3387, 7851, 15437, 5233, 12507, 6924, 14933, 20837, 3727, 4328, 7172, 15718, 19381, 5602, 3839, 15245, 15738, 2581, 11957, 6318, 2951, 7583, 3703, 69, 22025, 11937, 14872, 17248, 17343, 5394, 15007, 16652, 6845, 16248, 16935, 3949, 1140, 5887, 21145, 18598, 2717, 14549, 701, 14982, 19541, 19968, 17019, 7966, 1675, 6802, 6110, 19074, 10978, 5700, 11018, 3188, 19751, 10185, 12934, 189, 17681, 11875, 11609, 177, 12920, 9269, 14162, 15238, 12445, 14981, 14001, 9980, 15649, 5344, 14009, 6421, 985, 6314, 3463, 21057, 10812, 2036, 20158, 19547, 1658, 15710, 19900, 6563, 14928, 12256, 3965, 6944, 9463, 20099, 6680, 5447, 278, 22505, 15887, 19703, 5239, 4456, 3249, 17909, 22001, 1564, 6958, 17989, 6551, 4515, 14525, 15338, 13300, 14879, 13226, 10140, 4751, 486, 21503, 4089, 21179, 6151, 15897, 4884, 8241, 4604, 19706, 18731, 5998, 201, 15192, 11217, 1050, 6978, 10309, 14906, 16822, 13578, 5013, 4545, 2037, 6040, 10093, 17649, 10956, 22096, 17323, 8968, 19952, 20830, 3102, 22264, 14778, 18079, 19655, 18677, 5225, 8828, 14197, 9076, 5622, 12840, 6586, 19353, 7407, 18032, 5940, 11497, 5766, 589, 14615, 15509, 20029, 5584, 8590, 18989, 6594, 8821, 13503, 14583, 8223, 19665, 19805, 4661, 5677, 13127, 2894, 4169, 4704, 22002, 8525, 14739, 12198, 4012, 7762, 468, 14745, 970, 22511, 10219, 699, 21012, 14523, 7327, 13111, 9361, 6041, 11949, 10249, 22044, 20910, 14085, 5852, 18300, 11782, 21270, 20403, 13878, 2414, 7862, 15651, 1216, 5231, 14243, 13287, 11697, 3922, 1283, 17443, 17472, 8659, 14539, 15170, 13264, 1377, 8151, 19270, 22317, 16471, 15832, 19118, 7349, 7547, 7646, 19182, 19399, 16125, 18772, 4845, 20736, 20644, 11084, 13952, 3648, 742, 2946, 19380, 20514, 2629, 4078, 18699, 15442, 16877, 531, 1651, 20202, 11132, 11899, 19853, 5588, 3398, 21767, 13163, 7513, 12359, 21305, 10989, 4627, 18647, 17252, 9197, 3614, 1047, 429, 5629, 21635, 15462, 986, 2967, 21488, 18423, 6595, 16184, 17101, 3721, 4586, 1372, 18460, 19398, 9176, 13432, 2115, 7929, 17463, 21461, 21436, 8206, 4213, 9309, 6752, 20925, 16907, 21626, 8868, 16582, 18715, 15259, 21297, 17546, 3993, 3818, 12144, 13481, 21182, 14491, 20946, 7346, 16112, 19450, 11587, 7489, 10367, 14517, 2937, 18683, 578, 15375, 19422, 2231, 19844, 1252, 7544, 14225, 9389, 12162, 15948, 84, 15171, 175, 4162, 10063, 14723, 3636, 12334, 21282, 18643, 13706, 5859, 8976, 18302, 20955, 5081, 1922, 2952, 3247, 1190, 21056, 5730, 11082, 3246, 15732, 92, 14531, 13019, 21789, 1245, 14266, 17523, 19708, 6898, 21112, 483, 20969, 5851, 8547, 14505, 6368, 8421, 2053, 12233, 11602, 7174, 21714, 19023, 70, 11593, 7665, 3338, 4565, 18377, 11015, 7254, 3305, 10597, 19770, 6093, 14820, 20931, 10861, 6240, 8502, 6887, 19987, 9774, 22263, 923, 21002, 10155, 22197, 19679, 13812, 16003, 4607, 21070, 21913, 9214, 9198, 773, 1571, 9840, 13932, 880, 4188, 21089, 4589, 3341, 14548, 10515, 8466, 12393, 2118, 1337, 16456, 6204, 11157, 4623, 17176, 18990, 11982, 680, 5900, 9023, 5432, 2200, 10606, 7110, 3877, 2353, 13508, 6316, 13632, 6212, 12800, 331, 11019, 17635, 7257, 4833, 4443, 5451, 5362, 9881, 9188, 5214, 1492, 12682, 17014, 19103, 15530, 22440, 712, 2684, 3974, 8096, 2901, 11160, 16098, 5036, 5550, 6353, 18661, 15938, 4538, 1727, 3304, 5764, 14663, 20464, 20711, 7805, 20924, 8249, 17371, 17859, 19908, 15415, 2687, 10907, 19132, 17435, 7906, 14229, 2391, 21235, 9243, 6290, 13887, 16323, 6081, 13410, 6867, 18145, 18017, 4, 13612, 20573, 13156, 20219, 17439, 5228, 9029, 7360, 12689, 17760, 8765, 13948, 5598, 1418, 11374, 9568, 12339, 13179, 5169, 20179, 13344, 19125, 15675, 20137, 10474, 4023, 2991, 587, 17387, 15243, 13531, 4693, 12820, 21761, 5450, 17108, 9786, 4732, 12125, 20580, 7449, 17765, 12275, 5971, 18020, 14113, 22253, 12991, 15494, 20045, 6930, 19114, 9341, 2630, 14141, 5540, 19327, 8620, 14263, 6443, 18746, 849, 12830, 18313, 18577, 3097, 22164, 5507, 10191, 197, 3978, 6798, 17462, 203, 19244, 5760, 3903, 19817, 19336, 9617, 13124, 20646, 1590, 7178, 4927, 5497, 19444, 14375, 20408, 816, 1752, 22580, 1167, 14431, 1365, 5500, 5869, 1483, 11112, 5340, 14202, 7790, 12178, 11855, 11848, 3724, 22267, 6908, 13118, 16253, 17328, 8894, 12941, 8089, 9636, 4630, 2554, 17878, 22057, 7149, 5431, 8114, 22536, 13648, 18195, 7305, 7001, 1123, 21074, 8809, 16172, 427, 20327, 14543, 6623, 22249, 8526, 2323, 8428, 12948, 11947, 14935, 5747, 17734, 6138, 4194, 8911, 11254, 16286, 16826, 19637, 6009, 524, 17473, 17389, 6673, 17284, 7599, 9668, 7784, 867, 4003, 1504, 10318, 22327, 9834, 22121, 22578, 6694, 15335, 12027, 11980, 15739, 5710, 14322, 5612, 3083, 11396, 16376, 15340, 16117, 21481, 9390, 21158, 20214, 5955, 17846, 4128, 9520, 6317, 12352, 14270, 7463, 465, 8940, 7519, 428, 9248, 19129, 20795, 21678, 220, 4841, 14393, 19488, 18418, 22503, 4587, 14503, 17750, 19678, 19718, 2073, 10984, 18645, 7156, 5162, 15060, 20171, 5732, 21473, 641, 6912, 3090, 17706, 5972, 11727, 20293, 19477, 6859, 17321, 15127, 8368, 6214, 21598, 551, 3573, 21804, 2621, 17648, 1945, 21845, 3606, 82, 15842, 5270, 20849, 9828, 21087, 5995, 5860, 3092, 7689, 17224, 18599, 7032, 8090, 2931, 2076, 8168, 21238, 18095, 18671, 2009, 2733, 22252, 3659, 6655, 2110, 8920, 15653, 13963, 174, 10627, 13981, 3046, 17096, 22064, 470, 2058, 7603, 18019, 15655, 12560, 6654, 15309, 6913, 976, 3991, 21195, 11866, 7104, 16581, 1581, 20270, 21584, 10435, 12031, 14187, 10108, 6617, 8261, 350, 12643, 1293, 8878, 11682, 12898, 18696, 18950, 2508, 20812, 4821, 17646, 18974, 7865, 21207, 9168, 15048, 276, 13031, 14660, 8785, 18055, 10066, 21730, 9220, 13279, 996, 995, 3565, 1888, 9257, 4020, 14015, 8957, 941, 9496, 16644, 9531, 6486, 18173, 1265, 16839, 17656, 6531, 12955, 14361, 21485, 17882, 2523, 15662, 20201, 4314, 21735, 13505, 16458, 22491, 15439, 391, 7303, 18835, 14657, 18550, 21915, 4581, 16530, 12864, 13927, 11702, 22421, 6842, 3698, 5663, 3836, 15330, 22043, 12488, 21171, 2022, 12467, 20758, 17162, 2956, 3928, 3278, 6877, 20902, 8339, 4865, 16033, 2514, 2074, 2207, 16941, 22334, 4378, 12809, 2732, 18613, 7518, 7964, 6534, 19136, 7827, 17821, 14570, 21252, 3522, 18737, 21994, 12384, 8564, 8487, 18844, 533, 6194, 5, 6844, 9529, 17625, 8450, 13056, 3741, 22362, 14367, 18, 11050, 3296, 18798, 14986, 13507, 1171, 13245, 3873, 18063, 7618, 9329, 771, 20672, 4131, 9742, 3714, 21984, 15451, 22415, 10541, 22074, 7777, 12465, 21336, 17968, 142, 13671, 7371, 3916, 17059, 3162, 21759, 8266, 13929, 13691, 20815, 21120, 2051, 3902, 11380, 6054, 9459, 20227, 19313, 17641, 11774, 21621, 13717, 2421, 9004, 10242, 17200, 10653, 6408, 21562, 10941, 2942, 18354, 8569, 16697, 12095, 645, 4654, 1038, 2575, 5942, 8998, 2822, 13094, 19019, 1074, 22404, 18780, 200, 11720, 7623, 1189, 18299, 16947, 3504, 3115, 20554, 15324, 15343, 18965, 14526, 15799, 397, 15784, 11507, 6255, 2240, 20538, 16887, 13515, 9426, 14353, 13999, 10523, 21972, 18507, 20718, 15464, 2436, 20546, 17905, 4421, 17374, 274, 10775, 17419, 13027, 9325, 22583, 18845, 7252, 12448, 14802, 15285, 15560, 14804, 13110, 9672, 5423, 9793, 3542, 12502, 14238, 11532, 9738, 8075, 22152, 13780, 17927, 14126, 12581, 11883, 20997, 31, 10231, 11916, 22501, 7598, 13193, 15152, 8046, 13337, 2749, 21628, 11530, 11628, 9170, 12172, 22034, 14091, 10974, 19925, 21725, 10094, 7465, 6839, 21153, 15617, 602, 8194, 14940, 11330, 10150, 15412, 16761, 12427, 11885, 7436, 19080, 11103, 9131, 9016, 1021, 19891, 20996, 17594, 19732, 4290, 6191, 11931, 22576, 12417, 19633, 14877, 16975, 7429, 14863, 9031, 4331, 1496, 4762, 21350, 6127, 19111, 16120, 7289, 9177, 8674, 17004, 766, 15646, 6252, 10009, 16764, 21076, 20439, 12314, 18783, 13781, 16981, 17156, 22205, 12168, 8218, 4232, 12034, 10276, 12849, 9546, 16733, 17426, 9792, 1105, 18686, 1164, 8527, 14124, 7673, 192, 2018, 8048, 18876, 15550, 22036, 5879, 20750, 19068, 2027, 8652, 7150, 2259, 8704, 2262, 14899, 20602, 22518, 16426, 3850, 386, 17475, 5655, 15580, 22422, 1056, 16107, 8273, 746, 15886, 2561, 8776, 19830, 3869, 14287, 20887, 9297, 14753, 9646, 447, 6468, 1826, 963, 15814, 16917, 18458, 10877, 19436, 5735, 22318, 6070, 2564, 10529, 10718, 876, 144, 17062, 15399, 18084, 9189, 18150, 20734, 16086, 14501, 20778, 9411, 17183, 3613, 4547, 12959, 10071, 21090, 7951, 2614, 14174, 76, 6320, 11392, 6566, 1037, 10281, 15296, 6576, 4343, 5535, 2651, 7459, 7573, 2107, 16027, 11903, 20072, 10622, 12252, 18264, 15868, 4305, 21517, 19902, 4990, 18257, 20521, 17708, 14621, 10962, 20520, 21004, 14207, 6337, 15459, 16215, 1620, 21802, 4059, 15859, 10051, 4289, 14061, 11732, 16553, 16055, 6640, 3807, 8902, 6183, 17561, 16871, 19113, 15585, 8733, 2230, 4636, 21822, 8796, 4261, 4329, 14307, 9355, 3763, 20407, 17447, 7170, 8975, 10342, 17218, 19991, 14812, 14295, 22199, 17393, 11178, 9476, 19666, 18644, 8637, 12387, 19949, 3189, 12647, 11394, 3706, 21222, 1404, 10100, 22151, 570, 15176, 535, 8369, 10156, 7244, 4449, 4489, 6069, 11592, 2497, 18797, 18206, 9524, 22555, 4987, 15639, 21868, 10545, 18396, 10807, 17559, 20694, 12033, 130, 5951, 7502, 16130, 20365, 20776, 14828, 5371, 16781, 20872, 17005, 8643, 6792, 8105, 7737, 5181, 11406, 6231, 10234, 842, 21528, 399, 6753, 16024, 2160, 21327, 6051, 18228, 7308, 21084, 4263, 13378, 20465, 11876, 21987, 12204, 18956, 13686, 2241, 4082, 1247, 4813, 18448, 12808, 1237, 2312, 9941, 20754, 6463, 5553, 2054, 20007, 17869, 22193, 18792, 4145, 8586, 22388, 15714, 10681, 15054, 1259, 1638, 2442, 21905, 14269, 4019, 521, 13374, 16665, 13102, 18929, 14291, 6814, 9487, 22177, 3214, 17267, 19544, 555, 5542, 22150, 15549, 19956, 7409, 9952, 8888, 4293, 12927, 8376, 21958, 7358, 19962, 1086, 1750, 165, 10314, 7159, 16584, 15203, 5855, 13448, 14689, 5569, 1170, 22126, 13647, 18381, 12606, 12751, 3009, 6790, 3521, 18477, 22498, 18159, 4659, 17333, 13479, 12180, 13704, 4747, 18819, 12720, 3789, 16695, 8965, 363, 18323, 20802, 16933, 16900, 9659, 16556, 21947, 6742, 15979, 18636, 15805, 4840, 14536, 20434, 15759, 10469, 16144, 7550, 3600, 5032, 457, 20639, 5300, 11627, 270, 416, 1578, 16506, 8139, 12085, 13309, 5263, 10370, 2933, 8222, 10795, 5999, 13800, 3202, 3007, 13639, 5563, 18408, 19869, 17420, 10346, 7741, 14131, 13307, 2186, 21697, 10161, 21133, 20914, 707, 15779, 14473, 22416, 21794, 12257, 17836, 21301, 10240, 16375, 21271, 11995, 12670, 17962, 5613, 624, 12400, 16873, 19299, 11316, 12677, 15424, 12412, 18240, 2832, 13021, 14310, 17069, 2204, 6477, 18100, 4441, 17318, 16739, 15990, 17861, 340, 14152, 22092, 19368, 13384, 13180, 18669, 8947, 6201, 3128, 21925, 18186, 15634, 14667, 5145, 14807, 7834, 10792, 10273, 4102, 8843, 1662, 208, 14644, 3122, 730, 16093, 21688, 13665, 16338, 6397, 6705, 11583, 18742, 16824, 9279, 15755, 2721, 2571, 10559, 13546, 12825, 5949, 4403, 1320, 7780, 17214, 18270, 20733, 17453, 2578, 20017, 4071, 2974, 7081, 12577, 3138, 13076, 8076, 4929, 258, 10246, 14191, 8877, 5269, 947, 22459, 10527, 3881, 19484, 20611, 748, 17695, 19702, 17043, 15579, 6208, 16245, 2734, 13657, 9619, 20384, 1700, 11975, 10699, 11215, 19582, 9982, 21119, 2084, 15679, 6639, 2143, 7869, 10598, 3864, 7398, 18816, 13362, 2012, 14257, 20116, 12079, 13777, 21582, 21672, 38, 1, 9181, 7512, 11445, 7817, 14885, 10030, 6131, 17682, 20203, 10491, 18506, 7284, 17010, 19707, 20597, 9504, 12630, 19065, 11155, 20917, 7417, 9760, 12439, 18533, 2173, 6833, 2631, 499, 11990, 15877, 2461, 5146, 18807, 16489, 19888, 10365, 12826, 5060, 19286, 6989, 22140, 5121, 159, 21482, 6650, 7776, 19296, 6536, 17092, 17922, 15603, 11008, 1911, 12358, 16876, 7750, 8616, 5658, 3201, 6489, 20122, 8936, 14568, 13295, 11693, 7096, 9417, 12419, 16258, 13442, 9554, 9558, 4866, 18996, 3, 20921, 2924, 5335, 7556, 1102, 4794, 1919, 16754, 17651, 8889, 14806, 9572, 17640, 13642, 21426, 10362, 22165, 556, 8181, 7350, 15346, 9290, 22519, 681, 20330, 3777, 6522, 19669, 1566, 9827, 16657, 5694, 7941, 2847, 16108, 3220, 20428, 11632, 886, 5485, 4622, 17808, 13120, 17504, 5648, 7037, 15275, 1080, 13147, 22271, 6324, 7963, 5453, 21363, 8059, 12328, 10852, 16741, 6168, 11171, 19516, 12718, 18198, 13271, 13330, 2632, 1215, 9905, 4477, 1000, 17352, 13542, 17380, 17268, 10717, 21077, 7668, 20861, 647, 16218, 13258, 395, 7854, 10625, 12918, 7375, 7427, 11468, 17391, 15621, 1039, 14248, 22278, 13312, 7897, 15416, 22090, 18756, 11819, 19531, 6007, 8032, 14234, 2031, 12591, 22030, 6832, 12631, 21440, 4925, 22020, 4050, 8142, 21475, 15172, 21178, 2483, 16452, 19263, 19944, 12096, 3254, 11654, 8371, 6215, 12431, 9087, 22481, 22377, 18870, 5941, 4584, 21594, 1262, 6404, 11398, 11529, 22023, 607, 12023, 1705, 18304, 18571, 411, 22315, 702, 17012, 20593, 8404, 18732, 9521, 19731, 9692, 5793, 5499, 5080, 4010, 17345, 9915, 14283, 19916, 2695, 6561, 6552, 10758, 18425, 12298, 7133, 8366, 21221, 294, 11891, 14160, 18243, 8832, 2841, 3616, 13830, 13903, 11624, 13146, 14138, 9789, 12408, 11969, 20287, 13130, 15014, 20949, 22049, 8825, 14818, 3883, 2366, 5756, 19671, 14382, 2599, 10780, 14297, 6327, 3886, 9017, 9831, 12214, 5034, 6628, 11591, 4366, 7384, 6808, 20867, 11228, 948, 21110, 2850, 19034, 5785, 13966, 11113, 164, 16860, 14669, 877, 21055, 10345, 11816, 2150, 12510, 3302, 7894, 526, 13794, 8851, 7537, 17514, 14253, 17658, 5164, 19628, 12636, 14241, 21125, 17057, 11190, 7248, 16949, 11397, 586, 9204, 13171, 13244, 1366, 2320, 17071, 14227, 18006, 15824, 2202, 20723, 6182, 10587, 15379, 12732, 22304, 4502, 8853, 13253, 2866, 20032, 20004, 16997, 9302, 2935, 14956, 1784, 5393, 16654, 9726, 14366, 10251, 12678, 21701, 11661, 5480, 18482, 8352, 14733, 18465, 2710, 9589, 21916, 16791, 15794, 11962, 3403, 20132, 11243, 6684, 15109, 14469, 1261, 13174, 17287, 13407, 17144, 22292, 13227, 16498, 19982, 14805, 15772, 10042, 10181, 3137, 11640, 15828, 5129, 2535, 15043, 218, 21391, 21949, 8710, 10859, 17080, 18575, 2381, 6580, 20638, 20186, 12234, 16558, 7879, 19306, 16617, 11540, 13534, 7017, 14264, 13736, 7379, 1907, 2198, 17935, 9372, 1563, 21760, 21470, 2413, 14529, 13054, 15472, 15129, 20262, 15477, 10954, 7974, 20894, 16658, 22531, 10531, 18688, 18995, 20763, 7823, 19420, 21570, 9311, 3624, 17118, 16707, 16539, 16730, 3502, 6266, 13787, 18614, 10552, 21063, 10381, 9209, 2011, 14592, 3087, 6157, 20715, 10701, 18325, 4498, 16682, 19816, 21320, 1369, 8854, 19557, 4540, 11831, 6174, 4364, 8917, 12512, 5352, 5209, 17707, 5834, 18587, 21106, 7316, 1199, 11356, 21627, 14371, 10998, 19040, 13738, 17687, 8126, 20064, 7145, 12906, 6295, 7455, 8152, 19697, 20364, 14446, 9594, 4829, 21159, 22393, 22040, 13905, 19257, 21674, 15072, 17046, 13797, 12073, 20063, 2152, 17702, 16045, 10922, 11871, 14904, 1499, 3173, 5387, 10015, 15989, 20021, 20698, 19662, 21027, 13323, 16250, 17578, 12704, 1644, 15325, 11490, 15620, 3799, 5770, 20953, 2569, 13208, 7203, 10160, 21196, 20065, 9611, 14, 11186, 19566, 13, 4508, 3152, 18986, 12812, 1340, 9338, 6483, 20841, 22309, 13509, 18468, 10947, 7816, 12705, 8014, 19366, 12531, 17515, 16264, 4943, 1109, 100, 14557, 17488, 8483, 8239, 21111, 18549, 12394, 433, 18854, 6381, 19478, 6870, 14746, 21240, 2163, 13047, 12695, 17221, 15469, 17692, 17140, 14659, 18567, 14262, 12788, 17451, 2216, 4342, 19262, 16737, 20200, 15080, 13097, 16282, 2704, 20655, 8764, 15902, 14217, 12418, 19055, 19935, 2784, 22497, 19727, 16244, 22008, 1703, 13223, 7109, 11531, 817, 18047, 265, 21299, 17894, 3259, 14749, 7106, 8985, 11169, 14890, 6001, 19999, 18992, 20625, 11886, 9430, 2742, 16034, 7746, 7120, 1294, 10948, 9542, 11260, 6043, 15408, 6330, 22156, 7098, 12727, 18386, 5460, 17601, 6350, 3174, 6861, 7253, 12761, 13623, 7680, 14117, 660, 18564, 7555, 1063, 15058, 22183, 15830, 12814, 8374, 962, 4462, 19020, 4611, 19643, 16481, 10680, 1301, 21287, 12930, 21304, 9861, 8231, 11948, 13584, 14449, 14741, 8264, 20652, 20147, 9244, 3848, 3079, 16310, 14664, 13116, 9052, 4723, 2598, 16946, 5093, 11080, 2283, 20258, 13194, 8141, 20990, 12949, 18312, 17234, 4481, 11677, 22408, 7937, 4610, 14101, 16725, 12135, 5593, 20972, 17550, 19649, 4397, 5736, 821, 15737, 12617, 20290, 14196, 3508, 10186, 10779, 15441, 5083, 16867, 13122, 11379, 10672, 8772, 19574, 4024, 15891, 22581, 2474, 7676, 5811, 7095, 1449, 21374, 15543, 10122, 14273, 20831, 15900, 1354, 21962, 17239, 13928, 19013, 21558, 5266, 12675, 11909, 2139, 5314, 6729, 9925, 6000, 2603, 11747, 1116, 135, 4533, 11523, 8508, 583, 15311, 3692, 2439, 22517, 16202, 4352, 17158, 13342, 20915, 17688, 5469, 7236, 6555, 8494, 2359, 8504, 8914, 13108, 8372, 3446, 8621, 487, 6847, 19510, 3266, 18823, 21405, 7451, 17015, 22476, 9810, 2292, 21625, 770, 20905, 20497, 5556, 11538, 8325, 18945, 17824, 4936, 7164, 8717, 7432, 17282, 5477, 8147, 16528, 22015, 9930, 16763, 17964, 9974, 13889, 2290, 18736, 18236, 7730, 16692, 896, 3713, 20536, 4983, 17456, 1276, 10170, 15396, 8856, 2049, 17384, 19648, 20896, 1055, 22000, 17309, 4411, 315, 12632, 12963, 17676, 11946, 6784, 8863, 13190, 11158, 19145, 20875, 15727, 14096, 15682, 19580, 13733, 20868, 18003, 5660, 8751, 21492, 14468, 1572, 21244, 9326, 13013, 12598, 20042, 2538, 6092, 2144, 8557, 2999, 6089, 4357, 12389, 4606, 11821, 18306, 20335, 3878, 14800, 12583, 11291, 10979, 5489, 9171, 18050, 8184, 8215, 6699, 10537, 20317, 2252, 13551, 10135, 22254, 21573, 17124, 6849, 14647, 13358, 21095, 7575, 22171, 5857, 4609, 20564, 289, 13478, 15765, 12621, 21837, 2898, 18615, 6820, 15352, 21294, 5787, 18248, 3751, 18250, 15401, 1891, 15551, 17170, 1729, 20101, 12039, 3362, 16289, 501, 21040, 2453, 21567, 7395, 21065, 9535, 7686, 16331, 815, 21219, 14550, 8292, 20457, 19045, 12183, 22376, 2623, 17953, 7198, 20282, 268, 10005, 11433, 9536, 3371, 12192, 10825, 13162, 3694, 2397, 16398, 16890, 12212, 22071, 14532, 912, 18480, 17553, 15425, 22225, 5254, 21703, 12746, 15160, 2712, 8158, 19462, 15141, 1958, 12276, 5695, 445, 1309, 6819, 10293, 3043, 9439, 5272, 18675, 20534, 20254, 4708, 1602, 18546, 19588, 11730, 9469, 16000, 16575, 21740, 790, 17164, 5109, 10983, 14831, 14875, 6323, 10630, 15584, 13841, 13535, 7052, 16408, 6710, 14917, 16712, 12723, 525, 18286, 13217, 11622, 19981, 20068, 1546, 7824, 21483, 15431, 18176, 15308, 11153, 13117, 21208, 4558, 15002, 13491, 10010, 13381, 16163, 12068, 18165, 9937, 7783, 22310, 5360, 4544, 17349, 6134, 13980, 7357, 15065, 1966, 4881, 9908, 3015, 9876, 12322, 2884, 11605, 19158, 323, 3267, 5116, 1419, 20299, 20297, 5689, 17845, 15062, 16895, 6364, 13993, 15024, 17560, 17499, 19088, 4476, 11842, 17571, 3971, 7082, 19174, 7983, 12294, 1241, 15558, 14396, 5899, 4920, 288, 10746, 7899, 15740, 9769, 21088, 13039, 16362, 20484, 6969, 16065, 9711, 4444, 21093, 1714, 20490, 5762, 1742, 11162, 10865, 20932, 21364, 4965, 14808, 20617, 4306, 14926, 18126, 20803, 3901, 1379, 8097, 7162, 7691, 1489, 12625, 12098, 2892, 12554, 13022, 3427, 22159, 9771, 21268, 19989, 18351, 3681, 18936, 6059, 2329, 7404, 6358, 13846, 561, 2135, 19249, 12572, 1162, 18203, 20066, 3433, 14970, 4380, 12364, 6097, 15511, 4759, 14204, 11526, 6160, 10441, 17436, 18303, 9547, 16462, 11710, 9085, 22065, 15664, 19784, 17072, 2309, 502, 13566, 3725, 20040, 17797, 11737, 6446, 4742, 2649, 14190, 13191, 5466, 2877, 14279, 15169, 22045, 1070, 21914, 4926, 2103, 2502, 7176, 10476, 18861, 20467, 15973, 20480, 10437, 17616, 12521, 2808, 19529, 4774, 12607, 7652, 2885, 13557, 14769, 21273, 8431, 19226, 13544, 12787, 16785, 10182, 1875, 7840, 1256, 16595, 1881, 7818, 8179, 329, 16268, 4598, 8440, 8385, 19447, 17866, 4645, 431, 16404, 19442, 12534, 7356, 11286, 1287, 3759, 16531, 7586, 19230, 15553, 8835, 21445, 13034, 6207, 15526, 7234, 1193, 15239, 1535, 7984, 20156, 10732, 4474, 6543, 1683, 14026, 10733, 21846, 7910, 16878, 9414, 12182, 1699, 1367, 20748, 708, 15038, 6396, 21738, 19525, 439, 7581, 17270, 14706, 15261, 17444, 21276, 9419, 14281, 4657, 13372, 10917, 20237, 2358, 12426, 13091, 17873, 932, 44, 3983, 11941, 18670, 269, 12346, 5069, 3776, 8681, 19067, 21450, 8773, 8966, 1202, 1186, 15025, 2208, 2199, 19705, 2404, 2752, 13168, 1765, 20595, 5976, 16686, 7452, 3514, 5997, 20150, 12065, 9064, 17581, 7685, 12060, 8284, 10072, 2047, 4116, 20370, 10675, 9928, 20960, 2238, 8726, 4117, 21513, 20377, 9563, 13899, 5311, 20987, 646, 5991, 17976, 2610, 1594, 4312, 9482, 8202, 6851, 1744, 17320, 8138, 14482, 19000, 21404, 20423, 6260, 7970, 75, 4628, 7697, 2264, 16105, 18275, 5502, 7267, 7535, 21501, 12717, 20190, 20838, 4660, 3161, 1092, 5403, 8775, 1580, 19898, 21429, 3701, 9174, 9593, 22477, 859, 4960, 13829, 9586, 18062, 9449, 6858, 16217, 2145, 6407, 10218, 19618, 2660, 3570, 4870, 19402, 22361, 7103, 5068, 4416, 13816, 12021, 11368, 5168, 8908, 15554, 17520, 11985, 13828, 2886, 16460, 21980, 5078, 3544, 22129, 15715, 19507, 3827, 7291, 18897, 10931, 3178, 1078, 21239, 8338, 8788, 58, 4351, 227, 18804, 10803, 7161, 18820, 11189, 7388, 9979, 13437, 3124, 9068, 19213, 13305, 18110, 11578, 12235, 12923, 16090, 19965, 15137, 14698, 21815, 99, 13786, 16740, 6382, 3893, 19005, 15227, 14999, 18714, 13938, 20046, 19846, 7179, 19506, 20142, 18743, 5957, 16815, 6809, 14193, 1940, 16106, 2056, 2650, 9366, 6984, 6959, 19340, 20581, 74, 14898, 15699, 19058, 18754, 20110, 8795, 2529, 12044, 1621, 8691, 4501, 1207, 11942, 22579, 10001, 10856, 20225, 19310, 11211, 19294, 2579, 10504, 13316, 10244, 22351, 10378, 17060, 2739, 17913, 7213, 22196, 20470, 686, 9705, 18434, 22344, 7378, 20098, 17575, 13687, 14250, 915, 10923, 9153, 11573, 3318, 21424, 9466, 18489, 22260, 13203, 17643, 15791, 20930, 1746, 1313, 13026, 9193, 9111, 20020, 19632, 7456, 14195, 16662, 14154, 3440, 9916, 19854, 12687, 15447, 21447, 8884, 15490, 11554, 11663, 9010, 6085, 10118, 4712, 11072, 17471, 3802, 13402, 7175, 22529, 18685, 5082, 19144, 16443, 19674, 4600, 10262, 18968, 1632, 3181, 13445, 14487, 20436, 19318, 22358, 18392, 12768, 5377, 9464, 5980, 17360, 11159, 21840, 8082, 6356, 8087, 17146, 13028, 2875, 3088, 11795, 4217, 14147, 16247, 12318, 20014, 17196, 10542, 14922, 16022, 20303, 15189, 6288, 19619, 10192, 1515, 12610, 18370, 21536, 11822, 3592, 2720, 3591, 14502, 152, 14641, 21160, 21332, 716, 1416, 13093, 11299, 19533, 12474, 14670, 21753, 20975, 2701, 387, 11619, 11617, 12835, 13910, 6712, 16983, 3008, 14173, 577, 6321, 22145, 9347, 11419, 6964, 22173, 8735, 12485, 17624, 8495, 2563, 14927, 12410, 10289, 13291, 16945, 16574, 17603, 16857, 20517, 3617, 3364, 15947, 2634, 2970, 18390, 9291, 18536, 4377, 13069, 5463, 9592, 3679, 4091, 10334, 21820, 16324, 12399, 612, 21000, 1864, 22550, 17113, 3838, 5406, 1867, 13951, 19283, 8299, 4007, 21038, 15455, 13683, 19448, 11351, 20552, 18119, 20141, 16559, 4086, 15939, 16127, 19001, 7171, 10610, 10993, 17586, 6557, 21612, 21624, 17016, 21073, 6387, 7154, 20945, 12470, 7231, 21981, 1959, 11168, 12048, 5388, 18023, 19072, 2179, 19326, 17457, 3603, 2804, 18842, 14280, 8791, 14959, 2776, 15026, 12902, 14466, 21202, 3775, 6496, 11825, 7988, 18282, 22508, 11399, 8934, 20764, 2055, 1999, 20509, 19325, 15013, 14504, 11370, 12163, 19668, 6783, 9226, 8277, 18358, 6400, 5106, 7928, 7580, 17304, 8402, 13497, 10691, 15350, 2528, 2945, 22587, 10142, 14736, 2512, 18623, 9483, 3208, 1174, 13881, 19498, 8061, 17452, 928, 4868, 15911, 8430, 10737, 20518, 7956, 5796, 1067, 10332, 7775, 13290, 22153, 12663, 4767, 19052, 14637, 18398, 15903, 6827, 13350, 9126, 12246, 2203, 1090, 2977, 6237, 14848, 13494, 11839, 14305, 1360, 20641, 12331, 7166, 10776, 2042, 20589, 4542, 15008, 926, 9058, 13024, 15140, 1100, 10396, 10404, 3662, 21963, 13228, 17438, 19938, 12149, 20315, 18500, 7258, 20824, 8656, 4025, 20418, 19289, 1134, 1069, 15383, 11308, 14005, 18043, 12224, 3716, 17921, 14203, 7804, 7779, 14684, 1121, 21005, 1115, 11305, 3653, 7366, 14444, 9635, 19085, 17051, 3859, 3064, 19538, 8441, 3512, 5871, 6048, 15783, 18608, 11461, 66, 12666, 9724, 18802, 18088, 17776, 21769, 11705, 5115, 12785, 19176, 13364, 14277, 2686, 14975, 15658, 7946, 4080, 1195, 6050, 5211, 9323, 11756, 4252, 14954, 3258, 7846, 635, 1065, 17519, 16011, 8517, 18263, 3749, 10412, 6724, 17871, 4814, 5725, 20092, 20143, 6636, 4573, 5733, 9944, 17552, 2675, 15390, 4400, 12662, 4695, 1368, 9015, 7509, 4309, 13169, 7664, 12692, 13230, 21532, 16717, 10927, 7341, 10952, 18526, 21830, 15064, 6825, 7426, 11636, 12004, 12544, 21135, 13974, 22182, 15734, 13633, 3597, 13204, 6800, 4555, 10312, 20085, 18102, 13995, 22499, 16806, 4487, 4075, 14097, 13375, 19097, 11300, 11600, 17496, 7820, 8098, 232, 5965, 4953, 10797, 4148, 2622, 17487, 7670, 8812, 914, 18932, 2029, 8685, 13919, 22113, 17701, 8635, 5090, 825, 6862, 10145, 10884, 3465, 9977, 14528, 21873, 9972, 17660, 15592, 5471, 4475, 20933, 20927, 5837, 12107, 1923, 1514, 3320, 8782, 15394, 18880, 3286, 12181, 13263, 5845, 11766, 2332, 16312, 6219, 1726, 7050, 6904, 20455, 4641, 21126, 12701, 10272, 22521, 9272, 14826, 6413, 3372, 20103, 6645, 21656, 20559, 10855, 10363, 12035, 5843, 8646, 15289, 20295, 3766, 13763, 8050, 21136, 19384, 4778, 9657, 7704, 21467, 16610, 10409, 2017, 20806, 21797, 4566, 15040, 18627, 3546, 5767, 9680, 21992, 17297, 6785, 6357, 20360, 12925, 18051, 21014, 4139, 19491, 10658, 17431, 18414, 19133, 6665, 21540, 7165, 2324, 15006, 22387, 2341, 22149, 17195, 21595, 15146, 626, 14286, 8491, 15974, 5870, 590, 20737, 20213, 18799, 13480, 12116, 22098, 12613, 8587, 15115, 5506, 20929, 19577, 19008, 7454, 17372, 17840, 5295, 8039, 16333, 3052, 17409, 22522, 15419, 8037, 20675, 9448, 14972, 13270, 4433, 17327, 1443, 7330, 16955, 3076, 7116, 7602, 5307, 6796, 16488, 8804, 7414, 7141, 2609, 17347, 13753, 2600, 7479, 4631, 9492, 7464, 9030, 4226, 10764, 19434, 1289, 14720, 5379, 16143, 19720, 16496, 1278, 20579, 6449, 15695, 13936, 22232, 8819, 16794, 5273, 8671, 20306, 998, 330, 10839, 3781, 16415, 7821, 18156, 10915, 3538, 2159, 320, 4922, 6171, 15480, 15348, 1853, 6876, 18426, 12523, 13750, 6117, 8071, 2807, 5525, 6537, 21414, 4104, 642, 14105, 6698, 16990, 20523, 18212, 19033, 5001, 13062, 14974, 720, 13761, 2906, 811, 420, 21372, 4272, 12429, 12303, 3554, 20417, 2395, 6082, 8746, 3484, 17377, 1519, 5028, 15872, 7132, 2715, 17450, 3068, 13709, 15874, 19886, 7131, 5582, 18752, 7590, 15516, 22575, 6222, 1771, 15918, 11900, 2849, 16005, 14602, 18011, 16677, 843, 22413, 2986, 7900, 17157, 16928, 14665, 2680, 7976, 5382, 1833, 22425, 11818, 19659, 3419, 9830, 2627, 9151, 3204, 18919, 2949, 11043, 13236, 18472, 15532, 22005, 4646, 13225, 2490, 16140, 6983, 21284, 7612, 15197, 14249, 7995, 17303, 15512, 12676, 13465, 21743, 2858, 16156, 15453, 13540, 11320, 16512, 14320, 13343, 17191, 8801, 9634, 11502, 21922, 9514, 11273, 15365, 17628, 16782, 11701, 15518, 10967, 357, 17338, 6985, 14572, 14496, 2418, 19605, 22118, 10034, 5063, 18916, 14866, 6810, 5989, 12455, 1355, 5780, 13811, 15674, 6987, 6548, 9224, 14332, 12185, 5375, 22410, 14524, 4734, 11739, 5839, 5921, 13329, 6091, 17351, 3041, 3566, 12998, 8912, 21786, 5838, 15142, 21310, 9401, 13654, 3691, 11143, 3947, 4559, 15970, 3471, 21649, 16629, 21801, 12773, 774, 19241, 10137, 22, 3469, 3732, 13008, 15677, 9824, 19199, 15005, 9046, 15686, 16961, 18400, 4405, 17348, 121, 6034, 19518, 3986, 20717, 9729, 2375, 18211, 8283, 5626, 3615, 5983, 4042, 5310, 3621, 3511, 3413, 16427, 3575, 11664, 5118, 1454, 20584, 2857, 12651, 13408, 7326, 7859, 4856, 19602, 6332, 13984, 10936, 22061, 4122, 21708, 20796, 8707, 14410, 16713, 10924, 22557, 7270, 4855, 19998, 13636, 13143, 13242, 6925, 9591, 8412, 6529, 3625, 3559, 2754, 8799, 16757, 11083, 6907, 7435, 18811, 2984, 9516, 4576, 19357, 10819, 10550, 18417, 18099, 16390, 19807, 21889, 4725, 17403, 2136, 5350, 16138, 939, 4512, 3328, 1342, 2217, 16799, 6903, 13825, 17893, 8852, 17401, 10263, 6419, 4681, 15875, 4995, 14711, 10153, 13597, 7233, 21706, 22134, 9119, 10734, 17926, 6598, 5454, 15484, 20061, 9172, 16442, 2291, 12957, 13988, 9179, 16902, 20549, 5601, 13277, 4825, 19123, 5803, 13893, 14275, 7033, 18764, 19427, 1329, 8111, 7981, 8694, 13646, 20618, 21066, 22366, 12993, 20113, 16224, 11240, 2607, 20153, 11195, 17492, 15429, 2270, 6307, 10772, 11733, 4950, 19090, 6717, 7529, 20951, 7488, 6933, 2344, 15980, 7684, 21956, 5425, 9164, 11172, 11740, 16671, 17832, 13278, 6773, 8839, 18098, 11064, 67, 21606, 6692, 17240, 1846, 18553, 18345, 601, 256, 17000, 22584, 18082, 4843, 21652, 16354, 9823, 7263, 18529, 15721, 21763, 18446, 18705, 16769, 16715, 10693, 2261, 11235, 16350, 14714, 20913, 19083, 19930, 7278, 12254, 663, 19046, 4731, 12415, 18227, 10493, 16978, 15228, 11994, 11000, 13183, 15290, 11854, 19815, 10940, 18326, 9137, 6769, 4204, 19951, 7608, 4947, 2003, 9184, 16803, 21773, 8915, 16015, 16536, 19748, 19332, 22412, 19700, 6949, 8703, 1597, 20562, 6881, 12486, 18925, 21140, 19756, 5551, 3042, 5679, 7209, 1331, 6013, 13833, 16197, 5111, 12160, 15262, 9918, 2724, 18189, 22348, 11174, 21847, 9585, 972, 3561, 18371, 21122, 640, 20138, 6265, 17106, 10382, 6514, 2963, 13662, 19179, 1613, 6605, 20145, 14817, 17197, 12042, 22515, 6669, 17541, 161, 17369, 12937, 11753, 14630, 16828, 2400, 11500, 9149, 5433, 22155, 9953, 4721, 19918, 10388, 17749, 18161, 19917, 10228, 1878, 5417, 3517, 21973, 15151, 16816, 10999, 9625, 16187, 19076, 15822, 4918, 15795, 10602, 875, 17148, 15757, 4658, 19936, 20402, 5361, 7086, 4205, 19002, 12526, 16762, 20899, 836, 15852, 22380, 2992, 13553, 15892, 5518, 10217, 9351, 3426, 10592, 9757, 8458, 8275, 6458, 8834, 5089, 14734, 5088, 15716, 9383, 20204, 8833, 6568, 10286, 12357, 1975, 8708, 21732, 6068, 9324, 2969, 20043, 9356, 1381, 11049, 18924, 3421, 3084, 21048, 7632, 7560, 19883, 12391, 16914, 15966, 3768, 21793, 9249, 20551, 14219, 11457, 14278, 9187, 20389, 14964, 16586, 19839, 14485, 6016, 16800, 2412, 19803, 9432, 21920, 13959, 9365, 14039, 13468, 18141, 11646, 11870, 13810, 17105, 21131, 20205, 5776, 15712, 1350, 20487, 18262, 9935, 12308, 2462, 14984, 10912, 20992, 5320, 5816, 11633, 1898, 6440, 18267, 11773, 16851, 13175, 17786, 5723, 21900, 10074, 4534, 2181, 580, 16719, 8359, 17274, 22300, 3262, 10216, 10132, 18749, 334, 15188, 18221, 16599, 2361, 20858, 19604, 6128, 6960, 7975, 16787, 18232, 3825, 3157, 6663, 12910, 14057, 20054, 7475, 1947, 7738, 588, 13711, 15114, 4369, 14451, 10163, 15571, 6525, 4009, 8259, 20127, 16577, 4317, 9006, 839, 17620, 4391, 15628, 18202, 5369, 21325, 21094, 7080, 9246, 4889, 3488, 1822, 2330, 18290, 2085, 20057, 797, 7850, 14412, 78, 21785, 11315, 15647, 12762, 12739, 14198, 17397, 6343, 11715, 15700, 3309, 20794, 10428, 16869, 2180, 8948, 9696, 18877, 6272, 22275, 3844, 2786, 20336, 19406, 1666, 5174, 3192, 20013, 16259, 20974, 21371, 5963, 10720, 1048, 18565, 20400, 1719, 16551, 5187, 14608, 13766, 19684, 8836, 1980, 21243, 16643, 6164, 17644, 4537, 3417, 21164, 15164, 424, 11631, 6002, 7661, 16889, 5027, 20344, 12059, 550, 19733, 7930, 16451, 10250, 10961, 19060, 1347, 8026, 12516, 20255, 3796, 7486, 21234, 6348, 15157, 7628, 10745, 1470, 20979, 7982, 21298, 14969, 15849, 7408, 16891, 983, 11249, 15088, 15818, 16200, 9374, 423, 21618, 5156, 15333, 8484, 19317, 17448, 15159, 5579, 3461, 9145, 9135, 9994, 10679, 1791, 15268, 12816, 12243, 6156, 2440, 15470, 10507, 4883, 17219, 3445, 17975, 3050, 21083, 13869, 20409, 11002, 21341, 17872, 12443, 1040, 19032, 16845, 11817, 1010, 19062, 3279, 8594, 3821, 15229, 21346, 20791, 295, 21752, 8928, 7591, 13871, 9709, 21687, 15883, 8862, 13681, 4594, 13933, 11161, 9215, 11499, 10670, 16621, 11799, 321, 11616, 4934, 19926, 19428, 14145, 8714, 2250, 3105, 11812, 17178, 20027, 18111, 18547, 22547, 7807, 18441, 21, 328, 2339, 20187, 13946, 2124, 21755, 10868, 11641, 13373, 14580, 21220, 1257, 8464, 8480, 14352, 14112, 7936, 13089, 21323, 21515, 13754, 11601, 1435, 20658, 3147, 5473, 14046, 13814, 17433, 21043, 13979, 3036, 18277, 19335, 17959, 7058, 5048, 7413, 10815, 884, 751, 19431, 8810, 3914, 2501, 4836, 12129, 2035, 3737, 22370, 22432, 6714, 2455, 17916, 19990, 6516, 4047, 6130, 8234, 2665, 10134, 978, 15850, 4417, 8653, 5341, 16675, 16972, 7622, 2587, 1399, 22028, 6228, 10421, 11776, 9393, 9505, 7916, 4037, 16394, 7135, 11580, 6838, 718, 4432, 88, 15942, 10828, 22483, 11341, 8180, 19722, 179, 19219, 4930, 11505, 5633, 2661, 18609, 229, 21230, 18395, 7298, 19804, 20862, 22214, 21809, 7833, 1135, 21997, 4556, 11606, 5067, 1679, 670, 20331, 2362, 16255, 15763, 20976, 14870, 7747, 8744, 20481, 3057, 12940, 15336, 3586, 3585, 3731, 8410, 21479, 11838, 9078, 16209, 16321, 4629, 2169, 21361, 967, 21026, 15907, 14220, 14752, 21413, 15131, 3061, 12479, 7752, 5029, 3969, 16606, 14809, 13370, 3312, 12386, 17206, 6301, 2167, 1897, 20404, 5189, 13184, 20105, 20477, 18293, 21731, 9252, 3217, 11765, 3108, 12891, 4634, 7386, 22539, 12580, 22527, 16980, 16454, 18363, 17946, 12010, 12175, 16161, 221, 19774, 5368, 10258, 14114, 18983, 10374, 20504, 22107, 4412, 4172, 5096, 15292, 9718, 13992, 9787, 565, 11813, 21821, 8755, 11535, 3920, 10000, 20524, 18787, 10158, 10873, 10440, 16369, 8817, 4691, 89, 11970, 22235, 17637, 14498, 12238, 14100, 545, 11596, 12369, 21750, 14931, 17961, 12199, 14133, 21139, 3670, 3988, 21129, 6656, 7913, 4849, 10838, 16049, 20500, 11324, 16590, 322, 4670, 15747, 4463, 1401, 2356, 21535, 3860, 8172, 3094, 3203, 4823, 3000, 14613, 10031, 3379, 64, 11129, 19403, 21745, 5152, 6755, 2249, 1126, 10022, 19328, 5297, 1600, 12265, 129, 15919, 16449, 11518, 17117, 21206, 6740, 15287, 19155, 827, 15194, 3865, 3917, 12836, 4439, 11180, 18594, 13486, 20565, 13987, 20712, 12903, 11040, 20587, 3594, 14905, 19963, 1767, 19824, 19522, 12390, 5798, 332, 4805, 2982, 17928, 12612, 2551, 11081, 20890, 7532, 936, 6988, 20280, 19419, 15735, 12733, 20055, 15216, 6764, 2128, 12195, 11456, 3472, 20610, 7437, 11800, 9498, 2445, 7101, 17190, 1668, 3190, 18607, 12165, 12649, 21075, 6676, 732, 13571, 490, 5204, 12791, 9427, 648, 12799, 11219, 21044, 11281, 20244, 21382, 1761, 22181, 6193, 9071, 2539, 13552, 6003, 15633, 17121, 13839, 2864, 560, 7867, 19528, 724, 11136, 5751, 16370, 21578, 4150, 11924, 11785, 8740, 9566, 19680, 14582, 9513, 19445, 4928, 19138, 4698, 19842, 21592, 6394, 21071, 4018, 3622, 10673, 17925, 15744, 13454, 342, 18887, 10392, 10590, 1921, 15037, 9112, 1349, 18502, 19814, 7548, 12350, 11192, 17137, 19486, 5698, 21472, 6176, 13483, 19376, 12655, 18917, 16483, 8028, 9101, 8808, 17739, 17442, 20074, 11637, 5359, 21307, 1266, 19232, 2555, 16315, 7883, 8578, 14311, 11794, 13954, 20777, 21955, 16307, 1243, 600, 1423, 9327, 4130, 20119, 8204, 6393, 6118, 4946, 9904, 1208, 12450, 7521, 2505, 20310, 9328, 21531, 3892, 13332, 19079, 3170, 18114, 2771, 13357, 9989, 9397, 8308, 21029, 3329, 9578, 1079, 9702, 21713, 402, 9479, 21910, 12537, 1031, 21898, 6622, 19765, 8426, 18166, 10356, 10418, 1626, 6490, 13782, 11521, 6216, 9440, 20195, 5127, 6504, 13166, 6961, 18253, 12106, 7517, 12158, 9951, 6521, 925, 18373, 15312, 2848, 5331, 9958, 3436, 14701, 20149, 20375, 14793, 6672, 9796, 3373, 21871, 371, 14537, 17277, 5010, 6611, 5738, 2810, 17639, 6331, 198, 17535, 6008, 19370, 18097, 18519, 3887, 3840, 10364, 2685, 7332, 12152, 22378, 12105, 17783, 4260, 14681, 6232, 11267, 20859, 13518, 5462, 11287, 1660, 5132, 185, 8573, 4016, 13380, 1551, 6185, 15978, 21351, 943, 3040, 16938, 17125, 5842, 6666, 14340, 7453, 11039, 10977, 17833, 3862, 4221, 7940, 5143, 16613, 7669, 34, 21525, 13510, 20309, 12498, 627, 22354, 8910, 20034, 13866, 7613, 14368, 6735, 5922, 2100, 22062, 16736, 11298, 21586, 13801, 13014, 5532, 20076, 16434, 19455, 9295, 4236, 9745, 7396, 8282, 15701, 9418, 16516, 8713, 3556, 13771, 14627, 9801, 14289, 10329, 13472, 8814, 469, 8260, 21709, 12781, 5652, 21226, 18513, 10904, 12161, 7197, 15411, 22373, 8797, 17884, 21317, 21890, 18028, 5452, 1324, 15196, 2582, 21930, 10294, 1693, 21783, 16134, 1120, 19086, 8582, 17532, 14370, 20294, 5749, 1741, 16149, 15273, 19186, 2040, 2747, 9480, 15112, 18689, 7541, 5895, 11232, 17772, 8749, 16906, 2468, 15364, 8459, 33, 11932, 10704, 20164, 18624, 11707, 17951, 5458, 17779, 10973, 10710, 10235, 8225, 9456, 14789, 3927, 5827, 2679, 4408, 6982, 5312, 1574, 21933, 1786, 1701, 9693, 1176, 21477, 18759, 20286, 15209, 18927, 2899, 6910, 12565, 19597, 8549, 4094, 21924, 5583, 9758, 19922, 7886, 22265, 13450, 7107, 20388, 6556, 15568, 15446, 9406, 6060, 21932, 3439, 14896, 14426, 6170, 9237, 20895, 21875, 22032, 2487, 11768, 18524, 1239, 5412, 10285, 15811, 11225, 22077, 7069, 16063, 507, 16167, 5459, 12413, 5916, 19476, 5524, 22572, 5289, 451, 17446, 10359, 10881, 14330, 17238, 15057, 11687, 7480, 13583, 21827, 20442, 4894, 19913, 17766, 20093, 8654, 1467, 1684, 13248, 20048, 18452, 6630, 11485, 14252, 14770, 2513, 7672, 20091, 21527, 3438, 1400, 10567, 3895, 21544, 8198, 2478, 14151, 5287, 14738, 9190, 2410, 3142, 13109, 16097, 18146, 5410, 8465, 11934, 13790, 8670, 10943, 14810, 16439, 14584, 5810, 13354, 20035, 574, 7898, 12942, 10613, 12142, 16299, 17956, 17891, 16367, 12567, 5820, 5973, 13916, 11878, 6042, 19141, 16402, 11623, 441, 12604, 20462, 5567, 20277, 16533, 10709, 12740, 22166, 15034, 2726, 4988, 12080, 12433, 2384, 12508, 244, 15630, 5615, 11205, 13421, 2357, 18393, 518, 5683, 11589, 12789, 16041, 17900, 18941, 11004, 15520, 21292, 5802, 17034, 2236, 13865, 10361, 8332, 16428, 19901, 21342, 20814, 17037, 2653, 12861, 16811, 3608, 20721, 8254, 2855, 12330, 10144, 4482, 15354, 2556, 20079, 10853, 13420, 7863, 9528, 17896, 307, 7841, 1779, 21124, 16057, 13645, 3814, 12894, 8472, 3618, 17994, 11463, 10136, 19775, 15202, 5853, 14161, 18899, 5030, 22330, 19535, 7031, 2094, 15482, 17860, 18856, 12892, 10038, 15563, 14887, 11586, 15023, 12045, 4760, 4158, 19829, 2422, 4899, 18770, 19183, 22035, 11150, 11811, 21368, 19469, 3552, 10147, 6831, 16942, 15793, 11111, 3791, 21101, 11181, 10017, 11820, 18376, 9829, 4281, 1396, 9954, 20787, 20506, 4345, 21408, 17863, 14658, 9713, 19673, 400, 15742, 10257, 8354, 3185, 22543, 4298, 13066, 12794, 21008, 20936, 17890, 2762, 17877, 377, 22353, 18115, 16523, 6992, 21982, 16280, 20198, 656, 3377, 11167, 20278, 504, 1018, 4483, 9240, 7631, 16166, 3639, 9012, 17368, 20238, 14534, 5659, 20845, 17751, 4652, 8456, 14077, 705, 19802, 1094, 2425, 11122, 11214, 17736, 20687, 11974, 20548, 422, 2590, 11723, 2184, 18222, 7731, 2602, 15317, 6990, 15631, 8728, 11210, 22262, 9402, 20354, 2276, 7654, 14306, 7763, 18444, 789, 9138, 7490, 19105, 10662, 18200, 87, 1307, 7754, 14492, 13409, 4727, 5418, 10706, 21619, 22083, 20769, 19231, 9251, 4448, 20028, 21938, 18239, 19905, 9960, 3619, 15132, 11184, 9143, 3686, 9998, 20067, 14566, 6890, 3293, 17079, 2881, 19622, 10589, 2399, 10040, 2213, 4087, 21692, 22101, 17773, 1789, 18044, 213, 12657, 14483, 17858, 9049, 5754, 7944, 8011, 8818, 17339, 12517, 8367, 13405, 257, 42, 21355, 20359, 19302, 18871, 16429, 18259, 10740, 3562, 14385, 6372, 10180, 3835, 13976, 10394, 10676, 2477, 4291, 3412, 18185, 16894, 18174, 19856, 18966, 6107, 18852, 13262, 17013, 4341, 8378, 12460, 4414, 22482, 9169, 1478, 348, 22230, 4863, 18734, 8624, 12360, 687, 20215, 9294, 5218, 7368, 4599, 994, 8554, 15258, 10377, 5599, 7917, 16676, 21552, 21903, 8079, 2099, 13067, 16176, 9985, 17028, 17730, 9488, 10987, 21685, 4251, 22480, 14292, 8027, 9210, 1547, 3101, 1627, 10174, 13594, 15049, 9773, 6418, 9686, 2277, 9812, 223, 8269, 14849, 4215, 19078, 11519, 828, 21020, 19119, 5490, 9761, 20399, 19788, 1296, 21456, 10358, 16060, 6502, 21011, 16570, 5194, 13154, 17226, 13492, 9122, 16006, 3200, 22570, 18321, 19725, 12286, 9847, 21181, 13213, 11277, 18574, 1912, 12618, 1748, 15906, 505, 5910, 10986, 8955, 8658, 5100, 1310, 16535, 16305, 20485, 10089, 19780, 13530, 894, 683, 4527, 6083, 2010, 7908, 12865, 18254, 6073, 2531, 11527, 19747, 1057, 1723, 10553, 3989, 9453, 19789, 18572, 2868, 4787, 13890, 12064, 14359, 3212, 16445, 16341, 8980, 9082, 1455, 12365, 21117, 15154, 20391, 20799, 7472, 5158, 13016, 17493, 2226, 4679, 8543, 11470, 5828, 12305, 18704, 13210, 20482, 21428, 19561, 10826, 18514, 12802, 1634, 4539, 18196, 857, 8092, 8297, 9217, 17054, 11953, 4425, 1173, 536, 12750, 18883, 17723, 17236, 20735, 21710, 12757, 18890, 11269, 8657, 10614, 13533, 10454, 15773, 13656, 20337, 15778, 6385, 15328, 3459, 7212, 2526, 9605, 5519, 20967, 10707, 20059, 10354, 11964, 16082, 18710, 6402, 12491, 12546, 19256, 16691, 2191, 6116, 18316, 16507, 5355, 512, 9116, 21328, 11242, 1824, 22209, 5179, 5513, 8989, 22329, 14316, 22051, 12094, 18317, 5880, 7168, 6464, 22099, 16948, 18955, 21632, 2196, 11237, 20115, 14354, 16353, 15752, 5464, 3261, 13212, 233, 21109, 7504, 18843, 3858, 4170, 10611, 9858, 6744, 16552, 15465, 21985, 4262, 5778, 21204, 21130, 21085, 20674, 8697, 6915, 7416, 16405, 13015, 20744, 22180, 5571, 13784, 11209, 16768, 4166, 8780, 10399, 9296, 4264, 6038, 7565, 8954, 8478, 9067, 16076, 16680, 4455, 9340, 12250, 573, 11917, 11735, 13705, 14150, 9285, 2285, 7543, 15581, 12839, 22283, 3113, 22322, 18435, 16696, 7582, 16856, 1054, 16843, 12644, 14447, 8861, 176, 20761, 10316, 4782, 9580, 15090, 20108, 5367, 9013, 9147, 21281, 13990, 20857, 10373, 2922, 1586, 22472, 7235, 20635, 3330, 11755, 296, 22586, 1588, 17477, 6345, 21455, 9435, 8757, 8233, 14488, 22269, 19267, 20749, 17192, 13289, 18403, 15834, 438, 4941, 8509, 20097, 8392, 17650, 8020, 17524, 9567, 4516, 22473, 14047, 20533, 4752, 127, 14626, 14735, 17704, 10369, 17423, 15871, 15876, 18068, 20612, 20779, 3031, 2156, 6474, 6471, 17522, 13436, 7467, 11163, 18886, 4327, 20338, 3378, 10756, 1516, 9650, 19472, 9629, 1224, 16162, 15798, 7549, 12145, 6029, 731, 15838, 11873, 14102, 206, 8521, 14995, 8328, 3734, 9208, 8246, 14208, 9588, 676, 1461, 15232, 20322, 20049, 6608, 5876, 10628, 18229, 10814, 22158, 2408, 22474, 4266, 1322, 20707, 971, 15559, 4203, 11, 16543, 13145, 12397, 22509, 11413, 5022, 20746, 7663, 22108, 21979, 3399, 1327, 13201, 4324, 7215, 15249, 14834, 19973, 20236, 6293, 1364, 15201, 4781, 5992, 19593, 22311, 7542, 11025, 13740, 22237, 14530, 20209, 8677, 21293, 7391, 20676, 13136, 19631, 13139, 1601, 13157, 16309, 20494, 6505, 16614, 12790, 18210, 802, 19868, 9105, 10603, 4242, 19470, 8872, 10851, 7155, 16746, 20668, 14750, 20071, 2077, 12373, 425, 7335, 6865, 20528, 20498, 8425, 234, 6765, 5784, 11348, 14840, 19966, 19564, 21668, 3815, 3354, 21609, 2997, 3117, 10455, 19801, 7338, 19924, 14541, 13320, 1201, 21464, 12564, 15777, 10966, 17042, 19979, 14389, 1059, 4418, 21250, 15982, 6196, 196, 4359, 15843, 2363, 18054, 5245, 22537, 14415, 1471, 3213, 13658, 2700, 10722, 17558, 3633, 11199, 11262, 20263, 19480, 754, 1745, 3787, 11544, 15556, 11722, 10146, 5199, 7748, 20288, 2401, 2444, 5728, 13256, 12272, 16271, 19667, 10466, 17370, 2168, 5692, 17633, 17796, 1751, 2880, 4453, 4133, 15493, 4265, 6465, 22055, 7764, 7249, 18960, 14372, 3837, 6703, 4125, 5313, 4200, 9537, 14155, 610, 17009, 2187, 20302, 1084, 20347, 11849, 1595, 5938, 11075, 19873, 1052, 15519, 17023, 20167, 19836, 13762, 8850, 2193, 12712, 2113, 3112, 10011, 2127, 17881, 111, 14597, 6743, 20636, 3056, 13101, 7153, 3209, 1889, 18687, 5108, 813, 12244, 19652, 10317, 20557, 5428, 11713, 131, 8391, 12518, 21637, 7778, 18279, 2903, 17325, 21007, 9423, 12071, 13347, 17375, 17979, 19548, 5840, 14674, 19026, 14717, 10635, 2588, 16132, 3342, 21950, 18510, 15254, 14404, 450, 1631, 3480, 11752, 14391, 4864, 7460, 4247, 1941, 10451, 12458, 21661, 19454, 18330, 2618, 14744, 20176, 4471, 16929, 16888, 9360, 3948, 18487, 21741, 15995, 9665, 21565, 6749, 2451, 5094, 2815, 14947, 7097, 848, 9809, 3300, 1380, 10876, 3245, 16371, 16064, 19350, 10970, 6025, 2278, 6285, 2821, 16837, 14395, 12062, 8271, 17501, 13311, 16723, 6278, 6571, 18463, 11266, 16950, 12992, 20880, 18562, 9011, 16047, 16640, 11120, 12260, 15069, 733, 13207, 11462, 17898, 6333, 7382, 17418, 8532, 22120, 2601, 147, 5079, 9195, 8321, 14049, 20878, 15095, 6685, 14069, 21114, 16532, 19542, 16211, 12047, 14325, 907, 19783, 1107, 8725, 4085, 1385, 2568, 6852, 4569, 3563, 10960, 2471, 19282, 8296, 20125, 2383, 6057, 15967, 3973, 15363, 13488, 8173, 249, 2221, 1251, 18319, 20146, 20300, 2206, 13835, 6721, 3386, 8823, 9885, 8739, 657, 21354, 21843, 4372, 3058, 15764, 13065, 15950, 10260, 20685, 10420, 18237, 16025, 19909, 21163, 15055, 21358, 13868, 10431, 4796, 10777, 18454, 6565, 11459, 18728, 16960, 17114, 16510, 9996, 8939, 4597, 2493, 1227, 7724, 20102, 21402, 1427, 21639, 13589, 4296, 14265, 13239, 8125, 4098, 5229, 13144, 2737, 2263, 16886, 9704, 1168, 7901, 8086, 14373, 5674, 15448, 2746, 19200, 19551, 19334, 7177, 21386, 17400, 10410, 8095, 2738, 16804, 1946, 16920, 8522, 15117, 10468, 19677, 6037, 2711, 7715, 9412, 12020, 6202, 17829, 15011, 11694, 1904, 3441, 1154, 10221, 20451, 4435, 7810, 4386, 21662, 13462, 20311, 22585, 3374, 17612, 12, 20766, 2642, 3045, 1196, 4064, 17958, 1274, 9191, 14338, 7443, 7831, 4174, 654, 19389, 6123, 794, 20829, 638, 16419, 10014, 15789, 6309, 12041, 10302, 10311, 10581, 5277, 11579, 12200, 12997, 18118, 10152, 7285, 13246, 21448, 17095, 2840, 15122, 7656, 18394, 2298, 16071, 3409, 1716, 3062, 14000, 7954, 515, 10018, 14339, 12046, 6532, 8342, 16962, 4097, 19555, 16605, 10586, 12880, 1774, 21825, 549, 9777, 593, 11375, 13896, 6816, 7247, 3350, 374, 4875, 20844, 20621, 988, 20797, 15428, 10047, 15661, 12988, 10247, 17025, 12769, 19044, 20591, 20047, 18588, 18209, 14642, 14675, 21813, 11754, 8977, 19971, 9162, 12984, 12209, 11408, 17307, 4065, 3987, 13569, 16281, 21705, 8134, 14475, 13652, 7708, 13382, 952, 17489, 15070, 12110, 20211, 10229, 17634, 1397, 9370, 15692, 16628, 1583, 14476, 6439, 3059, 10104, 12725, 10092, 16012, 13675, 8592, 13619, 15597, 19018, 9241, 21003, 3849, 4952, 10353, 19089, 14934, 10909, 19600, 5193, 11347, 13861, 17258, 7125, 9903, 16884, 22340, 10360, 11272, 3447, 8505, 12164, 5126, 4961, 7226, 15785, 17784, 7705, 1667, 1014, 10575, 11438, 9525, 12409, 251, 7588, 1064, 11874, 2594, 3238, 19896, 5117, 8962, 21253, 19205, 8510, 17697, 22288, 8935, 14881, 11565, 14130, 16159, 6693, 20781, 5222, 17122, 3531, 222, 17006, 16040, 16706, 12639, 16918, 12402, 7206, 3230, 1192, 21490, 19550, 3660, 16892, 10824, 20662, 13724, 3294, 393, 11945, 9967, 17045, 1908, 301, 15213, 10540, 17353, 19738, 21926, 3227, 1649, 18958, 14903, 9391, 21664, 6813, 9813, 22137, 19903, 2423, 9416, 20784, 20339, 20699, 15329, 7300, 7997, 7587, 17063, 6153, 15975, 17429, 9807, 9471, 1165, 9932, 18904, 5395, 4144, 18881, 7372, 63, 12226, 13308, 18805, 22454, 7552, 5021, 18505, 12728, 14453, 12935, 19556, 21123, 21343, 13232, 285, 8885, 14545, 16101, 5534, 7868, 8077, 21188, 4816, 15085, 1932, 7201, 11872, 3955, 9927, 17592, 18975, 1352, 5544, 10773, 17728, 13561, 11093, 9532, 15521, 8022, 2333, 17754, 11276, 13477, 8798, 7117, 8959, 9746, 4575, 16412, 6727, 4871, 9826, 18566, 17336, 12462, 1184, 1818, 2664, 10563, 8983, 15648, 12708, 5791, 436, 9293, 435, 13737, 10615, 21419, 14851, 4582, 15826, 6485, 18655, 17097, 183, 7146, 2301, 13638, 21489, 6014, 19624, 4563, 5595, 8520, 3852, 17027, 19515, 21518, 9564, 19305, 22302, 7499, 8806, 1828, 18322, 21321, 10019, 19485, 13947, 14347, 6811, 8706, 14725, 15250, 16631, 18274, 3184, 14429, 16225, 6782, 22418, 2565, 6996, 17115, 14595, 13926, 1153, 49, 20888, 13895, 21104, 10633, 9703, 4051, 133, 19504, 9942, 1697, 10634, 5863, 4253, 4536, 12755, 4110, 9924, 5510, 10415, 9152, 2979, 16683, 13528, 11092, 14859, 1157, 14759, 7526, 16854, 16985, 11635, 19764, 878, 9034, 8615, 611, 4939, 5351, 11373, 16379, 7864, 18948, 7273, 464, 22168, 14878, 17661, 21257, 2354, 19264, 1273, 9628, 9673, 3156, 21092, 6508, 13983, 1073, 19549, 13152, 310, 8081, 2050, 19606, 15031, 5744, 12605, 3400, 4273, 21302, 14920, 11859, 5347, 10901, 3001, 8492, 3899, 8100, 21227, 22056, 7781, 9682, 8774, 12011, 4349, 12396, 8794, 4452, 4526, 5818, 20904, 21409, 18938, 1028, 643, 4284, 7230, 15642, 19664, 4278, 17990, 13319, 9728, 21728, 13713, 15713, 18979, 9061, 3601, 19768, 1694, 20864, 7525, 9025, 9506, 20130, 5664, 15847, 21148, 10055, 13322, 17038, 4812, 18993, 21105, 14581, 13669, 13398, 12290, 1565, 14843, 2433, 21306, 6688, 15987, 20720, 19887, 3829, 123, 1258, 22124, 14271, 2254, 1240, 12447, 2149, 15373, 11430, 12108, 7018, 15077, 11494, 14058, 14988, 13219, 16352, 13803, 8145, 20002, 3252, 22273, 13160, 22178, 20323, 14907, 7013, 14824, 10076, 11517, 3841, 781, 13177, 16963, 15880, 21177, 6780, 4410, 18338, 7075, 3103, 18682, 20220, 13973, 21729, 21176, 15748, 17246, 16470, 10639, 16749, 15632, 2657, 11630, 13581, 7520, 12558, 5383, 22396, 17242, 1361, 12513, 20257, 6826, 8575, 17078, 4376, 5137, 22026, 15124, 1823, 14712, 10337, 9398, 5893, 1812, 8306, 4882, 13957, 20178, 7755, 21828, 12532, 8396, 13030]\n"
     ]
    }
   ],
   "source": [
    "tmp_e2 = ''\n",
    "tmp_o2 = ''\n",
    "tmp_pair2= []\n",
    "# find two hope from post entities\n",
    "lsk = ['loop, RelatedTo, chicago', 'shoot, RelatedTo, comet', 'dumb, RelatedTo, deaf', 'walk, RelatedTo, door', 'pier, RelatedTo, boat']\n",
    "# id2word = dict()\n",
    "# for key in word2id.keys():\n",
    "#     id2word[word2id[key]] = key\n",
    "swapped_dict = {value: key for key, value in dict_csk_entities.items()}\n",
    "entities_one_hop = []\n",
    "for i in id_one_hop:\n",
    "#     print(i)\n",
    "    entities_one_hop.append(swapped_dict[i])\n",
    "entities_one_hop2 = entities_one_hop[:5]\n",
    "    \n",
    "tmp_entities_two_hop = []\n",
    "for e_o2 in csk_triples:\n",
    "    e_o2 = e_o2.split(',')\n",
    "#         print(e_o)\n",
    "    for entity2 in entities_one_hop:\n",
    "#         print(entity2)\n",
    "        tmp_e2 = e_o2[0]\n",
    "        tmp_o2 = e_o2[2].lstrip()\n",
    "        tmp_pair2 = [tmp_e2, tmp_o2]\n",
    "        if entity2 in tmp_pair2:\n",
    "            if entity2 == tmp_pair2[0] and tmp_pair2[1] not in post_entities and tmp_pair2[1] not in entities_one_hop:\n",
    "#                 print('yes entity2 == tmp_pair[0]')\n",
    "                if tmp_pair2[1] in dict_csk_entities:\n",
    "                    tmp_entities_two_hop.append(dict_csk_entities[tmp_pair2[1]])\n",
    "            elif entity2 == tmp_pair2[1] and tmp_pair2[0] not in post_entities and tmp_pair2[0] not in entities_one_hop:\n",
    "#                 print('yes entity2 == tmp_pair[1]')\n",
    "                if tmp_pair2[0] in dict_csk_entities:\n",
    "#                     print('tmp_pair[0] in dict_csk_entities')\n",
    "                    tmp_entities_two_hop.append(dict_csk_entities[tmp_pair2[0]])\n",
    "            else:\n",
    "                continue\n",
    "        else:\n",
    "            continue\n",
    "        tmp_e2 = []\n",
    "        tmp_o2 = []\n",
    "        tmp_pair2 = []\n",
    "\n",
    "print(len(tmp_entities_two_hop))\n",
    "entities_two_hop = [i for n, i in enumerate(tmp_entities_two_hop) if i not in tmp_entities_two_hop[:n]]\n",
    "print(len(entities_two_hop))\n",
    "print(entities_two_hop)"
   ]
  },
  {
   "cell_type": "markdown",
   "metadata": {},
   "source": [
    "# create_post_triples"
   ]
  },
  {
   "cell_type": "code",
   "execution_count": 35,
   "metadata": {},
   "outputs": [],
   "source": [
    "# Function to create the post_triples list\n",
    "def create_post_triples(post, csk_entities):\n",
    "    csk_entities = csk_entities\n",
    "    post_csk_entities = {}\n",
    "    count = 1\n",
    "    res = re.findall( r'\\w+|[^\\s\\w]+', post)\n",
    "    print(res)\n",
    "    print(len(res))\n",
    "    for i in res:\n",
    "#         print(i)\n",
    "        if i in post_csk_entities.keys():\n",
    "            continue\n",
    "\n",
    "        elif i in csk_entities:\n",
    "            post_csk_entities[i] = count\n",
    "            count = count+1\n",
    "        else:\n",
    "            continue\n",
    "            \n",
    "    post_triples = []\n",
    "    for word in res:\n",
    "        if word in post_csk_entities:\n",
    "            post_triples.append(post_csk_entities[word])\n",
    "        else:\n",
    "            post_triples.append(0)  # Use 0 for words that are not in dict_csk_entities\n",
    "    return post_triples"
   ]
  },
  {
   "cell_type": "code",
   "execution_count": 38,
   "metadata": {},
   "outputs": [
    {
     "name": "stdout",
     "output_type": "stream",
     "text": [
      "['this', 'fucking', 'shit', 'pisses', 'me', 'off', 'to', 'no', 'end', ',', 'when', 'these', 'fucking', 'liberal', 'hypocrites', 'imply', 'the', 'only', 'group', 'of', 'people', 'capable', 'of', 'being', 'racist', 'are', 'the', 'whites', '.']\n",
      "29\n",
      "Post Triples: [0, 1, 2, 0, 0, 0, 0, 0, 3, 0, 0, 0, 1, 4, 5, 6, 0, 0, 7, 0, 0, 8, 0, 0, 9, 0, 0, 10, 0]\n"
     ]
    }
   ],
   "source": [
    "post_triples = create_post_triples(post3, csk_entities)\n",
    "\n",
    "print(\"Post Triples:\", post_triples)"
   ]
  },
  {
   "cell_type": "code",
   "execution_count": 15,
   "metadata": {},
   "outputs": [
    {
     "name": "stdout",
     "output_type": "stream",
     "text": [
      "['What', 'is', 'related', 'to', 'coffee!']\n",
      "['What', 'is', 'related', 'to', 'coffee', '!']\n",
      "[0. 0. 0. 0. 0. 0.]\n"
     ]
    }
   ],
   "source": [
    "\n",
    "questions=\"What is related to coffee!\"\n",
    "res = re.findall( r'\\w+|[^\\s\\w]+', questions)\n",
    "\n",
    "print(questions.split())\n",
    "print(res)\n",
    "print(np.zeros(len(res)))"
   ]
  },
  {
   "cell_type": "raw",
   "metadata": {
    "id": "2_60L7hXzJA9"
   },
   "source": [
    "# Utils"
   ]
  },
  {
   "cell_type": "code",
   "execution_count": 6,
   "metadata": {
    "executionInfo": {
     "elapsed": 3,
     "status": "ok",
     "timestamp": 1713337068693,
     "user": {
      "displayName": "Yoonhyuck Woo",
      "userId": "02824016300247564870"
     },
     "user_tz": 240
    },
    "id": "UYav9uIszKYC"
   },
   "outputs": [],
   "source": [
    "def padding(sent, l):\n",
    "    return sent + ['_EOS'] + ['_PAD'] * (l-len(sent)-1)\n",
    "\n",
    "def padding_triple_id(entity2id, triple, num, l):\n",
    "    newtriple = []\n",
    "    for i in range(len(triple)):\n",
    "        for j in range(len(triple[i])):\n",
    "            for k in range(len(triple[i][j])):\n",
    "                if triple[i][j][k] in entity2id:\n",
    "                    triple[i][j][k] = entity2id[triple[i][j][k]]\n",
    "                else:\n",
    "                    triple[i][j][k] = entity2id['_NONE']\n",
    "\n",
    "    for tri in triple:\n",
    "        newtriple.append(tri + [[entity2id['_PAD_H'], entity2id['_PAD_R'], entity2id['_PAD_T']]] * (l - len(tri)))\n",
    "    pad_triple = [[entity2id['_PAD_H'], entity2id['_PAD_R'], entity2id['_PAD_T']]] * l\n",
    "    return newtriple + [pad_triple] * (num - len(newtriple))\n",
    "\n",
    "def build_kb_adj_mat(kb_adj_mats, fact_dropout):\n",
    "    \"\"\"Create sparse matrix representation for batched data\"\"\"\n",
    "    mats0_batch = np.array([], dtype=int)\n",
    "    mats0_0 = np.array([], dtype=int)\n",
    "    mats0_1 = np.array([], dtype=int)\n",
    "    vals0 = np.array([], dtype=float)\n",
    "\n",
    "    mats1_batch = np.array([], dtype=int)\n",
    "    mats1_0 = np.array([], dtype=int)\n",
    "    mats1_1 = np.array([], dtype=int)\n",
    "    vals1 = np.array([], dtype=float)\n",
    "\n",
    "    for i in range(kb_adj_mats.shape[0]):\n",
    "        (mat0_0, mat0_1, val0), (mat1_0, mat1_1, val1) = kb_adj_mats[i]\n",
    "        assert len(val0) == len(val1)\n",
    "        num_fact = len(val0)\n",
    "        num_keep_fact = int(np.floor(num_fact * (1 - fact_dropout)))\n",
    "        mask_index = np.random.permutation(num_fact)[ : num_keep_fact]\n",
    "        # mat0\n",
    "        mats0_batch = np.append(mats0_batch, np.full(len(mask_index), i, dtype=int))\n",
    "        mats0_0 = np.append(mats0_0, mat0_0[mask_index])\n",
    "        mats0_1 = np.append(mats0_1, mat0_1[mask_index])\n",
    "        vals0 = np.append(vals0, val0[mask_index])\n",
    "        # mat1\n",
    "        mats1_batch = np.append(mats1_batch, np.full(len(mask_index), i, dtype=int))\n",
    "        mats1_0 = np.append(mats1_0, mat1_0[mask_index])\n",
    "        mats1_1 = np.append(mats1_1, mat1_1[mask_index])\n",
    "        vals1 = np.append(vals1, val1[mask_index])\n",
    "\n",
    "    return (mats0_batch, mats0_0, mats0_1, vals0), (mats1_batch, mats1_0, mats1_1, vals1)"
   ]
  },
  {
   "cell_type": "markdown",
   "metadata": {
    "id": "RE6yA-kXrJhr"
   },
   "source": [
    "# Generating"
   ]
  },
  {
   "cell_type": "code",
   "execution_count": 7,
   "metadata": {
    "executionInfo": {
     "elapsed": 342,
     "status": "ok",
     "timestamp": 1713337075255,
     "user": {
      "displayName": "Yoonhyuck Woo",
      "userId": "02824016300247564870"
     },
     "user_tz": 240
    },
    "id": "LH3SVLXRhgi7"
   },
   "outputs": [],
   "source": [
    "csk_triples, csk_entities, kb_dict = [], [], []\n",
    "dict_csk_entities, dict_csk_triples = {}, {}\n",
    "class Config():\n",
    "  def __init__(self, path):\n",
    "    self.config_path = path\n",
    "    self._get_config()\n",
    "\n",
    "  def _get_config(self):\n",
    "    with open(self.config_path, \"r\") as setting:\n",
    "      config = yaml.load(setting,Loader=yaml.FullLoader)\n",
    "    self.is_train = config['is_train']\n",
    "    self.test_model_path = config['test_model_path']\n",
    "    self.embed_units = config['embed_units']\n",
    "    self.symbols = config['symbols']\n",
    "    self.units = config['units']\n",
    "    self.layers = config['layers']\n",
    "    self.batch_size = config['batch_size']\n",
    "    self.data_dir = config['data_dir']\n",
    "    self.num_epoch = config['num_epoch']\n",
    "    self.lr_rate = config['lr_rate']\n",
    "    self.lstm_dropout = config['lstm_dropout']\n",
    "    self.linear_dropout = config['linear_dropout']\n",
    "    self.max_gradient_norm = config['max_gradient_norm']\n",
    "    self.trans_units = config['trans_units']\n",
    "    self.gnn_layers = config['gnn_layers']\n",
    "    self.fact_dropout = config['fact_dropout']\n",
    "    self.fact_scale = config['fact_scale']\n",
    "    self.pagerank_lambda = config['pagerank_lambda']\n",
    "    self.result_dir_name = config['result_dir_name']\n",
    "    self.generated_path = config['generated_path']\n",
    "\n",
    "  def list_all_member(self):\n",
    "    for name, value in vars(self).items():\n",
    "        print('%s = %s' % (name, value))\n",
    "\n",
    "\n",
    "def run(model, data_train, config, word2id, entity2id):\n",
    "    batched_data = gen_batched_data(data_train, config, word2id, entity2id)\n",
    "    if model.is_inference == True:\n",
    "        word_index, selector = model(batched_data)\n",
    "        return word_index, selector\n",
    "    else:\n",
    "        decoder_loss, sentence_ppx, sentence_ppx_word, sentence_ppx_local, sentence_ppx_only_two, word_neg_num, local_neg_num, only_two_neg_num = model(batched_data)\n",
    "        return decoder_loss, sentence_ppx, sentence_ppx_word, sentence_ppx_local, sentence_ppx_only_two, word_neg_num, local_neg_num, only_two_neg_num\n",
    "\n",
    "\n",
    "def generate(model, data_test, config, word2id, entity2id, epoch = 0, model_path = None):\n",
    "  if model_path != None:\n",
    "      model.load_state_dict(torch.load(model_path,map_location=torch.device('cpu')))\n",
    "\n",
    "  count = 0\n",
    "  model.is_inference = True\n",
    "  id2word = dict()\n",
    "  for key in word2id.keys():\n",
    "      id2word[word2id[key]] = key\n",
    "\n",
    "  def write_batch_res_text(word_index, id2word, selector = None):\n",
    "      w = open(config.generated_path + '/generated_res_Scr.txt', 'a')\n",
    "      batch_size = len(word_index)\n",
    "      decoder_len = len(word_index[0])\n",
    "      text = []\n",
    "      if selector != None:\n",
    "          for i in range(batch_size):\n",
    "              tmp_dict = dict()\n",
    "              tmp = []\n",
    "              for j in range(decoder_len):\n",
    "                  if word_index[i][j] == 2:\n",
    "                      break\n",
    "                  tmp.append(id2word[word_index[i][j]])\n",
    "              # print(tmp)\n",
    "              tmp_dict['res_text'] = tmp\n",
    "              local_tmp = []\n",
    "              only_two_tmp = []\n",
    "              for j in range(len(tmp)):\n",
    "                  if selector[i][j] == 1:\n",
    "                      local_tmp.append(tmp[j])\n",
    "                  if selector[i][j] == 2:\n",
    "                      only_two_tmp.append(tmp[j])\n",
    "              tmp_dict['local'] = local_tmp\n",
    "              tmp_dict['only_two'] = only_two_tmp\n",
    "              text.append(tmp_dict)\n",
    "\n",
    "      w.write(json.dumps(model_path+ '\\n'))\n",
    "      for line in text:\n",
    "          print(line)\n",
    "          w.write(json.dumps(line) + '\\n')\n",
    "      w.close()\n",
    "\n",
    "  for iteration in range(len(data_test)):\n",
    "    word_index, selector = run(model, data_test[(iteration * config.batch_size):(iteration * \\\n",
    "          config.batch_size + config.batch_size)], config, word2id, entity2id)\n",
    "\n",
    "    if count % 50 == 0:\n",
    "        print (\"generate:\", iteration)\n",
    "    count += 1\n",
    "    write_batch_res_text(word_index, id2word, selector=selector)\n",
    "\n",
    "\n",
    "def main():\n",
    "  config = Config('/content/drive/MyDrive/Commit_colab/PURDUE-2024-SPRING/CS592 HAI/Project/config.yml')\n",
    "  config.list_all_member()\n",
    "  raw_vocab, _, data_test = prepare_data(config)\n",
    "  word2id, entity2id, vocab, embed, entity_vocab, entity_embed, relation_vocab, relation_embed, entity_relation_embed = build_vocab(config.data_dir, raw_vocab, config = config)\n",
    "  model = use_cuda(ConceptFlow(config, embed, entity_relation_embed))\n",
    "\n",
    "  model_optimizer = torch.optim.Adam(model.parameters(), lr = config.lr_rate)\n",
    "\n",
    "  if not os.path.exists(config.generated_path):\n",
    "      os.mkdir(config.generated_path)\n",
    "\n",
    "  generate(model, data_test, config, word2id, entity2id, model_path=config.test_model_path)"
   ]
  },
  {
   "cell_type": "code",
   "execution_count": 27,
   "metadata": {
    "colab": {
     "base_uri": "https://localhost:8080/",
     "height": 36
    },
    "executionInfo": {
     "elapsed": 175,
     "status": "ok",
     "timestamp": 1713335677369,
     "user": {
      "displayName": "Yoonhyuck Woo",
      "userId": "02824016300247564870"
     },
     "user_tz": 240
    },
    "id": "Xt6MESz2w0tg",
    "outputId": "3d7f6eef-a51c-4b58-e21d-431854cb43b9"
   },
   "outputs": [
    {
     "data": {
      "application/vnd.google.colaboratory.intrinsic+json": {
       "type": "string"
      },
      "text/plain": [
       "'/content/drive/MyDrive/Commit_colab/PURDUE-2024-SPRING/CS592 HAI/Project/config.yml'"
      ]
     },
     "execution_count": 27,
     "metadata": {},
     "output_type": "execute_result"
    }
   ],
   "source": [
    "os.path.realpath('/content/drive/MyDrive/Commit_colab/PURDUE-2024-SPRING/CS592 HAI/Project/config.yml')"
   ]
  },
  {
   "cell_type": "code",
   "execution_count": 8,
   "metadata": {
    "colab": {
     "base_uri": "https://localhost:8080/",
     "height": 1000
    },
    "executionInfo": {
     "elapsed": 54867,
     "status": "error",
     "timestamp": 1713337133052,
     "user": {
      "displayName": "Yoonhyuck Woo",
      "userId": "02824016300247564870"
     },
     "user_tz": 240
    },
    "id": "GH850HdUhgp_",
    "outputId": "017076ab-ac85-494e-8173-0fc96ba79baa"
   },
   "outputs": [
    {
     "name": "stdout",
     "output_type": "stream",
     "text": [
      "config_path = /content/drive/MyDrive/Commit_colab/PURDUE-2024-SPRING/CS592 HAI/Project/config.yml\n",
      "is_train = False\n",
      "test_model_path = /content/drive/MyDrive/Commit_colab/PURDUE-2024-SPRING/CS592 HAI/Project/training_output/_epoch_4.pkl\n",
      "embed_units = 300\n",
      "symbols = 30000\n",
      "units = 512\n",
      "layers = 2\n",
      "batch_size = 30\n",
      "data_dir = /content/drive/MyDrive/Colab Notebooks/ConceptFlow(ECCF)_data\n",
      "num_epoch = 5\n",
      "lr_rate = 0.0001\n",
      "lstm_dropout = 0.3\n",
      "linear_dropout = 0.2\n",
      "max_gradient_norm = 5\n",
      "trans_units = 100\n",
      "gnn_layers = 3\n",
      "fact_dropout = 0.0\n",
      "fact_scale = 1\n",
      "pagerank_lambda = 0.8\n",
      "result_dir_name = /content/drive/MyDrive/Commit_colab/PURDUE-2024-SPRING/CS592 HAI/Project/training_output\n",
      "generated_path = /content/drive/MyDrive/Commit_colab/PURDUE-2024-SPRING/CS592 HAI/Project/inference_output\n",
      "Creating word vocabulary...\n",
      "Creating entity vocabulary...\n",
      "Creating relation vocabulary...\n",
      "Loading word vectors...\n",
      "    processing line 0\n",
      "    processing line 100000\n",
      "    processing line 200000\n",
      "    processing line 300000\n",
      "    processing line 400000\n",
      "    processing line 500000\n",
      "    processing line 600000\n",
      "    processing line 700000\n",
      "    processing line 800000\n",
      "    processing line 900000\n",
      "    processing line 1000000\n",
      "    processing line 1100000\n",
      "    processing line 1200000\n",
      "    processing line 1300000\n",
      "    processing line 1400000\n",
      "    processing line 1500000\n",
      "    processing line 1600000\n",
      "Loading entity vectors...\n",
      "Loading relation vectors...\n",
      "generate: 0\n",
      "{'res_text': ['i', 'do', \"n't\", 'know', 'if', 'i', \"'m\", 'wearing', 'this', '.'], 'local': ['wearing'], 'only_two': []}\n",
      "{'res_text': ['i', \"'ll\", 'shake', 'my', 'ass'], 'local': ['shake', 'ass'], 'only_two': []}\n"
     ]
    },
    {
     "ename": "ValueError",
     "evalue": "max() arg is an empty sequence",
     "output_type": "error",
     "traceback": [
      "\u001b[0;31m---------------------------------------------------------------------------\u001b[0m",
      "\u001b[0;31mValueError\u001b[0m                                Traceback (most recent call last)",
      "\u001b[0;32m<ipython-input-8-263240bbee7e>\u001b[0m in \u001b[0;36m<cell line: 1>\u001b[0;34m()\u001b[0m\n\u001b[0;32m----> 1\u001b[0;31m \u001b[0mmain\u001b[0m\u001b[0;34m(\u001b[0m\u001b[0;34m)\u001b[0m\u001b[0;34m\u001b[0m\u001b[0;34m\u001b[0m\u001b[0m\n\u001b[0m",
      "\u001b[0;32m<ipython-input-7-86ed81c010d4>\u001b[0m in \u001b[0;36mmain\u001b[0;34m()\u001b[0m\n\u001b[1;32m    112\u001b[0m       \u001b[0mos\u001b[0m\u001b[0;34m.\u001b[0m\u001b[0mmkdir\u001b[0m\u001b[0;34m(\u001b[0m\u001b[0mconfig\u001b[0m\u001b[0;34m.\u001b[0m\u001b[0mgenerated_path\u001b[0m\u001b[0;34m)\u001b[0m\u001b[0;34m\u001b[0m\u001b[0;34m\u001b[0m\u001b[0m\n\u001b[1;32m    113\u001b[0m \u001b[0;34m\u001b[0m\u001b[0m\n\u001b[0;32m--> 114\u001b[0;31m   \u001b[0mgenerate\u001b[0m\u001b[0;34m(\u001b[0m\u001b[0mmodel\u001b[0m\u001b[0;34m,\u001b[0m \u001b[0mdata_test\u001b[0m\u001b[0;34m,\u001b[0m \u001b[0mconfig\u001b[0m\u001b[0;34m,\u001b[0m \u001b[0mword2id\u001b[0m\u001b[0;34m,\u001b[0m \u001b[0mentity2id\u001b[0m\u001b[0;34m,\u001b[0m \u001b[0mmodel_path\u001b[0m\u001b[0;34m=\u001b[0m\u001b[0mconfig\u001b[0m\u001b[0;34m.\u001b[0m\u001b[0mtest_model_path\u001b[0m\u001b[0;34m)\u001b[0m\u001b[0;34m\u001b[0m\u001b[0;34m\u001b[0m\u001b[0m\n\u001b[0m",
      "\u001b[0;32m<ipython-input-7-86ed81c010d4>\u001b[0m in \u001b[0;36mgenerate\u001b[0;34m(model, data_test, config, word2id, entity2id, epoch, model_path)\u001b[0m\n\u001b[1;32m     91\u001b[0m   \u001b[0;31m# for iteration in range(len(data_test) // config.batch_size):\u001b[0m\u001b[0;34m\u001b[0m\u001b[0;34m\u001b[0m\u001b[0m\n\u001b[1;32m     92\u001b[0m \u001b[0;34m\u001b[0m\u001b[0m\n\u001b[0;32m---> 93\u001b[0;31m       word_index, selector = run(model, data_test[(iteration * config.batch_size):(iteration * \\\n\u001b[0m\u001b[1;32m     94\u001b[0m           config.batch_size + config.batch_size)], config, word2id, entity2id)\n\u001b[1;32m     95\u001b[0m \u001b[0;34m\u001b[0m\u001b[0m\n",
      "\u001b[0;32m<ipython-input-7-86ed81c010d4>\u001b[0m in \u001b[0;36mrun\u001b[0;34m(model, data_train, config, word2id, entity2id)\u001b[0m\n\u001b[1;32m     36\u001b[0m \u001b[0;34m\u001b[0m\u001b[0m\n\u001b[1;32m     37\u001b[0m \u001b[0;32mdef\u001b[0m \u001b[0mrun\u001b[0m\u001b[0;34m(\u001b[0m\u001b[0mmodel\u001b[0m\u001b[0;34m,\u001b[0m \u001b[0mdata_train\u001b[0m\u001b[0;34m,\u001b[0m \u001b[0mconfig\u001b[0m\u001b[0;34m,\u001b[0m \u001b[0mword2id\u001b[0m\u001b[0;34m,\u001b[0m \u001b[0mentity2id\u001b[0m\u001b[0;34m)\u001b[0m\u001b[0;34m:\u001b[0m\u001b[0;34m\u001b[0m\u001b[0;34m\u001b[0m\u001b[0m\n\u001b[0;32m---> 38\u001b[0;31m   \u001b[0mbatched_data\u001b[0m \u001b[0;34m=\u001b[0m \u001b[0mgen_batched_data\u001b[0m\u001b[0;34m(\u001b[0m\u001b[0mdata_train\u001b[0m\u001b[0;34m,\u001b[0m \u001b[0mconfig\u001b[0m\u001b[0;34m,\u001b[0m \u001b[0mword2id\u001b[0m\u001b[0;34m,\u001b[0m \u001b[0mentity2id\u001b[0m\u001b[0;34m)\u001b[0m\u001b[0;34m\u001b[0m\u001b[0;34m\u001b[0m\u001b[0m\n\u001b[0m\u001b[1;32m     39\u001b[0m \u001b[0;34m\u001b[0m\u001b[0m\n\u001b[1;32m     40\u001b[0m   \u001b[0;32mif\u001b[0m \u001b[0mmodel\u001b[0m\u001b[0;34m.\u001b[0m\u001b[0mis_inference\u001b[0m \u001b[0;34m==\u001b[0m \u001b[0;32mTrue\u001b[0m\u001b[0;34m:\u001b[0m\u001b[0;34m\u001b[0m\u001b[0;34m\u001b[0m\u001b[0m\n",
      "\u001b[0;32m<ipython-input-5-7835ad0550cd>\u001b[0m in \u001b[0;36mgen_batched_data\u001b[0;34m(data, config, word2id, entity2id)\u001b[0m\n\u001b[1;32m    100\u001b[0m     \u001b[0;32mglobal\u001b[0m \u001b[0mcsk_entities\u001b[0m\u001b[0;34m,\u001b[0m \u001b[0mcsk_triples\u001b[0m\u001b[0;34m,\u001b[0m \u001b[0mkb_dict\u001b[0m\u001b[0;34m,\u001b[0m \u001b[0mdict_csk_entities\u001b[0m\u001b[0;34m,\u001b[0m \u001b[0mdict_csk_triples\u001b[0m\u001b[0;34m\u001b[0m\u001b[0;34m\u001b[0m\u001b[0m\n\u001b[1;32m    101\u001b[0m \u001b[0;34m\u001b[0m\u001b[0m\n\u001b[0;32m--> 102\u001b[0;31m     \u001b[0mencoder_len\u001b[0m \u001b[0;34m=\u001b[0m \u001b[0mmax\u001b[0m\u001b[0;34m(\u001b[0m\u001b[0;34m[\u001b[0m\u001b[0mlen\u001b[0m\u001b[0;34m(\u001b[0m\u001b[0mitem\u001b[0m\u001b[0;34m[\u001b[0m\u001b[0;34m'post'\u001b[0m\u001b[0;34m]\u001b[0m\u001b[0;34m)\u001b[0m \u001b[0;32mfor\u001b[0m \u001b[0mitem\u001b[0m \u001b[0;32min\u001b[0m \u001b[0mdata\u001b[0m\u001b[0;34m]\u001b[0m\u001b[0;34m)\u001b[0m\u001b[0;34m+\u001b[0m\u001b[0;36m1\u001b[0m\u001b[0;34m\u001b[0m\u001b[0;34m\u001b[0m\u001b[0m\n\u001b[0m\u001b[1;32m    103\u001b[0m \u001b[0;34m\u001b[0m\u001b[0m\n\u001b[1;32m    104\u001b[0m     \u001b[0mdecoder_len\u001b[0m \u001b[0;34m=\u001b[0m \u001b[0mmax\u001b[0m\u001b[0;34m(\u001b[0m\u001b[0;34m[\u001b[0m\u001b[0mlen\u001b[0m\u001b[0;34m(\u001b[0m\u001b[0mitem\u001b[0m\u001b[0;34m[\u001b[0m\u001b[0;34m'response'\u001b[0m\u001b[0;34m]\u001b[0m\u001b[0;34m)\u001b[0m \u001b[0;32mfor\u001b[0m \u001b[0mitem\u001b[0m \u001b[0;32min\u001b[0m \u001b[0mdata\u001b[0m\u001b[0;34m]\u001b[0m\u001b[0;34m)\u001b[0m\u001b[0;34m+\u001b[0m\u001b[0;36m1\u001b[0m\u001b[0;34m\u001b[0m\u001b[0;34m\u001b[0m\u001b[0m\n",
      "\u001b[0;31mValueError\u001b[0m: max() arg is an empty sequence"
     ]
    }
   ],
   "source": [
    "main()"
   ]
  },
  {
   "cell_type": "code",
   "execution_count": null,
   "metadata": {
    "id": "vxoVGUzyvJRD"
   },
   "outputs": [],
   "source": []
  }
 ],
 "metadata": {
  "accelerator": "GPU",
  "colab": {
   "authorship_tag": "ABX9TyNEdTDQKImWv3G/elEQrVZp",
   "gpuType": "L4",
   "machine_shape": "hm",
   "mount_file_id": "1Psy_6BF-POj9vN3vC27yL_XoZNDrch1Z",
   "provenance": []
  },
  "kernelspec": {
   "display_name": "Python 3",
   "language": "python",
   "name": "python3"
  },
  "language_info": {
   "codemirror_mode": {
    "name": "ipython",
    "version": 3
   },
   "file_extension": ".py",
   "mimetype": "text/x-python",
   "name": "python",
   "nbconvert_exporter": "python",
   "pygments_lexer": "ipython3",
   "version": "3.8.8"
  }
 },
 "nbformat": 4,
 "nbformat_minor": 4
}
