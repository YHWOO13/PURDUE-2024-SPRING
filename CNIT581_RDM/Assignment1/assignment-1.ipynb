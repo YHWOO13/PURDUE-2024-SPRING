{
 "cells": [
  {
   "cell_type": "markdown",
   "metadata": {
    "id": "355LmyCRd_sZ"
   },
   "source": [
    "# Yoonhyuck WOO / Purdue University_Computer and Information Technology\n",
    "# Assignment 1: Supervised Learning Tasks\n",
    "# Professor: Dr. Pradhan\n",
    "\n",
    "## Date: 1.19 - 5:00pm 2/2/2024 (EST)\n",
    "\n",
    "In the lecture, we briefly discussed supervised and unsupervised learning in the context of machine learning. In this assignment, we will go through binary classification tasks on one of the most popular datasets in the fairness in machine learning literature.\n",
    "\n",
    "We will:\n",
    "1. Import the data, implement a few pre-processing steps, and inspect the data\n",
    "2. Run a short exploratory analysis of the target variable\n",
    "3. Train a binary classifier and evaluate the classifier using the predicted labels"
   ]
  },
  {
   "cell_type": "markdown",
   "metadata": {
    "id": "pdeHvX_6woJg"
   },
   "source": [
    "# Packages and Modules"
   ]
  },
  {
   "cell_type": "markdown",
   "metadata": {
    "id": "lI_-xUcTnhv3"
   },
   "source": [
    "You may need to install the following packages:\n",
    "\n",
    "\n"
   ]
  },
  {
   "cell_type": "code",
   "execution_count": 1,
   "metadata": {
    "collapsed": true,
    "jupyter": {
     "outputs_hidden": true
    },
    "tags": []
   },
   "outputs": [
    {
     "name": "stdout",
     "output_type": "stream",
     "text": [
      "Requirement already satisfied: pandas in c:\\users\\lg\\anaconda3\\lib\\site-packages (1.4.1)\n",
      "Requirement already satisfied: numpy in c:\\users\\lg\\anaconda3\\lib\\site-packages (1.20.1)\n",
      "Requirement already satisfied: statsmodels in c:\\users\\lg\\anaconda3\\lib\\site-packages (0.12.2)\n",
      "Requirement already satisfied: matplotlib in c:\\users\\lg\\anaconda3\\lib\\site-packages (3.3.4)\n",
      "Requirement already satisfied: seaborn in c:\\users\\lg\\anaconda3\\lib\\site-packages (0.11.1)\n",
      "Requirement already satisfied: pillow>=6.2.0 in c:\\users\\lg\\anaconda3\\lib\\site-packages (from matplotlib) (8.2.0)\n",
      "Requirement already satisfied: kiwisolver>=1.0.1 in c:\\users\\lg\\anaconda3\\lib\\site-packages (from matplotlib) (1.3.1)\n",
      "Requirement already satisfied: cycler>=0.10 in c:\\users\\lg\\anaconda3\\lib\\site-packages (from matplotlib) (0.10.0)\n",
      "Requirement already satisfied: python-dateutil>=2.1 in c:\\users\\lg\\anaconda3\\lib\\site-packages (from matplotlib) (2.8.1)\n",
      "Requirement already satisfied: pyparsing!=2.0.4,!=2.1.2,!=2.1.6,>=2.0.3 in c:\\users\\lg\\anaconda3\\lib\\site-packages (from matplotlib) (2.4.7)\n",
      "Requirement already satisfied: six in c:\\users\\lg\\anaconda3\\lib\\site-packages (from cycler>=0.10->matplotlib) (1.15.0)\n",
      "Requirement already satisfied: pytz>=2020.1 in c:\\users\\lg\\anaconda3\\lib\\site-packages (from pandas) (2021.1)\n",
      "Requirement already satisfied: scipy>=1.0 in c:\\users\\lg\\anaconda3\\lib\\site-packages (from seaborn) (1.10.1)\n",
      "Requirement already satisfied: patsy>=0.5 in c:\\users\\lg\\anaconda3\\lib\\site-packages (from statsmodels) (0.5.1)\n",
      "Note: you may need to restart the kernel to use updated packages.\n"
     ]
    }
   ],
   "source": [
    "%pip install pandas numpy statsmodels matplotlib seaborn"
   ]
  },
  {
   "cell_type": "markdown",
   "metadata": {
    "id": "UmvEsKCOTIV-"
   },
   "source": [
    "Import the packages and modules:\n"
   ]
  },
  {
   "cell_type": "code",
   "execution_count": 376,
   "metadata": {},
   "outputs": [],
   "source": [
    "import math\n",
    "import pandas as pd\n",
    "import numpy as np\n",
    "import statsmodels.api as sm\n",
    "import matplotlib\n",
    "import matplotlib.pyplot as plt\n",
    "import seaborn as sns\n",
    "\n",
    "%matplotlib inline\n",
    "\n",
    "import sklearn\n",
    "import sklearn.model_selection\n",
    "import sklearn.metrics\n",
    "import sklearn.datasets\n",
    "import sklearn.ensemble\n",
    "import sklearn.preprocessing\n",
    "from sklearn.compose import ColumnTransformer\n",
    "from sklearn.preprocessing import OneHotEncoder\n",
    "from sklearn.linear_model import LogisticRegression\n",
    "from sklearn.preprocessing import StandardScaler\n",
    "from sklearn.metrics import accuracy_score, roc_auc_score, confusion_matrix, ConfusionMatrixDisplay\n",
    "from sklearn.model_selection import train_test_split, KFold, cross_val_score\n",
    "\n",
    "from IPython.display import Markdown, display, Image\n",
    "import matplotlib.pyplot as plt\n",
    "import warnings\n",
    "\n",
    "from IPython.core.display import HTML \n",
    "import operator\n",
    "from collections import defaultdict\n",
    "\n",
    "import json\n",
    "from collections import OrderedDict\n",
    "\n",
    "import numpy as np\n",
    "import pandas as pd\n",
    "\n",
    "np.random.seed(1)"
   ]
  },
  {
   "cell_type": "markdown",
   "metadata": {
    "id": "qJDFA9XSwdMi"
   },
   "source": [
    "### Step 1: Load Data\n",
    "\n",
    "For this assignment, we will work with the German Credit dataset which has been provided with this notebook (the dataset can also be downloaded from the UCI ML repository). The dataset has demographic and financial information for about 1,000 individuals, and \n",
    "\n",
    "## **the task for this dataset is to predict whether an individual is a good credit risk or a bad credit risk**. \n",
    "\n",
    "More information about the dataset can be found here:\n",
    "https://archive.ics.uci.edu/dataset/144/statlog+german+credit+data.\n",
    "\n",
    "Load the dataset and check the first few rows:"
   ]
  },
  {
   "cell_type": "code",
   "execution_count": 240,
   "metadata": {},
   "outputs": [
    {
     "name": "stdout",
     "output_type": "stream",
     "text": [
      "Shape:  (1000, 21)\n"
     ]
    },
    {
     "data": {
      "text/html": [
       "<div>\n",
       "<style scoped>\n",
       "    .dataframe tbody tr th:only-of-type {\n",
       "        vertical-align: middle;\n",
       "    }\n",
       "\n",
       "    .dataframe tbody tr th {\n",
       "        vertical-align: top;\n",
       "    }\n",
       "\n",
       "    .dataframe thead th {\n",
       "        text-align: right;\n",
       "    }\n",
       "</style>\n",
       "<table border=\"1\" class=\"dataframe\">\n",
       "  <thead>\n",
       "    <tr style=\"text-align: right;\">\n",
       "      <th></th>\n",
       "      <th>status</th>\n",
       "      <th>duration</th>\n",
       "      <th>credit_hist</th>\n",
       "      <th>purpose</th>\n",
       "      <th>credit_amt</th>\n",
       "      <th>savings</th>\n",
       "      <th>employment</th>\n",
       "      <th>install_rate</th>\n",
       "      <th>personal_status</th>\n",
       "      <th>debtors</th>\n",
       "      <th>...</th>\n",
       "      <th>property</th>\n",
       "      <th>age</th>\n",
       "      <th>install_plans</th>\n",
       "      <th>housing</th>\n",
       "      <th>num_credits</th>\n",
       "      <th>job</th>\n",
       "      <th>num_liable</th>\n",
       "      <th>telephone</th>\n",
       "      <th>foreign_worker</th>\n",
       "      <th>credit</th>\n",
       "    </tr>\n",
       "  </thead>\n",
       "  <tbody>\n",
       "    <tr>\n",
       "      <th>0</th>\n",
       "      <td>A11</td>\n",
       "      <td>6</td>\n",
       "      <td>A34</td>\n",
       "      <td>A43</td>\n",
       "      <td>1169</td>\n",
       "      <td>A65</td>\n",
       "      <td>A75</td>\n",
       "      <td>4</td>\n",
       "      <td>A93</td>\n",
       "      <td>A101</td>\n",
       "      <td>...</td>\n",
       "      <td>A121</td>\n",
       "      <td>67</td>\n",
       "      <td>A143</td>\n",
       "      <td>A152</td>\n",
       "      <td>2</td>\n",
       "      <td>A173</td>\n",
       "      <td>1</td>\n",
       "      <td>A192</td>\n",
       "      <td>A201</td>\n",
       "      <td>1</td>\n",
       "    </tr>\n",
       "    <tr>\n",
       "      <th>1</th>\n",
       "      <td>A12</td>\n",
       "      <td>48</td>\n",
       "      <td>A32</td>\n",
       "      <td>A43</td>\n",
       "      <td>5951</td>\n",
       "      <td>A61</td>\n",
       "      <td>A73</td>\n",
       "      <td>2</td>\n",
       "      <td>A92</td>\n",
       "      <td>A101</td>\n",
       "      <td>...</td>\n",
       "      <td>A121</td>\n",
       "      <td>22</td>\n",
       "      <td>A143</td>\n",
       "      <td>A152</td>\n",
       "      <td>1</td>\n",
       "      <td>A173</td>\n",
       "      <td>1</td>\n",
       "      <td>A191</td>\n",
       "      <td>A201</td>\n",
       "      <td>2</td>\n",
       "    </tr>\n",
       "    <tr>\n",
       "      <th>2</th>\n",
       "      <td>A14</td>\n",
       "      <td>12</td>\n",
       "      <td>A34</td>\n",
       "      <td>A46</td>\n",
       "      <td>2096</td>\n",
       "      <td>A61</td>\n",
       "      <td>A74</td>\n",
       "      <td>2</td>\n",
       "      <td>A93</td>\n",
       "      <td>A101</td>\n",
       "      <td>...</td>\n",
       "      <td>A121</td>\n",
       "      <td>49</td>\n",
       "      <td>A143</td>\n",
       "      <td>A152</td>\n",
       "      <td>1</td>\n",
       "      <td>A172</td>\n",
       "      <td>2</td>\n",
       "      <td>A191</td>\n",
       "      <td>A201</td>\n",
       "      <td>1</td>\n",
       "    </tr>\n",
       "    <tr>\n",
       "      <th>3</th>\n",
       "      <td>A11</td>\n",
       "      <td>42</td>\n",
       "      <td>A32</td>\n",
       "      <td>A42</td>\n",
       "      <td>7882</td>\n",
       "      <td>A61</td>\n",
       "      <td>A74</td>\n",
       "      <td>2</td>\n",
       "      <td>A93</td>\n",
       "      <td>A103</td>\n",
       "      <td>...</td>\n",
       "      <td>A122</td>\n",
       "      <td>45</td>\n",
       "      <td>A143</td>\n",
       "      <td>A153</td>\n",
       "      <td>1</td>\n",
       "      <td>A173</td>\n",
       "      <td>2</td>\n",
       "      <td>A191</td>\n",
       "      <td>A201</td>\n",
       "      <td>1</td>\n",
       "    </tr>\n",
       "    <tr>\n",
       "      <th>4</th>\n",
       "      <td>A11</td>\n",
       "      <td>24</td>\n",
       "      <td>A33</td>\n",
       "      <td>A40</td>\n",
       "      <td>4870</td>\n",
       "      <td>A61</td>\n",
       "      <td>A73</td>\n",
       "      <td>3</td>\n",
       "      <td>A93</td>\n",
       "      <td>A101</td>\n",
       "      <td>...</td>\n",
       "      <td>A124</td>\n",
       "      <td>53</td>\n",
       "      <td>A143</td>\n",
       "      <td>A153</td>\n",
       "      <td>2</td>\n",
       "      <td>A173</td>\n",
       "      <td>2</td>\n",
       "      <td>A191</td>\n",
       "      <td>A201</td>\n",
       "      <td>2</td>\n",
       "    </tr>\n",
       "  </tbody>\n",
       "</table>\n",
       "<p>5 rows × 21 columns</p>\n",
       "</div>"
      ],
      "text/plain": [
       "  status  duration credit_hist purpose  credit_amt savings employment  \\\n",
       "0    A11         6         A34     A43        1169     A65        A75   \n",
       "1    A12        48         A32     A43        5951     A61        A73   \n",
       "2    A14        12         A34     A46        2096     A61        A74   \n",
       "3    A11        42         A32     A42        7882     A61        A74   \n",
       "4    A11        24         A33     A40        4870     A61        A73   \n",
       "\n",
       "   install_rate personal_status debtors  ...  property age  install_plans  \\\n",
       "0             4             A93    A101  ...      A121  67           A143   \n",
       "1             2             A92    A101  ...      A121  22           A143   \n",
       "2             2             A93    A101  ...      A121  49           A143   \n",
       "3             2             A93    A103  ...      A122  45           A143   \n",
       "4             3             A93    A101  ...      A124  53           A143   \n",
       "\n",
       "  housing num_credits   job num_liable  telephone foreign_worker credit  \n",
       "0    A152           2  A173          1       A192           A201      1  \n",
       "1    A152           1  A173          1       A191           A201      2  \n",
       "2    A152           1  A172          2       A191           A201      1  \n",
       "3    A153           1  A173          2       A191           A201      1  \n",
       "4    A153           2  A173          2       A191           A201      2  \n",
       "\n",
       "[5 rows x 21 columns]"
      ]
     },
     "execution_count": 240,
     "metadata": {},
     "output_type": "execute_result"
    }
   ],
   "source": [
    "cols = ['status', 'duration', 'credit_hist', 'purpose', 'credit_amt', 'savings', 'employment',\\\n",
    "            'install_rate', 'personal_status', 'debtors', 'residence', 'property', 'age', 'install_plans',\\\n",
    "            'housing', 'num_credits', 'job', 'num_liable', 'telephone', 'foreign_worker', 'credit']\n",
    "\n",
    "data_df = pd.read_table('D:\\DOWNLOAD\\statlog+german+credit+data/german.data', names=cols, sep=\" \", index_col=False)\n",
    "y = data_df['credit']\n",
    "\n",
    "print(\"Shape: \", data_df.shape)\n",
    "data_df.head(5)"
   ]
  },
  {
   "cell_type": "markdown",
   "metadata": {},
   "source": [
    "### Step 2: Data preprocessing\n",
    "\n",
    "For our analysis, we will preprocess the dataset to get additional columns and bucketize some columns with numeric data. In particular, we will do the following:\n",
    "1. Create a new column \"sex\" that is derived from the column \"personal_status\". From the \"personal_status\" column, two values of sex can be derived: male and female (refer the data definition in the UCI ML repository to enumerate the column values of this column). Append the new column to the dataframe created above.\n",
    "2. Bucketize (or, discretize) the \"age\" column according to a chosen threshold (say, 45). For individuals with age greater than or equal to the threshold, replace the value with \"old\", and those with age less than the threshold will have the value \"young\"."
   ]
  },
  {
   "cell_type": "code",
   "execution_count": 241,
   "metadata": {
    "tags": []
   },
   "outputs": [
    {
     "data": {
      "text/html": [
       "<div>\n",
       "<style scoped>\n",
       "    .dataframe tbody tr th:only-of-type {\n",
       "        vertical-align: middle;\n",
       "    }\n",
       "\n",
       "    .dataframe tbody tr th {\n",
       "        vertical-align: top;\n",
       "    }\n",
       "\n",
       "    .dataframe thead th {\n",
       "        text-align: right;\n",
       "    }\n",
       "</style>\n",
       "<table border=\"1\" class=\"dataframe\">\n",
       "  <thead>\n",
       "    <tr style=\"text-align: right;\">\n",
       "      <th></th>\n",
       "      <th>status</th>\n",
       "      <th>duration</th>\n",
       "      <th>credit_hist</th>\n",
       "      <th>purpose</th>\n",
       "      <th>credit_amt</th>\n",
       "      <th>savings</th>\n",
       "      <th>employment</th>\n",
       "      <th>install_rate</th>\n",
       "      <th>personal_status</th>\n",
       "      <th>sex</th>\n",
       "      <th>...</th>\n",
       "      <th>property</th>\n",
       "      <th>age</th>\n",
       "      <th>install_plans</th>\n",
       "      <th>housing</th>\n",
       "      <th>num_credits</th>\n",
       "      <th>job</th>\n",
       "      <th>num_liable</th>\n",
       "      <th>telephone</th>\n",
       "      <th>foreign_worker</th>\n",
       "      <th>credit</th>\n",
       "    </tr>\n",
       "  </thead>\n",
       "  <tbody>\n",
       "    <tr>\n",
       "      <th>0</th>\n",
       "      <td>A11</td>\n",
       "      <td>6</td>\n",
       "      <td>A34</td>\n",
       "      <td>A43</td>\n",
       "      <td>1169</td>\n",
       "      <td>A65</td>\n",
       "      <td>A75</td>\n",
       "      <td>4</td>\n",
       "      <td>A93</td>\n",
       "      <td>male</td>\n",
       "      <td>...</td>\n",
       "      <td>A121</td>\n",
       "      <td>67</td>\n",
       "      <td>A143</td>\n",
       "      <td>A152</td>\n",
       "      <td>2</td>\n",
       "      <td>A173</td>\n",
       "      <td>1</td>\n",
       "      <td>A192</td>\n",
       "      <td>A201</td>\n",
       "      <td>1</td>\n",
       "    </tr>\n",
       "    <tr>\n",
       "      <th>1</th>\n",
       "      <td>A12</td>\n",
       "      <td>48</td>\n",
       "      <td>A32</td>\n",
       "      <td>A43</td>\n",
       "      <td>5951</td>\n",
       "      <td>A61</td>\n",
       "      <td>A73</td>\n",
       "      <td>2</td>\n",
       "      <td>A92</td>\n",
       "      <td>female</td>\n",
       "      <td>...</td>\n",
       "      <td>A121</td>\n",
       "      <td>22</td>\n",
       "      <td>A143</td>\n",
       "      <td>A152</td>\n",
       "      <td>1</td>\n",
       "      <td>A173</td>\n",
       "      <td>1</td>\n",
       "      <td>A191</td>\n",
       "      <td>A201</td>\n",
       "      <td>2</td>\n",
       "    </tr>\n",
       "    <tr>\n",
       "      <th>2</th>\n",
       "      <td>A14</td>\n",
       "      <td>12</td>\n",
       "      <td>A34</td>\n",
       "      <td>A46</td>\n",
       "      <td>2096</td>\n",
       "      <td>A61</td>\n",
       "      <td>A74</td>\n",
       "      <td>2</td>\n",
       "      <td>A93</td>\n",
       "      <td>male</td>\n",
       "      <td>...</td>\n",
       "      <td>A121</td>\n",
       "      <td>49</td>\n",
       "      <td>A143</td>\n",
       "      <td>A152</td>\n",
       "      <td>1</td>\n",
       "      <td>A172</td>\n",
       "      <td>2</td>\n",
       "      <td>A191</td>\n",
       "      <td>A201</td>\n",
       "      <td>1</td>\n",
       "    </tr>\n",
       "    <tr>\n",
       "      <th>3</th>\n",
       "      <td>A11</td>\n",
       "      <td>42</td>\n",
       "      <td>A32</td>\n",
       "      <td>A42</td>\n",
       "      <td>7882</td>\n",
       "      <td>A61</td>\n",
       "      <td>A74</td>\n",
       "      <td>2</td>\n",
       "      <td>A93</td>\n",
       "      <td>male</td>\n",
       "      <td>...</td>\n",
       "      <td>A122</td>\n",
       "      <td>45</td>\n",
       "      <td>A143</td>\n",
       "      <td>A153</td>\n",
       "      <td>1</td>\n",
       "      <td>A173</td>\n",
       "      <td>2</td>\n",
       "      <td>A191</td>\n",
       "      <td>A201</td>\n",
       "      <td>1</td>\n",
       "    </tr>\n",
       "    <tr>\n",
       "      <th>4</th>\n",
       "      <td>A11</td>\n",
       "      <td>24</td>\n",
       "      <td>A33</td>\n",
       "      <td>A40</td>\n",
       "      <td>4870</td>\n",
       "      <td>A61</td>\n",
       "      <td>A73</td>\n",
       "      <td>3</td>\n",
       "      <td>A93</td>\n",
       "      <td>male</td>\n",
       "      <td>...</td>\n",
       "      <td>A124</td>\n",
       "      <td>53</td>\n",
       "      <td>A143</td>\n",
       "      <td>A153</td>\n",
       "      <td>2</td>\n",
       "      <td>A173</td>\n",
       "      <td>2</td>\n",
       "      <td>A191</td>\n",
       "      <td>A201</td>\n",
       "      <td>2</td>\n",
       "    </tr>\n",
       "  </tbody>\n",
       "</table>\n",
       "<p>5 rows × 22 columns</p>\n",
       "</div>"
      ],
      "text/plain": [
       "  status  duration credit_hist purpose  credit_amt savings employment  \\\n",
       "0    A11         6         A34     A43        1169     A65        A75   \n",
       "1    A12        48         A32     A43        5951     A61        A73   \n",
       "2    A14        12         A34     A46        2096     A61        A74   \n",
       "3    A11        42         A32     A42        7882     A61        A74   \n",
       "4    A11        24         A33     A40        4870     A61        A73   \n",
       "\n",
       "   install_rate personal_status     sex  ... property  age install_plans  \\\n",
       "0             4             A93    male  ...     A121   67          A143   \n",
       "1             2             A92  female  ...     A121   22          A143   \n",
       "2             2             A93    male  ...     A121   49          A143   \n",
       "3             2             A93    male  ...     A122   45          A143   \n",
       "4             3             A93    male  ...     A124   53          A143   \n",
       "\n",
       "   housing num_credits   job  num_liable telephone  foreign_worker credit  \n",
       "0     A152           2  A173           1      A192            A201      1  \n",
       "1     A152           1  A173           1      A191            A201      2  \n",
       "2     A152           1  A172           2      A191            A201      1  \n",
       "3     A153           1  A173           2      A191            A201      1  \n",
       "4     A153           2  A173           2      A191            A201      2  \n",
       "\n",
       "[5 rows x 22 columns]"
      ]
     },
     "execution_count": 241,
     "metadata": {},
     "output_type": "execute_result"
    }
   ],
   "source": [
    "# write code to create the \"sex\" column and append to the dataframe\n",
    "'''\n",
    "A91 : male   : divorced/separated\n",
    "A93 : male   : single\n",
    "A94 : male   : married/widowed\n",
    "\n",
    "A92 : female : divorced/separated/married\n",
    "A95 : female : single\n",
    "'''\n",
    "\n",
    "sex = data_df['personal_status']\n",
    "\n",
    "sex_list = data_df['personal_status'].tolist() \n",
    "\n",
    "new_sex_list = []\n",
    "for i in range(len(sex_list)):\n",
    "    if sex_list[i] in (\"A91\", \"A93\", \"A94\"): \n",
    "        i = 'male'\n",
    "        new_sex_list.append(i)\n",
    "    else:\n",
    "        i = 'female'\n",
    "        new_sex_list.append(i)\n",
    "\n",
    "        \n",
    "data_df.insert(9, \"sex\", new_sex_list)\n",
    "\n",
    "# print the first few rows\n",
    "data_df.head(5)"
   ]
  },
  {
   "cell_type": "code",
   "execution_count": 242,
   "metadata": {},
   "outputs": [
    {
     "data": {
      "text/html": [
       "<div>\n",
       "<style scoped>\n",
       "    .dataframe tbody tr th:only-of-type {\n",
       "        vertical-align: middle;\n",
       "    }\n",
       "\n",
       "    .dataframe tbody tr th {\n",
       "        vertical-align: top;\n",
       "    }\n",
       "\n",
       "    .dataframe thead th {\n",
       "        text-align: right;\n",
       "    }\n",
       "</style>\n",
       "<table border=\"1\" class=\"dataframe\">\n",
       "  <thead>\n",
       "    <tr style=\"text-align: right;\">\n",
       "      <th></th>\n",
       "      <th>status</th>\n",
       "      <th>duration</th>\n",
       "      <th>credit_hist</th>\n",
       "      <th>purpose</th>\n",
       "      <th>credit_amt</th>\n",
       "      <th>savings</th>\n",
       "      <th>employment</th>\n",
       "      <th>install_rate</th>\n",
       "      <th>personal_status</th>\n",
       "      <th>sex</th>\n",
       "      <th>...</th>\n",
       "      <th>property</th>\n",
       "      <th>age</th>\n",
       "      <th>install_plans</th>\n",
       "      <th>housing</th>\n",
       "      <th>num_credits</th>\n",
       "      <th>job</th>\n",
       "      <th>num_liable</th>\n",
       "      <th>telephone</th>\n",
       "      <th>foreign_worker</th>\n",
       "      <th>credit</th>\n",
       "    </tr>\n",
       "  </thead>\n",
       "  <tbody>\n",
       "    <tr>\n",
       "      <th>0</th>\n",
       "      <td>A11</td>\n",
       "      <td>6</td>\n",
       "      <td>A34</td>\n",
       "      <td>A43</td>\n",
       "      <td>1169</td>\n",
       "      <td>A65</td>\n",
       "      <td>A75</td>\n",
       "      <td>4</td>\n",
       "      <td>A93</td>\n",
       "      <td>male</td>\n",
       "      <td>...</td>\n",
       "      <td>A121</td>\n",
       "      <td>old</td>\n",
       "      <td>A143</td>\n",
       "      <td>A152</td>\n",
       "      <td>2</td>\n",
       "      <td>A173</td>\n",
       "      <td>1</td>\n",
       "      <td>A192</td>\n",
       "      <td>A201</td>\n",
       "      <td>1</td>\n",
       "    </tr>\n",
       "    <tr>\n",
       "      <th>1</th>\n",
       "      <td>A12</td>\n",
       "      <td>48</td>\n",
       "      <td>A32</td>\n",
       "      <td>A43</td>\n",
       "      <td>5951</td>\n",
       "      <td>A61</td>\n",
       "      <td>A73</td>\n",
       "      <td>2</td>\n",
       "      <td>A92</td>\n",
       "      <td>female</td>\n",
       "      <td>...</td>\n",
       "      <td>A121</td>\n",
       "      <td>young</td>\n",
       "      <td>A143</td>\n",
       "      <td>A152</td>\n",
       "      <td>1</td>\n",
       "      <td>A173</td>\n",
       "      <td>1</td>\n",
       "      <td>A191</td>\n",
       "      <td>A201</td>\n",
       "      <td>2</td>\n",
       "    </tr>\n",
       "    <tr>\n",
       "      <th>2</th>\n",
       "      <td>A14</td>\n",
       "      <td>12</td>\n",
       "      <td>A34</td>\n",
       "      <td>A46</td>\n",
       "      <td>2096</td>\n",
       "      <td>A61</td>\n",
       "      <td>A74</td>\n",
       "      <td>2</td>\n",
       "      <td>A93</td>\n",
       "      <td>male</td>\n",
       "      <td>...</td>\n",
       "      <td>A121</td>\n",
       "      <td>old</td>\n",
       "      <td>A143</td>\n",
       "      <td>A152</td>\n",
       "      <td>1</td>\n",
       "      <td>A172</td>\n",
       "      <td>2</td>\n",
       "      <td>A191</td>\n",
       "      <td>A201</td>\n",
       "      <td>1</td>\n",
       "    </tr>\n",
       "    <tr>\n",
       "      <th>3</th>\n",
       "      <td>A11</td>\n",
       "      <td>42</td>\n",
       "      <td>A32</td>\n",
       "      <td>A42</td>\n",
       "      <td>7882</td>\n",
       "      <td>A61</td>\n",
       "      <td>A74</td>\n",
       "      <td>2</td>\n",
       "      <td>A93</td>\n",
       "      <td>male</td>\n",
       "      <td>...</td>\n",
       "      <td>A122</td>\n",
       "      <td>old</td>\n",
       "      <td>A143</td>\n",
       "      <td>A153</td>\n",
       "      <td>1</td>\n",
       "      <td>A173</td>\n",
       "      <td>2</td>\n",
       "      <td>A191</td>\n",
       "      <td>A201</td>\n",
       "      <td>1</td>\n",
       "    </tr>\n",
       "    <tr>\n",
       "      <th>4</th>\n",
       "      <td>A11</td>\n",
       "      <td>24</td>\n",
       "      <td>A33</td>\n",
       "      <td>A40</td>\n",
       "      <td>4870</td>\n",
       "      <td>A61</td>\n",
       "      <td>A73</td>\n",
       "      <td>3</td>\n",
       "      <td>A93</td>\n",
       "      <td>male</td>\n",
       "      <td>...</td>\n",
       "      <td>A124</td>\n",
       "      <td>old</td>\n",
       "      <td>A143</td>\n",
       "      <td>A153</td>\n",
       "      <td>2</td>\n",
       "      <td>A173</td>\n",
       "      <td>2</td>\n",
       "      <td>A191</td>\n",
       "      <td>A201</td>\n",
       "      <td>2</td>\n",
       "    </tr>\n",
       "  </tbody>\n",
       "</table>\n",
       "<p>5 rows × 22 columns</p>\n",
       "</div>"
      ],
      "text/plain": [
       "  status  duration credit_hist purpose  credit_amt savings employment  \\\n",
       "0    A11         6         A34     A43        1169     A65        A75   \n",
       "1    A12        48         A32     A43        5951     A61        A73   \n",
       "2    A14        12         A34     A46        2096     A61        A74   \n",
       "3    A11        42         A32     A42        7882     A61        A74   \n",
       "4    A11        24         A33     A40        4870     A61        A73   \n",
       "\n",
       "   install_rate personal_status     sex  ... property    age install_plans  \\\n",
       "0             4             A93    male  ...     A121    old          A143   \n",
       "1             2             A92  female  ...     A121  young          A143   \n",
       "2             2             A93    male  ...     A121    old          A143   \n",
       "3             2             A93    male  ...     A122    old          A143   \n",
       "4             3             A93    male  ...     A124    old          A143   \n",
       "\n",
       "  housing num_credits   job  num_liable telephone  foreign_worker credit  \n",
       "0    A152           2  A173           1      A192            A201      1  \n",
       "1    A152           1  A173           1      A191            A201      2  \n",
       "2    A152           1  A172           2      A191            A201      1  \n",
       "3    A153           1  A173           2      A191            A201      1  \n",
       "4    A153           2  A173           2      A191            A201      2  \n",
       "\n",
       "[5 rows x 22 columns]"
      ]
     },
     "execution_count": 242,
     "metadata": {},
     "output_type": "execute_result"
    }
   ],
   "source": [
    "# write code to replace the \"age\" column with discrete values\n",
    "age_threshold = 45\n",
    "\n",
    "data_df[\"age\"] = np.where(data_df[\"age\"] >= age_threshold, \"old\", \"young\")\n",
    "\n",
    "# print the first few rows\n",
    "data_df.head(5)"
   ]
  },
  {
   "cell_type": "markdown",
   "metadata": {},
   "source": [
    "### Step 3: Exploratory data analysis"
   ]
  },
  {
   "cell_type": "markdown",
   "metadata": {},
   "source": [
    "Now that we have imported the data and prepared it for analysis, we will inspect it for further analysis. Let's start by observing the distribution of the target variable and the columns we created just now."
   ]
  },
  {
   "cell_type": "code",
   "execution_count": 243,
   "metadata": {},
   "outputs": [],
   "source": [
    "sex_list = data_df['sex'].tolist() \n",
    "age_list = data_df['age'].tolist() \n",
    "credit_list = data_df['credit_amt'].tolist() "
   ]
  },
  {
   "cell_type": "code",
   "execution_count": 244,
   "metadata": {
    "tags": []
   },
   "outputs": [
    {
     "data": {
      "image/png": "[encoded data removed]",
      "text/plain": [
       "<Figure size 432x288 with 1 Axes>"
      ]
     },
     "metadata": {
      "needs_background": "light"
     },
     "output_type": "display_data"
    }
   ],
   "source": [
    "# write code to plot the distribution of age, sex, and credit\n",
    "# in this code cell\n",
    "\n",
    "plt.scatter(sex_list, credit_list, alpha=0.5, label='sex', s = 33)\n",
    "plt.scatter(age_list, credit_list, alpha=0.5, label='age', s = 33)\n",
    "plt.legend(loc='upper right')\n",
    "plt.ylabel('credit_amt')\n",
    "plt.show()"
   ]
  },
  {
   "cell_type": "code",
   "execution_count": 245,
   "metadata": {},
   "outputs": [
    {
     "data": {
      "text/plain": [
       "array([[<AxesSubplot:title={'center':'duration'}>,\n",
       "        <AxesSubplot:title={'center':'credit_amt'}>,\n",
       "        <AxesSubplot:title={'center':'install_rate'}>],\n",
       "       [<AxesSubplot:title={'center':'residence'}>,\n",
       "        <AxesSubplot:title={'center':'num_credits'}>,\n",
       "        <AxesSubplot:title={'center':'num_liable'}>],\n",
       "       [<AxesSubplot:title={'center':'credit'}>, <AxesSubplot:>,\n",
       "        <AxesSubplot:>]], dtype=object)"
      ]
     },
     "execution_count": 245,
     "metadata": {},
     "output_type": "execute_result"
    },
    {
     "data": {
      "image/png": "[encoded data removed]",
      "text/plain": [
       "<Figure size 936x576 with 9 Axes>"
      ]
     },
     "metadata": {
      "needs_background": "light"
     },
     "output_type": "display_data"
    }
   ],
   "source": [
    "# You may also plot the distribution of all the columns to better understand the data\n",
    "data_df.hist(figsize=(13,8))"
   ]
  },
  {
   "cell_type": "markdown",
   "metadata": {},
   "source": [
    "#### **TODO: Write down your observations from the plots above**\n",
    "\n",
    "I processed two feateures based on 'credit_amt' and 'credit'\n"
   ]
  },
  {
   "cell_type": "markdown",
   "metadata": {},
   "source": [
    "### 3.2\n",
    "Let's consider the data distribution in terms of age and sex together: generate a crosstab summarizing the number of observations by age and sex:"
   ]
  },
  {
   "cell_type": "code",
   "execution_count": 247,
   "metadata": {},
   "outputs": [
    {
     "data": {
      "text/html": [
       "<div>\n",
       "<style scoped>\n",
       "    .dataframe tbody tr th:only-of-type {\n",
       "        vertical-align: middle;\n",
       "    }\n",
       "\n",
       "    .dataframe tbody tr th {\n",
       "        vertical-align: top;\n",
       "    }\n",
       "\n",
       "    .dataframe thead th {\n",
       "        text-align: right;\n",
       "    }\n",
       "</style>\n",
       "<table border=\"1\" class=\"dataframe\">\n",
       "  <thead>\n",
       "    <tr style=\"text-align: right;\">\n",
       "      <th>age</th>\n",
       "      <th>old</th>\n",
       "      <th>young</th>\n",
       "      <th>All</th>\n",
       "    </tr>\n",
       "    <tr>\n",
       "      <th>sex</th>\n",
       "      <th></th>\n",
       "      <th></th>\n",
       "      <th></th>\n",
       "    </tr>\n",
       "  </thead>\n",
       "  <tbody>\n",
       "    <tr>\n",
       "      <th>female</th>\n",
       "      <td>49</td>\n",
       "      <td>261</td>\n",
       "      <td>310</td>\n",
       "    </tr>\n",
       "    <tr>\n",
       "      <th>male</th>\n",
       "      <td>152</td>\n",
       "      <td>538</td>\n",
       "      <td>690</td>\n",
       "    </tr>\n",
       "    <tr>\n",
       "      <th>All</th>\n",
       "      <td>201</td>\n",
       "      <td>799</td>\n",
       "      <td>1000</td>\n",
       "    </tr>\n",
       "  </tbody>\n",
       "</table>\n",
       "</div>"
      ],
      "text/plain": [
       "age     old  young   All\n",
       "sex                     \n",
       "female   49    261   310\n",
       "male    152    538   690\n",
       "All     201    799  1000"
      ]
     },
     "execution_count": 247,
     "metadata": {},
     "output_type": "execute_result"
    }
   ],
   "source": [
    "# write code to generate a crosstab summarizing the number of observations by\n",
    "# age and sex (i.e. a pivot table) in this code cell\n",
    "pd.crosstab(data_df['sex'], data_df['age'], margins = True)"
   ]
  },
  {
   "cell_type": "markdown",
   "metadata": {},
   "source": [
    "#### **3.2_TODO: Write down your observations from the results you obtained**\n",
    "\n",
    "In this crosstab, I can only expect and say the overall ratio. In other words, if we concentrate on sex, we can see that the number of male participants in this data set is more than that of females. Regarding age, there are more young participants than old ones (the threshold is 45). Therefore, the order of crosstab sections based on size is as follows.\n",
    "\n",
    "young male -> young female -> old male -> old female."
   ]
  },
  {
   "cell_type": "markdown",
   "metadata": {},
   "source": [
    "### 3.3 Let's turn our focus to the primary variable of interest: credit risk. In this exploratory analysis, we are interested in the variable named \"credit\".\n",
    "Plot the distribution of credit risk for males and for females."
   ]
  },
  {
   "cell_type": "code",
   "execution_count": 248,
   "metadata": {},
   "outputs": [
    {
     "name": "stdout",
     "output_type": "stream",
     "text": [
      "male_Good_Credit: 499\n",
      "female_Good_Credit: 201\n"
     ]
    }
   ],
   "source": [
    "# 1 = Good, 2 = Bad\n",
    "print(\"male_Good_Credit:\", len(data_df[(data_df['sex']=='male') & (data_df['credit']==1)]))\n",
    "print(\"female_Good_Credit:\", len(data_df[(data_df['sex']=='female') & (data_df['credit']==1)]))"
   ]
  },
  {
   "cell_type": "code",
   "execution_count": 249,
   "metadata": {},
   "outputs": [
    {
     "data": {
      "image/png": "[encoded data removed]",
      "text/plain": [
       "<Figure size 432x288 with 1 Axes>"
      ]
     },
     "metadata": {
      "needs_background": "light"
     },
     "output_type": "display_data"
    }
   ],
   "source": [
    "# making the bar chart on the data\n",
    "columns = [\"Male_Good\", \"Male_Bad\",\"Female_Good\", \"Female_Bad\"]\n",
    "value = [499,690-499,201,310-201]\n",
    "plt.bar(columns, value)\n",
    "\n",
    "# calling the function to add value labels\n",
    "def addlabels(columns, value):\n",
    "    for i in range(len(columns)):\n",
    "        plt.text(i,value[i],value[i])\n",
    "        \n",
    "addlabels(columns, value)\n",
    "\n",
    "plt.title(\"distribution of credit risk for males and for females\")\n",
    "\n",
    "plt.xlabel(\"Sex\")\n",
    "plt.ylabel(\"Credit\")\n",
    "\n",
    "plt.show()"
   ]
  },
  {
   "cell_type": "code",
   "execution_count": 250,
   "metadata": {},
   "outputs": [
    {
     "data": {
      "text/plain": [
       "array([<AxesSubplot:title={'center':'female'}, ylabel='Frequency'>,\n",
       "       <AxesSubplot:title={'center':'male'}, ylabel='Frequency'>],\n",
       "      dtype=object)"
      ]
     },
     "execution_count": 250,
     "metadata": {},
     "output_type": "execute_result"
    },
    {
     "data": {
      "image/png": "[encoded data removed]",
      "text/plain": [
       "<Figure size 504x504 with 2 Axes>"
      ]
     },
     "metadata": {
      "needs_background": "light"
     },
     "output_type": "display_data"
    }
   ],
   "source": [
    "# plot credit risk by sex\n",
    "data_df.plot.hist(column=[\"credit_amt\"], by=\"sex\", figsize=(7, 7))"
   ]
  },
  {
   "cell_type": "markdown",
   "metadata": {},
   "source": [
    "#### **TODO: To what extent do these distributions differ? Summarize the difference between the distribution of credit risks for male and female applicants in this text cell (three sentences maximum):**\n",
    "\n"
   ]
  },
  {
   "cell_type": "markdown",
   "metadata": {},
   "source": [
    "### 3.4 What about age? Repeat the above plots for young and old applicants:"
   ]
  },
  {
   "cell_type": "code",
   "execution_count": 251,
   "metadata": {},
   "outputs": [
    {
     "data": {
      "text/plain": [
       "array([<AxesSubplot:title={'center':'old'}, ylabel='Frequency'>,\n",
       "       <AxesSubplot:title={'center':'young'}, ylabel='Frequency'>],\n",
       "      dtype=object)"
      ]
     },
     "execution_count": 251,
     "metadata": {},
     "output_type": "execute_result"
    },
    {
     "data": {
      "image/png": "[encoded data removed]",
      "text/plain": [
       "<Figure size 504x432 with 2 Axes>"
      ]
     },
     "metadata": {
      "needs_background": "light"
     },
     "output_type": "display_data"
    },
    {
     "data": {
      "image/png": "[encoded data removed]",
      "text/plain": [
       "<Figure size 504x504 with 2 Axes>"
      ]
     },
     "metadata": {
      "needs_background": "light"
     },
     "output_type": "display_data"
    }
   ],
   "source": [
    "# write code to plot credit risk for young and old applicants in this code cell\n",
    "data_df.plot.hist(column=[\"credit\"], by=\"age\", bins = 3, figsize=(7, 6))\n",
    "\n",
    "data_df.plot.hist(column=[\"credit_amt\"], by=\"age\", figsize=(7, 7))"
   ]
  },
  {
   "cell_type": "markdown",
   "metadata": {},
   "source": [
    "#### **TODO: Summarize the difference between the distribution of credit risks for young and old applicants in this text cell (three sentences maximum):**"
   ]
  },
  {
   "cell_type": "code",
   "execution_count": null,
   "metadata": {},
   "outputs": [],
   "source": []
  },
  {
   "cell_type": "markdown",
   "metadata": {},
   "source": [
    "### Step 4: Train a classifier to predict credit using the original data\n",
    "\n",
    "We will be training a logistic regression model to predict good/bad credit, then fine-tuning the model over a set of hyperparameters. For this purpose, we will use sklearn's logistic regression model. However, the model expects the data to be in numerical format. \n",
    "\n",
    "#### 4.1. Data preparation \n",
    "We have two options here:\n",
    "1. Use sklearn's encoders to transform the categorical values into numerical values.\n",
    "2. Write your own mapping functions (example for two of the columns has been provided below) with the best of your knowledge about the domain. Pay attention to columns with numerical data-- those could be bucketized or used as is. Similarly, column values in the categorical columns \"purpose\" and \"housing\" may not have a clear ordering-- in that case, you may consider creating dummy variables (be sure to drop the original columns).\n",
    "\n",
    "Using either of the two techniques, prepare the data for the logistic regression model."
   ]
  },
  {
   "cell_type": "code",
   "execution_count": 252,
   "metadata": {},
   "outputs": [
    {
     "data": {
      "text/plain": [
       "status             object\n",
       "duration            int64\n",
       "credit_hist        object\n",
       "purpose            object\n",
       "credit_amt          int64\n",
       "savings            object\n",
       "employment         object\n",
       "install_rate        int64\n",
       "personal_status    object\n",
       "sex                object\n",
       "debtors            object\n",
       "residence           int64\n",
       "property           object\n",
       "age                object\n",
       "install_plans      object\n",
       "housing            object\n",
       "num_credits         int64\n",
       "job                object\n",
       "num_liable          int64\n",
       "telephone          object\n",
       "foreign_worker     object\n",
       "credit              int64\n",
       "dtype: object"
      ]
     },
     "execution_count": 252,
     "metadata": {},
     "output_type": "execute_result"
    }
   ],
   "source": [
    "data_df.dtypes"
   ]
  },
  {
   "cell_type": "code",
   "execution_count": 253,
   "metadata": {
    "tags": []
   },
   "outputs": [],
   "source": [
    "# iterating the columns\n",
    "col_names = []\n",
    "datatype = []\n",
    "for col in data_df.columns:\n",
    "    col_names.append(col)\n",
    "    \n",
    "for dtype in data_df.dtypes:\n",
    "    datatype.append(dtype)"
   ]
  },
  {
   "cell_type": "code",
   "execution_count": 254,
   "metadata": {},
   "outputs": [
    {
     "name": "stdout",
     "output_type": "stream",
     "text": [
      "{'status': dtype('O'), 'duration': dtype('int64'), 'credit_hist': dtype('O'), 'purpose': dtype('O'), 'credit_amt': dtype('int64'), 'savings': dtype('O'), 'employment': dtype('O'), 'install_rate': dtype('int64'), 'personal_status': dtype('O'), 'sex': dtype('O'), 'debtors': dtype('O'), 'residence': dtype('int64'), 'property': dtype('O'), 'age': dtype('O'), 'install_plans': dtype('O'), 'housing': dtype('O'), 'num_credits': dtype('int64'), 'job': dtype('O'), 'num_liable': dtype('int64'), 'telephone': dtype('O'), 'foreign_worker': dtype('O'), 'credit': dtype('int64')}\n"
     ]
    }
   ],
   "source": [
    "def convert(col_names, datatype):\n",
    "    res_dict = {}\n",
    "    for i in range(len(col_names)):\n",
    "        res_dict[col_names[i]] = datatype[i]\n",
    "        i = i+1\n",
    "        \n",
    "    return res_dict\n",
    "dictionary = convert(col_names, datatype)\n",
    "print(dictionary)"
   ]
  },
  {
   "cell_type": "code",
   "execution_count": 255,
   "metadata": {},
   "outputs": [
    {
     "data": {
      "text/html": [
       "<div>\n",
       "<style scoped>\n",
       "    .dataframe tbody tr th:only-of-type {\n",
       "        vertical-align: middle;\n",
       "    }\n",
       "\n",
       "    .dataframe tbody tr th {\n",
       "        vertical-align: top;\n",
       "    }\n",
       "\n",
       "    .dataframe thead th {\n",
       "        text-align: right;\n",
       "    }\n",
       "</style>\n",
       "<table border=\"1\" class=\"dataframe\">\n",
       "  <thead>\n",
       "    <tr style=\"text-align: right;\">\n",
       "      <th></th>\n",
       "      <th>status</th>\n",
       "      <th>duration</th>\n",
       "      <th>credit_hist</th>\n",
       "      <th>purpose</th>\n",
       "      <th>credit_amt</th>\n",
       "      <th>savings</th>\n",
       "      <th>employment</th>\n",
       "      <th>install_rate</th>\n",
       "      <th>personal_status</th>\n",
       "      <th>sex</th>\n",
       "      <th>...</th>\n",
       "      <th>property</th>\n",
       "      <th>age</th>\n",
       "      <th>install_plans</th>\n",
       "      <th>housing</th>\n",
       "      <th>num_credits</th>\n",
       "      <th>job</th>\n",
       "      <th>num_liable</th>\n",
       "      <th>telephone</th>\n",
       "      <th>foreign_worker</th>\n",
       "      <th>credit</th>\n",
       "    </tr>\n",
       "  </thead>\n",
       "  <tbody>\n",
       "    <tr>\n",
       "      <th>0</th>\n",
       "      <td>0</td>\n",
       "      <td>6</td>\n",
       "      <td>4</td>\n",
       "      <td>4</td>\n",
       "      <td>1169</td>\n",
       "      <td>4</td>\n",
       "      <td>4</td>\n",
       "      <td>4</td>\n",
       "      <td>2</td>\n",
       "      <td>1</td>\n",
       "      <td>...</td>\n",
       "      <td>0</td>\n",
       "      <td>0</td>\n",
       "      <td>2</td>\n",
       "      <td>1</td>\n",
       "      <td>2</td>\n",
       "      <td>2</td>\n",
       "      <td>1</td>\n",
       "      <td>1</td>\n",
       "      <td>0</td>\n",
       "      <td>1</td>\n",
       "    </tr>\n",
       "    <tr>\n",
       "      <th>1</th>\n",
       "      <td>1</td>\n",
       "      <td>48</td>\n",
       "      <td>2</td>\n",
       "      <td>4</td>\n",
       "      <td>5951</td>\n",
       "      <td>0</td>\n",
       "      <td>2</td>\n",
       "      <td>2</td>\n",
       "      <td>1</td>\n",
       "      <td>0</td>\n",
       "      <td>...</td>\n",
       "      <td>0</td>\n",
       "      <td>1</td>\n",
       "      <td>2</td>\n",
       "      <td>1</td>\n",
       "      <td>1</td>\n",
       "      <td>2</td>\n",
       "      <td>1</td>\n",
       "      <td>0</td>\n",
       "      <td>0</td>\n",
       "      <td>2</td>\n",
       "    </tr>\n",
       "    <tr>\n",
       "      <th>2</th>\n",
       "      <td>3</td>\n",
       "      <td>12</td>\n",
       "      <td>4</td>\n",
       "      <td>7</td>\n",
       "      <td>2096</td>\n",
       "      <td>0</td>\n",
       "      <td>3</td>\n",
       "      <td>2</td>\n",
       "      <td>2</td>\n",
       "      <td>1</td>\n",
       "      <td>...</td>\n",
       "      <td>0</td>\n",
       "      <td>0</td>\n",
       "      <td>2</td>\n",
       "      <td>1</td>\n",
       "      <td>1</td>\n",
       "      <td>1</td>\n",
       "      <td>2</td>\n",
       "      <td>0</td>\n",
       "      <td>0</td>\n",
       "      <td>1</td>\n",
       "    </tr>\n",
       "    <tr>\n",
       "      <th>3</th>\n",
       "      <td>0</td>\n",
       "      <td>42</td>\n",
       "      <td>2</td>\n",
       "      <td>3</td>\n",
       "      <td>7882</td>\n",
       "      <td>0</td>\n",
       "      <td>3</td>\n",
       "      <td>2</td>\n",
       "      <td>2</td>\n",
       "      <td>1</td>\n",
       "      <td>...</td>\n",
       "      <td>1</td>\n",
       "      <td>0</td>\n",
       "      <td>2</td>\n",
       "      <td>2</td>\n",
       "      <td>1</td>\n",
       "      <td>2</td>\n",
       "      <td>2</td>\n",
       "      <td>0</td>\n",
       "      <td>0</td>\n",
       "      <td>1</td>\n",
       "    </tr>\n",
       "    <tr>\n",
       "      <th>4</th>\n",
       "      <td>0</td>\n",
       "      <td>24</td>\n",
       "      <td>3</td>\n",
       "      <td>0</td>\n",
       "      <td>4870</td>\n",
       "      <td>0</td>\n",
       "      <td>2</td>\n",
       "      <td>3</td>\n",
       "      <td>2</td>\n",
       "      <td>1</td>\n",
       "      <td>...</td>\n",
       "      <td>3</td>\n",
       "      <td>0</td>\n",
       "      <td>2</td>\n",
       "      <td>2</td>\n",
       "      <td>2</td>\n",
       "      <td>2</td>\n",
       "      <td>2</td>\n",
       "      <td>0</td>\n",
       "      <td>0</td>\n",
       "      <td>2</td>\n",
       "    </tr>\n",
       "  </tbody>\n",
       "</table>\n",
       "<p>5 rows × 22 columns</p>\n",
       "</div>"
      ],
      "text/plain": [
       "   status  duration  credit_hist  purpose  credit_amt  savings  employment  \\\n",
       "0       0         6            4        4        1169        4           4   \n",
       "1       1        48            2        4        5951        0           2   \n",
       "2       3        12            4        7        2096        0           3   \n",
       "3       0        42            2        3        7882        0           3   \n",
       "4       0        24            3        0        4870        0           2   \n",
       "\n",
       "   install_rate  personal_status  sex  ...  property  age  install_plans  \\\n",
       "0             4                2    1  ...         0    0              2   \n",
       "1             2                1    0  ...         0    1              2   \n",
       "2             2                2    1  ...         0    0              2   \n",
       "3             2                2    1  ...         1    0              2   \n",
       "4             3                2    1  ...         3    0              2   \n",
       "\n",
       "   housing  num_credits  job  num_liable  telephone  foreign_worker  credit  \n",
       "0        1            2    2           1          1               0       1  \n",
       "1        1            1    2           1          0               0       2  \n",
       "2        1            1    1           2          0               0       1  \n",
       "3        2            1    2           2          0               0       1  \n",
       "4        2            2    2           2          0               0       2  \n",
       "\n",
       "[5 rows x 22 columns]"
      ]
     },
     "execution_count": 255,
     "metadata": {},
     "output_type": "execute_result"
    }
   ],
   "source": [
    "# write code to preprocess the data\n",
    "\n",
    "#import label encoder\n",
    "from sklearn import preprocessing \n",
    "#make an instance of Label Encoder\n",
    "label_encoder = preprocessing.LabelEncoder()\n",
    "\n",
    "for cols in col_names:\n",
    "\n",
    "    if dictionary[cols] == 'object':\n",
    "        data_df[cols] = label_encoder.fit_transform(data_df[cols])\n",
    "    else:\n",
    "        pass\n",
    "\n",
    "# example mappings\n",
    "# data_df['status'] = data_df['status'].map({'A11': 0, 'A12': 1, 'A13': 2, 'A14': 3}).astype(int)\n",
    "# data_df['credit_hist'] = data_df['credit_hist'].map({'A34': 0, 'A33': 1, 'A32': 2, 'A31': 3, 'A30': 4}).astype(int)\n",
    "\n",
    "\n",
    "# print the first few rows of the data\n",
    "data_df.head()                                                          "
   ]
  },
  {
   "cell_type": "code",
   "execution_count": 256,
   "metadata": {},
   "outputs": [
    {
     "name": "stdout",
     "output_type": "stream",
     "text": [
      "<class 'pandas.core.frame.DataFrame'>\n",
      "RangeIndex: 1000 entries, 0 to 999\n",
      "Data columns (total 22 columns):\n",
      " #   Column           Non-Null Count  Dtype\n",
      "---  ------           --------------  -----\n",
      " 0   status           1000 non-null   int32\n",
      " 1   duration         1000 non-null   int64\n",
      " 2   credit_hist      1000 non-null   int32\n",
      " 3   purpose          1000 non-null   int32\n",
      " 4   credit_amt       1000 non-null   int64\n",
      " 5   savings          1000 non-null   int32\n",
      " 6   employment       1000 non-null   int32\n",
      " 7   install_rate     1000 non-null   int64\n",
      " 8   personal_status  1000 non-null   int32\n",
      " 9   sex              1000 non-null   int32\n",
      " 10  debtors          1000 non-null   int32\n",
      " 11  residence        1000 non-null   int64\n",
      " 12  property         1000 non-null   int32\n",
      " 13  age              1000 non-null   int32\n",
      " 14  install_plans    1000 non-null   int32\n",
      " 15  housing          1000 non-null   int32\n",
      " 16  num_credits      1000 non-null   int64\n",
      " 17  job              1000 non-null   int32\n",
      " 18  num_liable       1000 non-null   int64\n",
      " 19  telephone        1000 non-null   int32\n",
      " 20  foreign_worker   1000 non-null   int32\n",
      " 21  credit           1000 non-null   int64\n",
      "dtypes: int32(15), int64(7)\n",
      "memory usage: 113.4 KB\n"
     ]
    }
   ],
   "source": [
    "data_df.info() "
   ]
  },
  {
   "cell_type": "markdown",
   "metadata": {},
   "source": [
    "#### 4.2. Split the data into train/validation/test sets"
   ]
  },
  {
   "cell_type": "code",
   "execution_count": 257,
   "metadata": {},
   "outputs": [
    {
     "name": "stdout",
     "output_type": "stream",
     "text": [
      "Train set:  (600, 22)\n",
      "Val set:  (200, 22)\n",
      "Test set:  (200, 22)\n"
     ]
    }
   ],
   "source": [
    "# Split original data into train and test data\n",
    "train, test = train_test_split(data_df, train_size=0.80, random_state=10)\n",
    "\n",
    "# Split training data in to training and validation data for hyperparameter tuning\n",
    "train, val = train_test_split(train, train_size=0.75, shuffle=True)\n",
    "\n",
    "# Use the shape function to output the size of each of the dataframes below\n",
    "print(\"Train set: \", train.shape)\n",
    "print(\"Val set: \", val.shape)\n",
    "print(\"Test set: \", test.shape)"
   ]
  },
  {
   "cell_type": "markdown",
   "metadata": {},
   "source": [
    "#### 4.3. Split the data into training features and target variable\n",
    "\n",
    "First, we need to split our data up into the independent variables (x) and the outcome variable (y). We will recode the outcome so that the values are 0 (= bad credit) and 1 (= good credit). This is the format that the sklearn logistic regression function expects."
   ]
  },
  {
   "cell_type": "code",
   "execution_count": 284,
   "metadata": {},
   "outputs": [
    {
     "name": "stdout",
     "output_type": "stream",
     "text": [
      "Training Outcomes: \n",
      " 1    429\n",
      "0    171\n",
      "Name: credit, dtype: int64 \n",
      "\n",
      "Test Outcomes: \n",
      " 1    138\n",
      "0     62\n",
      "Name: credit, dtype: int64 \n",
      "\n",
      "validating Outcomes: \n",
      " 1    133\n",
      "0     67\n",
      "Name: credit, dtype: int64 \n",
      "\n"
     ]
    }
   ],
   "source": [
    "# Set up the training data\n",
    "x_train = train.drop(\"credit\", axis=1) # delete target columns\n",
    "y_train = train.credit.replace({2:0})  #1 = Good, 2 = Bad credit risk\n",
    "print(\"Training Outcomes: \\n\", y_train.value_counts(), \"\\n\")\n",
    "\n",
    "# Similary, set up the test and validation data, and print their counts\n",
    "x_test = test.drop(\"credit\", axis=1) # delete target columns\n",
    "y_test = test.credit.replace({2:0})  #1 = Good, 2 = Bad credit risk\n",
    "print(\"Test Outcomes: \\n\", y_test.value_counts(), \"\\n\")\n",
    "\n",
    "x_val = val.drop(\"credit\", axis=1) # delete target columns\n",
    "y_val = val.credit.replace({2:0})  #1 = Good, 2 = Bad credit risk\n",
    "print(\"validating Outcomes: \\n\", y_val.value_counts(), \"\\n\")\n"
   ]
  },
  {
   "cell_type": "markdown",
   "metadata": {},
   "source": [
    "#### 4.4. Model training\n",
    "\n",
    "Now let's fit our model on the training data. Remember, we do not use test and validation sets at this point."
   ]
  },
  {
   "cell_type": "code",
   "execution_count": 309,
   "metadata": {},
   "outputs": [
    {
     "name": "stdout",
     "output_type": "stream",
     "text": [
      "LogisticRegression(C=0.5, penalty='l1', solver='liblinear')\n"
     ]
    }
   ],
   "source": [
    "# Set up the logistic regression model with the given hyperparameters\n",
    "initial_lr = LogisticRegression(C=0.5, penalty=\"l1\", solver='liblinear')\n",
    "    \n",
    "# Fit the model using the training data\n",
    "initial_lr = initial_lr.fit(x_train, y_train, sample_weight=None)"
   ]
  },
  {
   "cell_type": "markdown",
   "metadata": {},
   "source": [
    "#### 4.5. Model evaluation\n",
    "Now that we have a trained model, we should evaluate it on our validation set. For now, we will compute the area under the curve (AUC) as well as accuracy when we use a cutoff of 0.5 (that is, predicted values over 0.5 are interpreted as good credit, and less than 0.5 are interpreted as bad credit).\n",
    "\n",
    "**TODO: Write the function below to evaluate accuracy and AUC of a trained model.**\n",
    "You can use the `accuracy_score` and `roc_auc_score` sklearn functions to compute the accuracy and the AUC of the model, respectively."
   ]
  },
  {
   "cell_type": "markdown",
   "metadata": {},
   "source": [
    "# Note\n",
    "\n",
    "[[8.46257648e-01 1.53742352e-01]\n",
    "\n",
    " [7.62136223e-03 9.92378638e-01]\n",
    "\n",
    "[2.87286831e-03 9.97127132e-01]]\n",
    " \n",
    " The provided information describes a classification model's predictions using probabilities. In each row, the model assigns probabilities to different classes, indicating its confidence in classifying each data point. The first column represents the probability of the -1 label, and the second column represents the probability of the +1 label. These probabilities allow for an assessment of the model's certainty in classifying individual instances. Additionally, a method is suggested to obtain the predicted probabilities specifically for the positive label, using logistic_model.predict_proba(data)[:,1].\n",
    "\n",
    "- reference: https://saturncloud.io/blog/how-to-use-logistic-regression-predictproba-method-in-scikitlearn/"
   ]
  },
  {
   "cell_type": "code",
   "execution_count": 364,
   "metadata": {},
   "outputs": [],
   "source": [
    "def evaluate(model, X, y_true):\n",
    "    '''Calculates the AUC and accuracy for a trained logistic regression model'''\n",
    "    \n",
    "    # Calculate predicted values\n",
    "    \n",
    "    y_pred = model.predict(X)\n",
    "    \n",
    "    y_pred_proba = model.predict_proba(X)\n",
    "    # This returns a tuple for each observation containing the probability of being in each class.\n",
    "    # We are doing binary classification and hence, will need to know P(Y_hat=1) the probability that the outcome = 1 (good credit)\n",
    "    y_pred_proba = [row[1] for row in y_pred_proba] # This pulls the predicted probability that y = 1 for each observation\n",
    "\n",
    "    # Calculate accuracy using the accuracy_score function\n",
    "    accuracy = accuracy_score(y_true, y_pred)\n",
    "    # Calculate AUC using the roc_auc function\n",
    "    auc = roc_auc_score(y_true, y_pred)\n",
    "    pred = y_pred\n",
    "    \n",
    "    return pred, accuracy, auc"
   ]
  },
  {
   "cell_type": "code",
   "execution_count": 365,
   "metadata": {},
   "outputs": [
    {
     "name": "stdout",
     "output_type": "stream",
     "text": [
      "Accuracy:  0.73\n",
      "AUC:  0.6636741106497587\n"
     ]
    }
   ],
   "source": [
    "pred, accuracy, auc = evaluate(initial_lr, x_val, y_val)\n",
    "\n",
    "print(\"Accuracy: \", accuracy)\n",
    "print(\"AUC: \", auc)"
   ]
  },
  {
   "cell_type": "code",
   "execution_count": 344,
   "metadata": {},
   "outputs": [
    {
     "name": "stdout",
     "output_type": "stream",
     "text": [
      "Accuracy:  0.73\n",
      "AUC:  0.6636741106497587\n"
     ]
    }
   ],
   "source": [
    "accuracy, auc = evaluate(initial_lr, x_val, y_val)\n",
    "print(\"Accuracy: \", accuracy)\n",
    "print(\"AUC: \", auc)"
   ]
  },
  {
   "cell_type": "markdown",
   "metadata": {},
   "source": [
    "#### 4.6. Hyperparameter tuning the logistic regression model \n",
    "\n",
    "Notice that for fitting the logistic regression model, we used the parameters C=0.5, penalty=\"l1\". There might be models (trained with different values of C and penalty) that yield a higher accuracy on the validataion data. We want to be able to easily train models with a variety of hyperparameters and determine which one performs the best on the validation data. We can use the evaluate function above to do this. "
   ]
  },
  {
   "cell_type": "code",
   "execution_count": 361,
   "metadata": {},
   "outputs": [],
   "source": [
    "def tune_logistic_regression(x_train, y_train, x_val, y_val, penalty_types, C_values, weights=None, verbose=True):\n",
    "    '''Tunes logistic regression models over the hyperparameters penalty type and C\n",
    "       to maximize the AUC'''\n",
    "    \n",
    "    # Create empty lists where we will store the results of hyperparameter tuning \n",
    "    parameters = []\n",
    "    models = []\n",
    "    val_aucs = []\n",
    "    \n",
    "    # Loop through the hyperparameters of interest\n",
    "    for penalty in penalty_types:\n",
    "        for C in C_values:\n",
    "            \n",
    "            # Train the logistic regression model with the given hyperparameters\n",
    "            lr = LogisticRegression(C=C, penalty=penalty, solver='liblinear')\n",
    "    \n",
    "            # Fit the model using the training data\n",
    "            lr = lr.fit(x_train, y_train, sample_weight=weights)\n",
    "            \n",
    "            # Get the evalution metrics on the validation set \n",
    "            accuracy, auc  = evaluate(lr, x_val, y_val)\n",
    "            \n",
    "            # Store the results\n",
    "            parameters.append({'penalty': penalty, 'C': C})\n",
    "            models.append(lr)\n",
    "            val_aucs.append(auc)\n",
    "            \n",
    "            # Print the results\n",
    "            if verbose:\n",
    "                print(\"\\nParmeters: \\tpenalty={} \\tC={}\".format(penalty, C))\n",
    "                print(\"Validtion AUC: {}\".format(auc))\n",
    "            \n",
    "    \n",
    "    # Determine the best model -- that is, the one with the AUC\n",
    "    best_model_index = np.argmax(val_aucs)\n",
    "    best_model = models[best_model_index]\n",
    "    \n",
    "    print(\"\\nBest model parameters: \", parameters[best_model_index])\n",
    "    print(\"Best model AUC: \", val_aucs[best_model_index])\n",
    "    \n",
    "    # Return best model\n",
    "    return best_model, parameters, models, val_aucs"
   ]
  },
  {
   "cell_type": "code",
   "execution_count": 362,
   "metadata": {},
   "outputs": [
    {
     "name": "stdout",
     "output_type": "stream",
     "text": [
      "\n",
      "Parmeters: \tpenalty=l1 \tC=0.001\n",
      "Validtion AUC: 0.5\n",
      "\n",
      "Parmeters: \tpenalty=l1 \tC=0.1\n",
      "Validtion AUC: 0.6449893390191898\n",
      "\n",
      "Parmeters: \tpenalty=l1 \tC=1\n",
      "Validtion AUC: 0.6860621703512513\n",
      "\n",
      "Parmeters: \tpenalty=l1 \tC=10\n",
      "Validtion AUC: 0.6898215688474918\n",
      "\n",
      "Parmeters: \tpenalty=l1 \tC=100\n",
      "Validtion AUC: 0.6898215688474918\n",
      "\n",
      "Parmeters: \tpenalty=l1 \tC=1000\n",
      "Validtion AUC: 0.6898215688474918\n",
      "\n",
      "Parmeters: \tpenalty=l1 \tC=10000\n",
      "Validtion AUC: 0.6898215688474918\n",
      "\n",
      "Parmeters: \tpenalty=l1 \tC=100000\n",
      "Validtion AUC: 0.6898215688474918\n",
      "\n",
      "Parmeters: \tpenalty=l2 \tC=0.001\n",
      "Validtion AUC: 0.5111659746380878\n",
      "\n",
      "Parmeters: \tpenalty=l2 \tC=0.1\n",
      "Validtion AUC: 0.6487487375154304\n",
      "\n",
      "Parmeters: \tpenalty=l2 \tC=1\n",
      "Validtion AUC: 0.6898215688474918\n",
      "\n",
      "Parmeters: \tpenalty=l2 \tC=10\n",
      "Validtion AUC: 0.6935809673437325\n",
      "\n",
      "Parmeters: \tpenalty=l2 \tC=100\n",
      "Validtion AUC: 0.6935809673437325\n",
      "\n",
      "Parmeters: \tpenalty=l2 \tC=1000\n",
      "Validtion AUC: 0.6935809673437325\n",
      "\n",
      "Parmeters: \tpenalty=l2 \tC=10000\n",
      "Validtion AUC: 0.6935809673437325\n",
      "\n",
      "Parmeters: \tpenalty=l2 \tC=100000\n",
      "Validtion AUC: 0.6935809673437325\n",
      "\n",
      "Best model parameters:  {'penalty': 'l2', 'C': 10}\n",
      "Best model AUC:  0.6935809673437325\n"
     ]
    }
   ],
   "source": [
    "penalty_types=[\"l1\", \"l2\"]\n",
    "C_values=[0.001, 0.1, 1, 10, 100, 1000, 10000, 100000]\n",
    "best_lr, parameters, models, val_aucs = tune_logistic_regression(x_train, y_train, x_val, y_val, penalty_types, C_values)"
   ]
  },
  {
   "cell_type": "markdown",
   "metadata": {},
   "source": [
    "Let us plot the results so that we understand what hyperparameter tuning actually did."
   ]
  },
  {
   "cell_type": "code",
   "execution_count": 363,
   "metadata": {},
   "outputs": [
    {
     "data": {
      "image/png": "[encoded data removed]",
      "text/plain": [
       "<Figure size 432x288 with 1 Axes>"
      ]
     },
     "metadata": {
      "needs_background": "light"
     },
     "output_type": "display_data"
    }
   ],
   "source": [
    "val_aucs_l1 = [val_aucs[i] for i in range(len(val_aucs)) if parameters[i]['penalty']==\"l1\"]\n",
    "val_aucs_l2 = [val_aucs[i] for i in range(len(val_aucs)) if parameters[i]['penalty']==\"l2\"]\n",
    "C_values = [parameters[i]['C'] for i in range(len(parameters)) if parameters[i]['penalty']==\"l2\"]\n",
    "\n",
    "fig, ax = plt.subplots()\n",
    "ax.semilogx( C_values, val_aucs_l1, marker='.', markerfacecolor='blue', markersize=12, color='blue', linewidth=4, label='L1 Penalty')\n",
    "ax.semilogx( C_values, val_aucs_l2, marker='.', markerfacecolor='red', markersize=12, color='red', linewidth=4, label='L2 Penalty')\n",
    "ax.set_xlabel(\"C\")\n",
    "ax.set_ylabel(\"AUC\")\n",
    "plt.legend()\n",
    "plt.show()"
   ]
  },
  {
   "cell_type": "markdown",
   "metadata": {},
   "source": [
    "**TODO: From the plot above, interpret why the hyperparameters were chosen as such.**\n"
   ]
  },
  {
   "cell_type": "markdown",
   "metadata": {
    "id": "CvGGSeCqY-eN"
   },
   "source": [
    "#### 4.7. Interpreting the predictive accuracy\n",
    "\n",
    "Until now, we used the predictive accuracy of the logistic regression model, which refers to the concordance between an individual's credit risk and the label assigned to that individual by the model. For instance, how often did the model predict that a person was a \"bad credit risk\" and that person in fact defaulted on a loan? \n",
    "\n",
    "We can think of this in terms of a 2x2 table (also called a *confusion matrix*):\n",
    "\n",
    "|      | Did not default | Defaulted   |\n",
    "| :---        |    :----:   |          ---: |\n",
    "| **Labeled bad credit risk**  | A       | B   |\n",
    "| **Labeled good credit risk**   | C       | D      |\n",
    "\n",
    "**TODO: What are the generic terms for A and D and what do they represent?**"
   ]
  },
  {
   "cell_type": "code",
   "execution_count": 396,
   "metadata": {},
   "outputs": [
    {
     "name": "stdout",
     "output_type": "stream",
     "text": [
      "Actual value (Default): 67\n",
      "Actual value (Does not Default):  133\n",
      "Predict (Bad Credit) 49\n",
      "Predict (Good Credit) 151\n",
      "[[ 31  36]\n",
      " [ 18 115]]\n"
     ]
    }
   ],
   "source": [
    "y_val_list = y_val.tolist()\n",
    "pred_list = pred.tolist()\n",
    "print(\"Actual value (Default):\", y_val_list.count(0))\n",
    "print(\"Actual value (Does not Default): \", y_val_list.count(1))\n",
    "print(\"Predict (Bad Credit)\", pred_list.count(0))\n",
    "print(\"Predict (Good Credit)\", pred_list.count(1))\n",
    "\n",
    "conf_matrix = confusion_matrix(y_val, pred, labels=[0, 1])\n",
    "print(conf_matrix)"
   ]
  },
  {
   "cell_type": "code",
   "execution_count": 390,
   "metadata": {},
   "outputs": [
    {
     "data": {
      "image/png": "[encoded data removed]",
      "text/plain": [
       "<Figure size 432x288 with 2 Axes>"
      ]
     },
     "metadata": {
      "needs_background": "light"
     },
     "output_type": "display_data"
    }
   ],
   "source": [
    "# cm = confusion_matrix(y_test, predictions, labels=clf.classes_)\n",
    "disp = ConfusionMatrixDisplay(confusion_matrix=conf_matrix, display_labels=[\"bad_credit (0)\",\"good_credit (1)\"])\n",
    "\n",
    "disp.plot()\n",
    "plt.show()"
   ]
  },
  {
   "cell_type": "markdown",
   "metadata": {
    "id": "kojOZPLybCSv"
   },
   "source": [
    "**TODO: Based on this confusion matrix, input the number of true positives, false positives, true negatives, and false negatives:**"
   ]
  },
  {
   "cell_type": "code",
   "execution_count": null,
   "metadata": {
    "id": "D3Av4Eu0ZjFN"
   },
   "outputs": [],
   "source": [
    "true_positive  = 0#@param {type:\"number\"}\n",
    "false_positive = 0#@param {type:\"number\"}\n",
    "true_negative  = 0#@param {type:\"number\"}\n",
    "false_negative = 0#@param {type:\"number\"}"
   ]
  },
  {
   "cell_type": "markdown",
   "metadata": {
    "id": "pOKUOXBh6rh0"
   },
   "source": [
    "Calculate the false positive rate:\n",
    "\n",
    "FPR = FP / (FP+TN)"
   ]
  },
  {
   "cell_type": "code",
   "execution_count": null,
   "metadata": {
    "id": "VrkCFBzAZa2R"
   },
   "outputs": [],
   "source": [
    "# write code to calculate the false positive rate for all applicants\n",
    "# in this code cell"
   ]
  },
  {
   "cell_type": "markdown",
   "metadata": {
    "id": "WgmNak0ob2C8"
   },
   "source": [
    "Calculate the false *negative* rate:\n",
    "\n",
    "FNR = FN / (FN+TP)"
   ]
  },
  {
   "cell_type": "code",
   "execution_count": null,
   "metadata": {
    "id": "46bwGfLba3ij"
   },
   "outputs": [],
   "source": [
    "# write code to calculate the false negative rate for all applicants\n",
    "# in this code cell"
   ]
  },
  {
   "cell_type": "markdown",
   "metadata": {
    "id": "w6jHN6nWcP3X"
   },
   "source": [
    "**TODO: Take a moment to review the false positive rate and false negative rate above. For this application, comment on whether one metric is more desired over another?**"
   ]
  },
  {
   "cell_type": "markdown",
   "metadata": {},
   "source": [
    "#### 4.8. Now, let's try another popular machine learning model, a Random Forest Classifier. You only need to change step 4.4 above, evaluate the trained random forest and compute the statistics as in step 4.7. You may also use hyperparameter tuning and compare the best random forest classifier with the best logistic regression classifier.\n",
    "\n",
    "**TODO: Compare your results (accuracy and AUC) for the two models and comment on the similarities and differences in their performances.**"
   ]
  },
  {
   "cell_type": "markdown",
   "metadata": {
    "id": "06n4G0ShMTWY"
   },
   "source": [
    "# Submitting this Assignment Notebook\n",
    "\n",
    "Once complete, please submit your assignment notebook as an attachment under \"Assignments > Assignment 1\" on Brightspace. You can download a copy of your notebook using ```File > Download .ipynb```. Please ensure you submit the `.ipynb` file (and not a `.py` file)."
   ]
  }
 ],
 "metadata": {
  "colab": {
   "collapsed_sections": [
    "355LmyCRd_sZ",
    "JI0slRqXFyXZ",
    "06n4G0ShMTWY"
   ],
   "name": "lab_1",
   "provenance": []
  },
  "kernelspec": {
   "display_name": "Python 3",
   "language": "python",
   "name": "python3"
  },
  "language_info": {
   "codemirror_mode": {
    "name": "ipython",
    "version": 3
   },
   "file_extension": ".py",
   "mimetype": "text/x-python",
   "name": "python",
   "nbconvert_exporter": "python",
   "pygments_lexer": "ipython3",
   "version": "3.8.8"
  }
 },
 "nbformat": 4,
 "nbformat_minor": 4
}
